{
 "cells": [
  {
   "cell_type": "code",
   "execution_count": 1,
   "metadata": {
    "_cell_guid": "b1076dfc-b9ad-4769-8c92-a6c4dae69d19",
    "_uuid": "8f2839f25d086af736a60e9eeb907d3b93b6e0e5",
    "colab": {},
    "colab_type": "code",
    "id": "U2D2gTdJVp90"
   },
   "outputs": [],
   "source": [
    "import numpy as np\n",
    "import pandas as pd\n",
    "import seaborn as sns\n",
    "import matplotlib.pyplot as plt\n",
    "from collections import Counter"
   ]
  },
  {
   "cell_type": "code",
   "execution_count": 2,
   "metadata": {
    "_cell_guid": "79c7e3d0-c299-4dcb-8224-4455121ee9b0",
    "_uuid": "d629ff2d2480ee46fbb7e2d37f6b5fab8052498a",
    "colab": {},
    "colab_type": "code",
    "id": "oyGfxL3eVp9-"
   },
   "outputs": [
    {
     "data": {
      "text/html": [
       "<div>\n",
       "<style scoped>\n",
       "    .dataframe tbody tr th:only-of-type {\n",
       "        vertical-align: middle;\n",
       "    }\n",
       "\n",
       "    .dataframe tbody tr th {\n",
       "        vertical-align: top;\n",
       "    }\n",
       "\n",
       "    .dataframe thead th {\n",
       "        text-align: right;\n",
       "    }\n",
       "</style>\n",
       "<table border=\"1\" class=\"dataframe\">\n",
       "  <thead>\n",
       "    <tr style=\"text-align: right;\">\n",
       "      <th></th>\n",
       "      <th>imdb_id</th>\n",
       "      <th>budget</th>\n",
       "      <th>revenue</th>\n",
       "      <th>original_title</th>\n",
       "      <th>cast</th>\n",
       "      <th>director</th>\n",
       "      <th>tagline</th>\n",
       "      <th>overview</th>\n",
       "      <th>runtime</th>\n",
       "      <th>genres</th>\n",
       "      <th>production_companies</th>\n",
       "      <th>release_date</th>\n",
       "      <th>vote_average</th>\n",
       "      <th>release_year</th>\n",
       "    </tr>\n",
       "  </thead>\n",
       "  <tbody>\n",
       "    <tr>\n",
       "      <th>1317</th>\n",
       "      <td>tt0367594</td>\n",
       "      <td>150000000</td>\n",
       "      <td>474968763</td>\n",
       "      <td>Charlie and the Chocolate Factory</td>\n",
       "      <td>Johnny Depp|Freddie Highmore|AnnaSophia Robb|J...</td>\n",
       "      <td>Tim Burton</td>\n",
       "      <td>Willy Wonka is semi-sweet and nuts.</td>\n",
       "      <td>A young boy wins a tour through the most magni...</td>\n",
       "      <td>115</td>\n",
       "      <td>Adventure|Comedy|Family|Fantasy</td>\n",
       "      <td>Village Roadshow Pictures|The Zanuck Company|W...</td>\n",
       "      <td>7/9/2005</td>\n",
       "      <td>6.5</td>\n",
       "      <td>2005</td>\n",
       "    </tr>\n",
       "    <tr>\n",
       "      <th>1514</th>\n",
       "      <td>tt0400717</td>\n",
       "      <td>85000000</td>\n",
       "      <td>197309027</td>\n",
       "      <td>Open Season</td>\n",
       "      <td>Martin Lawrence|Ashton Kutcher|Gary Sinise|Deb...</td>\n",
       "      <td>Roger Allers|Jill Culton|Anthony Stacchi</td>\n",
       "      <td>One Fur All &amp; All Fur One</td>\n",
       "      <td>Boog, a domesticated 900lb. Grizzly bear finds...</td>\n",
       "      <td>83</td>\n",
       "      <td>Adventure|Animation|Family</td>\n",
       "      <td>Sony Pictures Animation</td>\n",
       "      <td>9/29/2006</td>\n",
       "      <td>6.1</td>\n",
       "      <td>2006</td>\n",
       "    </tr>\n",
       "    <tr>\n",
       "      <th>378</th>\n",
       "      <td>tt1130884</td>\n",
       "      <td>80000000</td>\n",
       "      <td>294804195</td>\n",
       "      <td>Shutter Island</td>\n",
       "      <td>Leonardo DiCaprio|Mark Ruffalo|Ben Kingsley|Em...</td>\n",
       "      <td>Martin Scorsese</td>\n",
       "      <td>Someone is missing.</td>\n",
       "      <td>World War II soldier-turned-U.S. Marshal. Tedd...</td>\n",
       "      <td>138</td>\n",
       "      <td>Drama|Thriller|Mystery</td>\n",
       "      <td>Paramount Pictures|Appian Way|Phoenix Pictures...</td>\n",
       "      <td>2/18/2010</td>\n",
       "      <td>7.6</td>\n",
       "      <td>2010</td>\n",
       "    </tr>\n",
       "    <tr>\n",
       "      <th>1096</th>\n",
       "      <td>tt0317740</td>\n",
       "      <td>60000000</td>\n",
       "      <td>176070171</td>\n",
       "      <td>The Italian Job</td>\n",
       "      <td>Mark Wahlberg|Charlize Theron|Jason Statham|Ed...</td>\n",
       "      <td>F. Gary Gray</td>\n",
       "      <td>Get in. Get out. Get even.</td>\n",
       "      <td>After being betrayed and left for dead in Ital...</td>\n",
       "      <td>111</td>\n",
       "      <td>Thriller|Action|Crime</td>\n",
       "      <td>Paramount Pictures|De Line Pictures|Working Ti...</td>\n",
       "      <td>5/30/2003</td>\n",
       "      <td>6.6</td>\n",
       "      <td>2003</td>\n",
       "    </tr>\n",
       "    <tr>\n",
       "      <th>569</th>\n",
       "      <td>tt0268995</td>\n",
       "      <td>72000000</td>\n",
       "      <td>37317558</td>\n",
       "      <td>The Majestic</td>\n",
       "      <td>Jim Carrey|Martin Landau|Laurie Holden|David O...</td>\n",
       "      <td>Frank Darabont</td>\n",
       "      <td>Sometimes your life comes into focus one frame...</td>\n",
       "      <td>Set in 1951, a blacklisted Hollywood writer ge...</td>\n",
       "      <td>152</td>\n",
       "      <td>Drama|Romance</td>\n",
       "      <td>Village Roadshow Pictures|Castle Rock Entertai...</td>\n",
       "      <td>12/21/2001</td>\n",
       "      <td>6.5</td>\n",
       "      <td>2001</td>\n",
       "    </tr>\n",
       "  </tbody>\n",
       "</table>\n",
       "</div>"
      ],
      "text/plain": [
       "        imdb_id     budget    revenue                     original_title  \\\n",
       "1317  tt0367594  150000000  474968763  Charlie and the Chocolate Factory   \n",
       "1514  tt0400717   85000000  197309027                        Open Season   \n",
       "378   tt1130884   80000000  294804195                     Shutter Island   \n",
       "1096  tt0317740   60000000  176070171                    The Italian Job   \n",
       "569   tt0268995   72000000   37317558                       The Majestic   \n",
       "\n",
       "                                                   cast  \\\n",
       "1317  Johnny Depp|Freddie Highmore|AnnaSophia Robb|J...   \n",
       "1514  Martin Lawrence|Ashton Kutcher|Gary Sinise|Deb...   \n",
       "378   Leonardo DiCaprio|Mark Ruffalo|Ben Kingsley|Em...   \n",
       "1096  Mark Wahlberg|Charlize Theron|Jason Statham|Ed...   \n",
       "569   Jim Carrey|Martin Landau|Laurie Holden|David O...   \n",
       "\n",
       "                                      director  \\\n",
       "1317                                Tim Burton   \n",
       "1514  Roger Allers|Jill Culton|Anthony Stacchi   \n",
       "378                            Martin Scorsese   \n",
       "1096                              F. Gary Gray   \n",
       "569                             Frank Darabont   \n",
       "\n",
       "                                                tagline  \\\n",
       "1317                Willy Wonka is semi-sweet and nuts.   \n",
       "1514                          One Fur All & All Fur One   \n",
       "378                                 Someone is missing.   \n",
       "1096                         Get in. Get out. Get even.   \n",
       "569   Sometimes your life comes into focus one frame...   \n",
       "\n",
       "                                               overview  runtime  \\\n",
       "1317  A young boy wins a tour through the most magni...      115   \n",
       "1514  Boog, a domesticated 900lb. Grizzly bear finds...       83   \n",
       "378   World War II soldier-turned-U.S. Marshal. Tedd...      138   \n",
       "1096  After being betrayed and left for dead in Ital...      111   \n",
       "569   Set in 1951, a blacklisted Hollywood writer ge...      152   \n",
       "\n",
       "                               genres  \\\n",
       "1317  Adventure|Comedy|Family|Fantasy   \n",
       "1514       Adventure|Animation|Family   \n",
       "378            Drama|Thriller|Mystery   \n",
       "1096            Thriller|Action|Crime   \n",
       "569                     Drama|Romance   \n",
       "\n",
       "                                   production_companies release_date  \\\n",
       "1317  Village Roadshow Pictures|The Zanuck Company|W...     7/9/2005   \n",
       "1514                            Sony Pictures Animation    9/29/2006   \n",
       "378   Paramount Pictures|Appian Way|Phoenix Pictures...    2/18/2010   \n",
       "1096  Paramount Pictures|De Line Pictures|Working Ti...    5/30/2003   \n",
       "569   Village Roadshow Pictures|Castle Rock Entertai...   12/21/2001   \n",
       "\n",
       "      vote_average  release_year  \n",
       "1317           6.5          2005  \n",
       "1514           6.1          2006  \n",
       "378            7.6          2010  \n",
       "1096           6.6          2003  \n",
       "569            6.5          2001  "
      ]
     },
     "execution_count": 2,
     "metadata": {},
     "output_type": "execute_result"
    }
   ],
   "source": [
    "data = pd.read_csv('movie_bd_v5.csv')\n",
    "data.sample(5)"
   ]
  },
  {
   "cell_type": "code",
   "execution_count": 3,
   "metadata": {
    "colab": {},
    "colab_type": "code",
    "id": "CoYUnagMVp-C"
   },
   "outputs": [
    {
     "data": {
      "text/html": [
       "<div>\n",
       "<style scoped>\n",
       "    .dataframe tbody tr th:only-of-type {\n",
       "        vertical-align: middle;\n",
       "    }\n",
       "\n",
       "    .dataframe tbody tr th {\n",
       "        vertical-align: top;\n",
       "    }\n",
       "\n",
       "    .dataframe thead th {\n",
       "        text-align: right;\n",
       "    }\n",
       "</style>\n",
       "<table border=\"1\" class=\"dataframe\">\n",
       "  <thead>\n",
       "    <tr style=\"text-align: right;\">\n",
       "      <th></th>\n",
       "      <th>budget</th>\n",
       "      <th>revenue</th>\n",
       "      <th>runtime</th>\n",
       "      <th>vote_average</th>\n",
       "      <th>release_year</th>\n",
       "    </tr>\n",
       "  </thead>\n",
       "  <tbody>\n",
       "    <tr>\n",
       "      <th>count</th>\n",
       "      <td>1.889000e+03</td>\n",
       "      <td>1.889000e+03</td>\n",
       "      <td>1889.000000</td>\n",
       "      <td>1889.000000</td>\n",
       "      <td>1889.000000</td>\n",
       "    </tr>\n",
       "    <tr>\n",
       "      <th>mean</th>\n",
       "      <td>5.431083e+07</td>\n",
       "      <td>1.553653e+08</td>\n",
       "      <td>109.658549</td>\n",
       "      <td>6.140762</td>\n",
       "      <td>2007.860773</td>\n",
       "    </tr>\n",
       "    <tr>\n",
       "      <th>std</th>\n",
       "      <td>4.858721e+07</td>\n",
       "      <td>2.146698e+08</td>\n",
       "      <td>18.017041</td>\n",
       "      <td>0.764763</td>\n",
       "      <td>4.468841</td>\n",
       "    </tr>\n",
       "    <tr>\n",
       "      <th>min</th>\n",
       "      <td>5.000000e+06</td>\n",
       "      <td>2.033165e+06</td>\n",
       "      <td>63.000000</td>\n",
       "      <td>3.300000</td>\n",
       "      <td>2000.000000</td>\n",
       "    </tr>\n",
       "    <tr>\n",
       "      <th>25%</th>\n",
       "      <td>2.000000e+07</td>\n",
       "      <td>3.456058e+07</td>\n",
       "      <td>97.000000</td>\n",
       "      <td>5.600000</td>\n",
       "      <td>2004.000000</td>\n",
       "    </tr>\n",
       "    <tr>\n",
       "      <th>50%</th>\n",
       "      <td>3.800000e+07</td>\n",
       "      <td>8.361541e+07</td>\n",
       "      <td>107.000000</td>\n",
       "      <td>6.100000</td>\n",
       "      <td>2008.000000</td>\n",
       "    </tr>\n",
       "    <tr>\n",
       "      <th>75%</th>\n",
       "      <td>7.200000e+07</td>\n",
       "      <td>1.782626e+08</td>\n",
       "      <td>120.000000</td>\n",
       "      <td>6.600000</td>\n",
       "      <td>2012.000000</td>\n",
       "    </tr>\n",
       "    <tr>\n",
       "      <th>max</th>\n",
       "      <td>3.800000e+08</td>\n",
       "      <td>2.781506e+09</td>\n",
       "      <td>214.000000</td>\n",
       "      <td>8.100000</td>\n",
       "      <td>2015.000000</td>\n",
       "    </tr>\n",
       "  </tbody>\n",
       "</table>\n",
       "</div>"
      ],
      "text/plain": [
       "             budget       revenue      runtime  vote_average  release_year\n",
       "count  1.889000e+03  1.889000e+03  1889.000000   1889.000000   1889.000000\n",
       "mean   5.431083e+07  1.553653e+08   109.658549      6.140762   2007.860773\n",
       "std    4.858721e+07  2.146698e+08    18.017041      0.764763      4.468841\n",
       "min    5.000000e+06  2.033165e+06    63.000000      3.300000   2000.000000\n",
       "25%    2.000000e+07  3.456058e+07    97.000000      5.600000   2004.000000\n",
       "50%    3.800000e+07  8.361541e+07   107.000000      6.100000   2008.000000\n",
       "75%    7.200000e+07  1.782626e+08   120.000000      6.600000   2012.000000\n",
       "max    3.800000e+08  2.781506e+09   214.000000      8.100000   2015.000000"
      ]
     },
     "execution_count": 3,
     "metadata": {},
     "output_type": "execute_result"
    }
   ],
   "source": [
    "data.describe()"
   ]
  },
  {
   "cell_type": "markdown",
   "metadata": {
    "colab_type": "text",
    "id": "DTIt7ezGVp-G"
   },
   "source": [
    "# Предобработка"
   ]
  },
  {
   "cell_type": "code",
   "execution_count": 4,
   "metadata": {
    "colab": {},
    "colab_type": "code",
    "id": "jNb40DwKVp-H"
   },
   "outputs": [],
   "source": [
    "answers = {}  # создадим словарь для ответов"
   ]
  },
  {
   "cell_type": "code",
   "execution_count": 18,
   "metadata": {},
   "outputs": [],
   "source": [
    "data['profit'] = data.revenue - data.budget  # создаем колонку profit"
   ]
  },
  {
   "cell_type": "code",
   "execution_count": 71,
   "metadata": {},
   "outputs": [],
   "source": [
    "# Сейчас колонка genres содержит строковые величины со множеством жанров с разделителем |\n",
    "# Преобразуем ее в ряд, чтобы работать с каждым жанром в отдельности\n",
    "\n",
    "\n",
    "def split_func(x):\n",
    "    return x.split('|')"
   ]
  },
  {
   "cell_type": "code",
   "execution_count": 163,
   "metadata": {},
   "outputs": [],
   "source": [
    "# Функция, которая будет возвращать нам месяц из даты - для заданий 21-23\n",
    "# Берет дату, превращает ее в строку, разделяет по \"/\", отрезает первый элемент\n",
    "\n",
    "\n",
    "def split_date(x):\n",
    "    return str(x).split('/')[0]"
   ]
  },
  {
   "cell_type": "code",
   "execution_count": 188,
   "metadata": {},
   "outputs": [],
   "source": [
    "# А вообще для удобства создадим-ка еще колонку с месяцем релиза - тогда задания станут понятными\n",
    "\n",
    "data['release_month'] = data.release_date.apply(split_date)"
   ]
  },
  {
   "cell_type": "code",
   "execution_count": 214,
   "metadata": {},
   "outputs": [],
   "source": [
    "# пусть будет больше колонок - зато какой понятный получается код! добавим длину названия\n",
    "\n",
    "\n",
    "def length(x):\n",
    "    return len(x)\n",
    "\n",
    "\n",
    "data['title_length'] = data.original_title.apply(length)"
   ]
  },
  {
   "cell_type": "code",
   "execution_count": 247,
   "metadata": {},
   "outputs": [],
   "source": [
    "# количество слов в названии тоже проще всего добавить колонкой\n",
    "\n",
    "\n",
    "def words(x):\n",
    "    return len(x.split(' '))\n",
    "\n",
    "\n",
    "data['words_in_overview'] = data.overview.apply(words)"
   ]
  },
  {
   "cell_type": "code",
   "execution_count": 248,
   "metadata": {},
   "outputs": [
    {
     "data": {
      "text/html": [
       "<div>\n",
       "<style scoped>\n",
       "    .dataframe tbody tr th:only-of-type {\n",
       "        vertical-align: middle;\n",
       "    }\n",
       "\n",
       "    .dataframe tbody tr th {\n",
       "        vertical-align: top;\n",
       "    }\n",
       "\n",
       "    .dataframe thead th {\n",
       "        text-align: right;\n",
       "    }\n",
       "</style>\n",
       "<table border=\"1\" class=\"dataframe\">\n",
       "  <thead>\n",
       "    <tr style=\"text-align: right;\">\n",
       "      <th></th>\n",
       "      <th>imdb_id</th>\n",
       "      <th>budget</th>\n",
       "      <th>revenue</th>\n",
       "      <th>original_title</th>\n",
       "      <th>cast</th>\n",
       "      <th>director</th>\n",
       "      <th>tagline</th>\n",
       "      <th>overview</th>\n",
       "      <th>runtime</th>\n",
       "      <th>genres</th>\n",
       "      <th>production_companies</th>\n",
       "      <th>release_date</th>\n",
       "      <th>vote_average</th>\n",
       "      <th>release_year</th>\n",
       "      <th>profit</th>\n",
       "      <th>release_month</th>\n",
       "      <th>title_length</th>\n",
       "      <th>words_in_title</th>\n",
       "      <th>words_in_overview</th>\n",
       "    </tr>\n",
       "  </thead>\n",
       "  <tbody>\n",
       "    <tr>\n",
       "      <th>0</th>\n",
       "      <td>tt0369610</td>\n",
       "      <td>150000000</td>\n",
       "      <td>1513528810</td>\n",
       "      <td>Jurassic World</td>\n",
       "      <td>Chris Pratt|Bryce Dallas Howard|Irrfan Khan|Vi...</td>\n",
       "      <td>Colin Trevorrow</td>\n",
       "      <td>The park is open.</td>\n",
       "      <td>Twenty-two years after the events of Jurassic ...</td>\n",
       "      <td>124</td>\n",
       "      <td>Action|Adventure|Science Fiction|Thriller</td>\n",
       "      <td>Universal Studios|Amblin Entertainment|Legenda...</td>\n",
       "      <td>6/9/2015</td>\n",
       "      <td>6.5</td>\n",
       "      <td>2015</td>\n",
       "      <td>1363528810</td>\n",
       "      <td>6</td>\n",
       "      <td>14</td>\n",
       "      <td>2</td>\n",
       "      <td>26</td>\n",
       "    </tr>\n",
       "    <tr>\n",
       "      <th>1</th>\n",
       "      <td>tt1392190</td>\n",
       "      <td>150000000</td>\n",
       "      <td>378436354</td>\n",
       "      <td>Mad Max: Fury Road</td>\n",
       "      <td>Tom Hardy|Charlize Theron|Hugh Keays-Byrne|Nic...</td>\n",
       "      <td>George Miller</td>\n",
       "      <td>What a Lovely Day.</td>\n",
       "      <td>An apocalyptic story set in the furthest reach...</td>\n",
       "      <td>120</td>\n",
       "      <td>Action|Adventure|Science Fiction|Thriller</td>\n",
       "      <td>Village Roadshow Pictures|Kennedy Miller Produ...</td>\n",
       "      <td>5/13/2015</td>\n",
       "      <td>7.1</td>\n",
       "      <td>2015</td>\n",
       "      <td>228436354</td>\n",
       "      <td>5</td>\n",
       "      <td>18</td>\n",
       "      <td>4</td>\n",
       "      <td>110</td>\n",
       "    </tr>\n",
       "    <tr>\n",
       "      <th>2</th>\n",
       "      <td>tt2908446</td>\n",
       "      <td>110000000</td>\n",
       "      <td>295238201</td>\n",
       "      <td>Insurgent</td>\n",
       "      <td>Shailene Woodley|Theo James|Kate Winslet|Ansel...</td>\n",
       "      <td>Robert Schwentke</td>\n",
       "      <td>One Choice Can Destroy You</td>\n",
       "      <td>Beatrice Prior must confront her inner demons ...</td>\n",
       "      <td>119</td>\n",
       "      <td>Adventure|Science Fiction|Thriller</td>\n",
       "      <td>Summit Entertainment|Mandeville Films|Red Wago...</td>\n",
       "      <td>3/18/2015</td>\n",
       "      <td>6.3</td>\n",
       "      <td>2015</td>\n",
       "      <td>185238201</td>\n",
       "      <td>3</td>\n",
       "      <td>9</td>\n",
       "      <td>1</td>\n",
       "      <td>22</td>\n",
       "    </tr>\n",
       "    <tr>\n",
       "      <th>3</th>\n",
       "      <td>tt2488496</td>\n",
       "      <td>200000000</td>\n",
       "      <td>2068178225</td>\n",
       "      <td>Star Wars: The Force Awakens</td>\n",
       "      <td>Harrison Ford|Mark Hamill|Carrie Fisher|Adam D...</td>\n",
       "      <td>J.J. Abrams</td>\n",
       "      <td>Every generation has a story.</td>\n",
       "      <td>Thirty years after defeating the Galactic Empi...</td>\n",
       "      <td>136</td>\n",
       "      <td>Action|Adventure|Science Fiction|Fantasy</td>\n",
       "      <td>Lucasfilm|Truenorth Productions|Bad Robot</td>\n",
       "      <td>12/15/2015</td>\n",
       "      <td>7.5</td>\n",
       "      <td>2015</td>\n",
       "      <td>1868178225</td>\n",
       "      <td>12</td>\n",
       "      <td>28</td>\n",
       "      <td>5</td>\n",
       "      <td>26</td>\n",
       "    </tr>\n",
       "    <tr>\n",
       "      <th>4</th>\n",
       "      <td>tt2820852</td>\n",
       "      <td>190000000</td>\n",
       "      <td>1506249360</td>\n",
       "      <td>Furious 7</td>\n",
       "      <td>Vin Diesel|Paul Walker|Jason Statham|Michelle ...</td>\n",
       "      <td>James Wan</td>\n",
       "      <td>Vengeance Hits Home</td>\n",
       "      <td>Deckard Shaw seeks revenge against Dominic Tor...</td>\n",
       "      <td>137</td>\n",
       "      <td>Action|Crime|Thriller</td>\n",
       "      <td>Universal Pictures|Original Film|Media Rights ...</td>\n",
       "      <td>4/1/2015</td>\n",
       "      <td>7.3</td>\n",
       "      <td>2015</td>\n",
       "      <td>1316249360</td>\n",
       "      <td>4</td>\n",
       "      <td>9</td>\n",
       "      <td>2</td>\n",
       "      <td>14</td>\n",
       "    </tr>\n",
       "    <tr>\n",
       "      <th>...</th>\n",
       "      <td>...</td>\n",
       "      <td>...</td>\n",
       "      <td>...</td>\n",
       "      <td>...</td>\n",
       "      <td>...</td>\n",
       "      <td>...</td>\n",
       "      <td>...</td>\n",
       "      <td>...</td>\n",
       "      <td>...</td>\n",
       "      <td>...</td>\n",
       "      <td>...</td>\n",
       "      <td>...</td>\n",
       "      <td>...</td>\n",
       "      <td>...</td>\n",
       "      <td>...</td>\n",
       "      <td>...</td>\n",
       "      <td>...</td>\n",
       "      <td>...</td>\n",
       "      <td>...</td>\n",
       "    </tr>\n",
       "    <tr>\n",
       "      <th>1884</th>\n",
       "      <td>tt0120903</td>\n",
       "      <td>75000000</td>\n",
       "      <td>157299717</td>\n",
       "      <td>X-Men</td>\n",
       "      <td>Patrick Stewart|Hugh Jackman|Ian McKellen|Hall...</td>\n",
       "      <td>Bryan Singer</td>\n",
       "      <td>Evolution Begins</td>\n",
       "      <td>Two mutants, Rogue and Wolverine, come to a pr...</td>\n",
       "      <td>104</td>\n",
       "      <td>Adventure|Action|Science Fiction</td>\n",
       "      <td>Twentieth Century Fox Film Corporation|Donners...</td>\n",
       "      <td>7/13/2000</td>\n",
       "      <td>6.6</td>\n",
       "      <td>2000</td>\n",
       "      <td>82299717</td>\n",
       "      <td>7</td>\n",
       "      <td>5</td>\n",
       "      <td>1</td>\n",
       "      <td>27</td>\n",
       "    </tr>\n",
       "    <tr>\n",
       "      <th>1885</th>\n",
       "      <td>tt0192255</td>\n",
       "      <td>22000000</td>\n",
       "      <td>13555988</td>\n",
       "      <td>The Little Vampire</td>\n",
       "      <td>Richard E. Grant|Jonathan Lipnicki|Jim Carter|...</td>\n",
       "      <td>Uli Edel</td>\n",
       "      <td>They're not just best friends, they're blood b...</td>\n",
       "      <td>Based on the popular books, the story tells of...</td>\n",
       "      <td>95</td>\n",
       "      <td>Horror|Family|Foreign</td>\n",
       "      <td>New Line Cinema</td>\n",
       "      <td>10/27/2000</td>\n",
       "      <td>6.4</td>\n",
       "      <td>2000</td>\n",
       "      <td>-8444012</td>\n",
       "      <td>10</td>\n",
       "      <td>18</td>\n",
       "      <td>3</td>\n",
       "      <td>75</td>\n",
       "    </tr>\n",
       "    <tr>\n",
       "      <th>1886</th>\n",
       "      <td>tt0131704</td>\n",
       "      <td>76000000</td>\n",
       "      <td>35134820</td>\n",
       "      <td>The Adventures of Rocky &amp; Bullwinkle</td>\n",
       "      <td>Rene Russo|Jason Alexander|Piper Perabo|Randy ...</td>\n",
       "      <td>Des McAnuff</td>\n",
       "      <td>This summer it's not the same old bull.</td>\n",
       "      <td>Rocky and Bullwinkle have been living off the ...</td>\n",
       "      <td>88</td>\n",
       "      <td>Adventure|Animation|Action|Comedy|Family</td>\n",
       "      <td>Universal Pictures|Capella International|KC Me...</td>\n",
       "      <td>6/30/2000</td>\n",
       "      <td>4.0</td>\n",
       "      <td>2000</td>\n",
       "      <td>-40865180</td>\n",
       "      <td>6</td>\n",
       "      <td>36</td>\n",
       "      <td>6</td>\n",
       "      <td>58</td>\n",
       "    </tr>\n",
       "    <tr>\n",
       "      <th>1887</th>\n",
       "      <td>tt0162983</td>\n",
       "      <td>40000000</td>\n",
       "      <td>36037909</td>\n",
       "      <td>Hanging Up</td>\n",
       "      <td>Meg Ryan|Diane Keaton|Lisa Kudrow|Walter Matth...</td>\n",
       "      <td>Diane Keaton</td>\n",
       "      <td>Every family has a few hang-ups.</td>\n",
       "      <td>A trio of sisters bond over their ambivalence ...</td>\n",
       "      <td>94</td>\n",
       "      <td>Comedy|Drama</td>\n",
       "      <td>Laurence Mark Productions|Columbia Pictures Co...</td>\n",
       "      <td>2/16/2000</td>\n",
       "      <td>5.2</td>\n",
       "      <td>2000</td>\n",
       "      <td>-3962091</td>\n",
       "      <td>2</td>\n",
       "      <td>10</td>\n",
       "      <td>2</td>\n",
       "      <td>24</td>\n",
       "    </tr>\n",
       "    <tr>\n",
       "      <th>1888</th>\n",
       "      <td>tt0163676</td>\n",
       "      <td>15000000</td>\n",
       "      <td>5217498</td>\n",
       "      <td>The In Crowd</td>\n",
       "      <td>Susan Ward|Lori Heuring|Matthew Settle|Nathan ...</td>\n",
       "      <td>Mary Lambert</td>\n",
       "      <td>What would you do to get in?</td>\n",
       "      <td>A mentally disturbed young woman takes a job a...</td>\n",
       "      <td>105</td>\n",
       "      <td>Thriller</td>\n",
       "      <td>Warner Bros. Pictures</td>\n",
       "      <td>7/19/2000</td>\n",
       "      <td>5.2</td>\n",
       "      <td>2000</td>\n",
       "      <td>-9782502</td>\n",
       "      <td>7</td>\n",
       "      <td>12</td>\n",
       "      <td>3</td>\n",
       "      <td>43</td>\n",
       "    </tr>\n",
       "  </tbody>\n",
       "</table>\n",
       "<p>1889 rows × 19 columns</p>\n",
       "</div>"
      ],
      "text/plain": [
       "        imdb_id     budget     revenue                        original_title  \\\n",
       "0     tt0369610  150000000  1513528810                        Jurassic World   \n",
       "1     tt1392190  150000000   378436354                    Mad Max: Fury Road   \n",
       "2     tt2908446  110000000   295238201                             Insurgent   \n",
       "3     tt2488496  200000000  2068178225          Star Wars: The Force Awakens   \n",
       "4     tt2820852  190000000  1506249360                             Furious 7   \n",
       "...         ...        ...         ...                                   ...   \n",
       "1884  tt0120903   75000000   157299717                                 X-Men   \n",
       "1885  tt0192255   22000000    13555988                    The Little Vampire   \n",
       "1886  tt0131704   76000000    35134820  The Adventures of Rocky & Bullwinkle   \n",
       "1887  tt0162983   40000000    36037909                            Hanging Up   \n",
       "1888  tt0163676   15000000     5217498                          The In Crowd   \n",
       "\n",
       "                                                   cast          director  \\\n",
       "0     Chris Pratt|Bryce Dallas Howard|Irrfan Khan|Vi...   Colin Trevorrow   \n",
       "1     Tom Hardy|Charlize Theron|Hugh Keays-Byrne|Nic...     George Miller   \n",
       "2     Shailene Woodley|Theo James|Kate Winslet|Ansel...  Robert Schwentke   \n",
       "3     Harrison Ford|Mark Hamill|Carrie Fisher|Adam D...       J.J. Abrams   \n",
       "4     Vin Diesel|Paul Walker|Jason Statham|Michelle ...         James Wan   \n",
       "...                                                 ...               ...   \n",
       "1884  Patrick Stewart|Hugh Jackman|Ian McKellen|Hall...      Bryan Singer   \n",
       "1885  Richard E. Grant|Jonathan Lipnicki|Jim Carter|...          Uli Edel   \n",
       "1886  Rene Russo|Jason Alexander|Piper Perabo|Randy ...       Des McAnuff   \n",
       "1887  Meg Ryan|Diane Keaton|Lisa Kudrow|Walter Matth...      Diane Keaton   \n",
       "1888  Susan Ward|Lori Heuring|Matthew Settle|Nathan ...      Mary Lambert   \n",
       "\n",
       "                                                tagline  \\\n",
       "0                                     The park is open.   \n",
       "1                                    What a Lovely Day.   \n",
       "2                            One Choice Can Destroy You   \n",
       "3                         Every generation has a story.   \n",
       "4                                   Vengeance Hits Home   \n",
       "...                                                 ...   \n",
       "1884                                   Evolution Begins   \n",
       "1885  They're not just best friends, they're blood b...   \n",
       "1886            This summer it's not the same old bull.   \n",
       "1887                   Every family has a few hang-ups.   \n",
       "1888                       What would you do to get in?   \n",
       "\n",
       "                                               overview  runtime  \\\n",
       "0     Twenty-two years after the events of Jurassic ...      124   \n",
       "1     An apocalyptic story set in the furthest reach...      120   \n",
       "2     Beatrice Prior must confront her inner demons ...      119   \n",
       "3     Thirty years after defeating the Galactic Empi...      136   \n",
       "4     Deckard Shaw seeks revenge against Dominic Tor...      137   \n",
       "...                                                 ...      ...   \n",
       "1884  Two mutants, Rogue and Wolverine, come to a pr...      104   \n",
       "1885  Based on the popular books, the story tells of...       95   \n",
       "1886  Rocky and Bullwinkle have been living off the ...       88   \n",
       "1887  A trio of sisters bond over their ambivalence ...       94   \n",
       "1888  A mentally disturbed young woman takes a job a...      105   \n",
       "\n",
       "                                         genres  \\\n",
       "0     Action|Adventure|Science Fiction|Thriller   \n",
       "1     Action|Adventure|Science Fiction|Thriller   \n",
       "2            Adventure|Science Fiction|Thriller   \n",
       "3      Action|Adventure|Science Fiction|Fantasy   \n",
       "4                         Action|Crime|Thriller   \n",
       "...                                         ...   \n",
       "1884           Adventure|Action|Science Fiction   \n",
       "1885                      Horror|Family|Foreign   \n",
       "1886   Adventure|Animation|Action|Comedy|Family   \n",
       "1887                               Comedy|Drama   \n",
       "1888                                   Thriller   \n",
       "\n",
       "                                   production_companies release_date  \\\n",
       "0     Universal Studios|Amblin Entertainment|Legenda...     6/9/2015   \n",
       "1     Village Roadshow Pictures|Kennedy Miller Produ...    5/13/2015   \n",
       "2     Summit Entertainment|Mandeville Films|Red Wago...    3/18/2015   \n",
       "3             Lucasfilm|Truenorth Productions|Bad Robot   12/15/2015   \n",
       "4     Universal Pictures|Original Film|Media Rights ...     4/1/2015   \n",
       "...                                                 ...          ...   \n",
       "1884  Twentieth Century Fox Film Corporation|Donners...    7/13/2000   \n",
       "1885                                    New Line Cinema   10/27/2000   \n",
       "1886  Universal Pictures|Capella International|KC Me...    6/30/2000   \n",
       "1887  Laurence Mark Productions|Columbia Pictures Co...    2/16/2000   \n",
       "1888                              Warner Bros. Pictures    7/19/2000   \n",
       "\n",
       "      vote_average  release_year      profit  release_month  title_length  \\\n",
       "0              6.5          2015  1363528810              6            14   \n",
       "1              7.1          2015   228436354              5            18   \n",
       "2              6.3          2015   185238201              3             9   \n",
       "3              7.5          2015  1868178225             12            28   \n",
       "4              7.3          2015  1316249360              4             9   \n",
       "...            ...           ...         ...            ...           ...   \n",
       "1884           6.6          2000    82299717              7             5   \n",
       "1885           6.4          2000    -8444012             10            18   \n",
       "1886           4.0          2000   -40865180              6            36   \n",
       "1887           5.2          2000    -3962091              2            10   \n",
       "1888           5.2          2000    -9782502              7            12   \n",
       "\n",
       "      words_in_title  words_in_overview  \n",
       "0                  2                 26  \n",
       "1                  4                110  \n",
       "2                  1                 22  \n",
       "3                  5                 26  \n",
       "4                  2                 14  \n",
       "...              ...                ...  \n",
       "1884               1                 27  \n",
       "1885               3                 75  \n",
       "1886               6                 58  \n",
       "1887               2                 24  \n",
       "1888               3                 43  \n",
       "\n",
       "[1889 rows x 19 columns]"
      ]
     },
     "metadata": {},
     "output_type": "display_data"
    }
   ],
   "source": [
    "display(data)"
   ]
  },
  {
   "cell_type": "markdown",
   "metadata": {
    "colab_type": "text",
    "id": "YxZaH-nPVp-L"
   },
   "source": [
    "# 1. У какого фильма из списка самый большой бюджет?"
   ]
  },
  {
   "cell_type": "markdown",
   "metadata": {
    "colab_type": "text",
    "id": "Nd-G5gX6Vp-M"
   },
   "source": [
    "Использовать варианты ответов в коде решения запрещено.    \n",
    "Вы думаете и в жизни у вас будут варианты ответов?)"
   ]
  },
  {
   "cell_type": "code",
   "execution_count": 10,
   "metadata": {
    "colab": {},
    "colab_type": "code",
    "id": "uVnXAY5RVp-O"
   },
   "outputs": [],
   "source": [
    "answers['1'] = '5. Pirates of the Caribbean: On Stranger Tides (tt1298650)'"
   ]
  },
  {
   "cell_type": "code",
   "execution_count": 7,
   "metadata": {
    "colab": {},
    "colab_type": "code",
    "id": "dZwb3m28Vp-S"
   },
   "outputs": [
    {
     "data": {
      "text/html": [
       "<div>\n",
       "<style scoped>\n",
       "    .dataframe tbody tr th:only-of-type {\n",
       "        vertical-align: middle;\n",
       "    }\n",
       "\n",
       "    .dataframe tbody tr th {\n",
       "        vertical-align: top;\n",
       "    }\n",
       "\n",
       "    .dataframe thead th {\n",
       "        text-align: right;\n",
       "    }\n",
       "</style>\n",
       "<table border=\"1\" class=\"dataframe\">\n",
       "  <thead>\n",
       "    <tr style=\"text-align: right;\">\n",
       "      <th></th>\n",
       "      <th>imdb_id</th>\n",
       "      <th>budget</th>\n",
       "      <th>revenue</th>\n",
       "      <th>original_title</th>\n",
       "      <th>cast</th>\n",
       "      <th>director</th>\n",
       "      <th>tagline</th>\n",
       "      <th>overview</th>\n",
       "      <th>runtime</th>\n",
       "      <th>genres</th>\n",
       "      <th>production_companies</th>\n",
       "      <th>release_date</th>\n",
       "      <th>vote_average</th>\n",
       "      <th>release_year</th>\n",
       "    </tr>\n",
       "  </thead>\n",
       "  <tbody>\n",
       "    <tr>\n",
       "      <th>723</th>\n",
       "      <td>tt1298650</td>\n",
       "      <td>380000000</td>\n",
       "      <td>1021683000</td>\n",
       "      <td>Pirates of the Caribbean: On Stranger Tides</td>\n",
       "      <td>Johnny Depp|PenÃ©lope Cruz|Geoffrey Rush|Ian M...</td>\n",
       "      <td>Rob Marshall</td>\n",
       "      <td>Live Forever Or Die Trying.</td>\n",
       "      <td>Captain Jack Sparrow crosses paths with a woma...</td>\n",
       "      <td>136</td>\n",
       "      <td>Adventure|Action|Fantasy</td>\n",
       "      <td>Walt Disney Pictures|Jerry Bruckheimer Films|M...</td>\n",
       "      <td>5/11/2011</td>\n",
       "      <td>6.3</td>\n",
       "      <td>2011</td>\n",
       "    </tr>\n",
       "  </tbody>\n",
       "</table>\n",
       "</div>"
      ],
      "text/plain": [
       "       imdb_id     budget     revenue  \\\n",
       "723  tt1298650  380000000  1021683000   \n",
       "\n",
       "                                  original_title  \\\n",
       "723  Pirates of the Caribbean: On Stranger Tides   \n",
       "\n",
       "                                                  cast      director  \\\n",
       "723  Johnny Depp|PenÃ©lope Cruz|Geoffrey Rush|Ian M...  Rob Marshall   \n",
       "\n",
       "                         tagline  \\\n",
       "723  Live Forever Or Die Trying.   \n",
       "\n",
       "                                              overview  runtime  \\\n",
       "723  Captain Jack Sparrow crosses paths with a woma...      136   \n",
       "\n",
       "                       genres  \\\n",
       "723  Adventure|Action|Fantasy   \n",
       "\n",
       "                                  production_companies release_date  \\\n",
       "723  Walt Disney Pictures|Jerry Bruckheimer Films|M...    5/11/2011   \n",
       "\n",
       "     vote_average  release_year  \n",
       "723           6.3          2011  "
      ]
     },
     "execution_count": 7,
     "metadata": {},
     "output_type": "execute_result"
    }
   ],
   "source": [
    "data[data.budget == data.budget.max()]"
   ]
  },
  {
   "cell_type": "markdown",
   "metadata": {
    "colab_type": "text",
    "id": "K7L3nbRXVp-X"
   },
   "source": [
    "ВАРИАНТ 2"
   ]
  },
  {
   "cell_type": "code",
   "execution_count": 41,
   "metadata": {
    "colab": {},
    "colab_type": "code",
    "id": "OGaoQI7rVp-X"
   },
   "outputs": [
    {
     "data": {
      "text/plain": [
       "723    Pirates of the Caribbean: On Stranger Tides\n",
       "Name: original_title, dtype: object"
      ]
     },
     "execution_count": 41,
     "metadata": {},
     "output_type": "execute_result"
    }
   ],
   "source": [
    "data.original_title[data['budget'] == data['budget'].max()]\n",
    "# хотя это наверное не покатит за самостоятельный второй вариант, поэтому сделаю пожалуй еще через функцию query :)"
   ]
  },
  {
   "cell_type": "code",
   "execution_count": 48,
   "metadata": {},
   "outputs": [
    {
     "data": {
      "text/html": [
       "<div>\n",
       "<style scoped>\n",
       "    .dataframe tbody tr th:only-of-type {\n",
       "        vertical-align: middle;\n",
       "    }\n",
       "\n",
       "    .dataframe tbody tr th {\n",
       "        vertical-align: top;\n",
       "    }\n",
       "\n",
       "    .dataframe thead th {\n",
       "        text-align: right;\n",
       "    }\n",
       "</style>\n",
       "<table border=\"1\" class=\"dataframe\">\n",
       "  <thead>\n",
       "    <tr style=\"text-align: right;\">\n",
       "      <th></th>\n",
       "      <th>imdb_id</th>\n",
       "      <th>budget</th>\n",
       "      <th>revenue</th>\n",
       "      <th>original_title</th>\n",
       "      <th>cast</th>\n",
       "      <th>director</th>\n",
       "      <th>tagline</th>\n",
       "      <th>overview</th>\n",
       "      <th>runtime</th>\n",
       "      <th>genres</th>\n",
       "      <th>production_companies</th>\n",
       "      <th>release_date</th>\n",
       "      <th>vote_average</th>\n",
       "      <th>release_year</th>\n",
       "      <th>profit</th>\n",
       "    </tr>\n",
       "  </thead>\n",
       "  <tbody>\n",
       "    <tr>\n",
       "      <th>723</th>\n",
       "      <td>tt1298650</td>\n",
       "      <td>380000000</td>\n",
       "      <td>1021683000</td>\n",
       "      <td>Pirates of the Caribbean: On Stranger Tides</td>\n",
       "      <td>Johnny Depp|PenÃ©lope Cruz|Geoffrey Rush|Ian M...</td>\n",
       "      <td>Rob Marshall</td>\n",
       "      <td>Live Forever Or Die Trying.</td>\n",
       "      <td>Captain Jack Sparrow crosses paths with a woma...</td>\n",
       "      <td>136</td>\n",
       "      <td>Adventure|Action|Fantasy</td>\n",
       "      <td>Walt Disney Pictures|Jerry Bruckheimer Films|M...</td>\n",
       "      <td>5/11/2011</td>\n",
       "      <td>6.3</td>\n",
       "      <td>2011</td>\n",
       "      <td>641683000</td>\n",
       "    </tr>\n",
       "  </tbody>\n",
       "</table>\n",
       "</div>"
      ],
      "text/plain": [
       "       imdb_id     budget     revenue  \\\n",
       "723  tt1298650  380000000  1021683000   \n",
       "\n",
       "                                  original_title  \\\n",
       "723  Pirates of the Caribbean: On Stranger Tides   \n",
       "\n",
       "                                                  cast      director  \\\n",
       "723  Johnny Depp|PenÃ©lope Cruz|Geoffrey Rush|Ian M...  Rob Marshall   \n",
       "\n",
       "                         tagline  \\\n",
       "723  Live Forever Or Die Trying.   \n",
       "\n",
       "                                              overview  runtime  \\\n",
       "723  Captain Jack Sparrow crosses paths with a woma...      136   \n",
       "\n",
       "                       genres  \\\n",
       "723  Adventure|Action|Fantasy   \n",
       "\n",
       "                                  production_companies release_date  \\\n",
       "723  Walt Disney Pictures|Jerry Bruckheimer Films|M...    5/11/2011   \n",
       "\n",
       "     vote_average  release_year     profit  \n",
       "723           6.3          2011  641683000  "
      ]
     },
     "execution_count": 48,
     "metadata": {},
     "output_type": "execute_result"
    }
   ],
   "source": [
    "data.query('budget == budget.max()')"
   ]
  },
  {
   "cell_type": "markdown",
   "metadata": {
    "colab_type": "text",
    "id": "FNRbbI3vVp-c"
   },
   "source": [
    "# 2. Какой из фильмов самый длительный (в минутах)?"
   ]
  },
  {
   "cell_type": "code",
   "execution_count": 11,
   "metadata": {
    "colab": {},
    "colab_type": "code",
    "id": "vHAoEXNTVp-d"
   },
   "outputs": [],
   "source": [
    "answers['2'] = '2. Gods and Generals (tt0279111)'"
   ]
  },
  {
   "cell_type": "code",
   "execution_count": 8,
   "metadata": {
    "colab": {},
    "colab_type": "code",
    "id": "ot-VX2XrVp-g"
   },
   "outputs": [
    {
     "data": {
      "text/html": [
       "<div>\n",
       "<style scoped>\n",
       "    .dataframe tbody tr th:only-of-type {\n",
       "        vertical-align: middle;\n",
       "    }\n",
       "\n",
       "    .dataframe tbody tr th {\n",
       "        vertical-align: top;\n",
       "    }\n",
       "\n",
       "    .dataframe thead th {\n",
       "        text-align: right;\n",
       "    }\n",
       "</style>\n",
       "<table border=\"1\" class=\"dataframe\">\n",
       "  <thead>\n",
       "    <tr style=\"text-align: right;\">\n",
       "      <th></th>\n",
       "      <th>imdb_id</th>\n",
       "      <th>budget</th>\n",
       "      <th>revenue</th>\n",
       "      <th>original_title</th>\n",
       "      <th>cast</th>\n",
       "      <th>director</th>\n",
       "      <th>tagline</th>\n",
       "      <th>overview</th>\n",
       "      <th>runtime</th>\n",
       "      <th>genres</th>\n",
       "      <th>production_companies</th>\n",
       "      <th>release_date</th>\n",
       "      <th>vote_average</th>\n",
       "      <th>release_year</th>\n",
       "    </tr>\n",
       "  </thead>\n",
       "  <tbody>\n",
       "    <tr>\n",
       "      <th>1157</th>\n",
       "      <td>tt0279111</td>\n",
       "      <td>56000000</td>\n",
       "      <td>12923936</td>\n",
       "      <td>Gods and Generals</td>\n",
       "      <td>Stephen Lang|Jeff Daniels|Robert Duvall|Kevin ...</td>\n",
       "      <td>Ronald F. Maxwell</td>\n",
       "      <td>The nations heart was touched by...</td>\n",
       "      <td>The film centers mostly around the personal an...</td>\n",
       "      <td>214</td>\n",
       "      <td>Drama|History|War</td>\n",
       "      <td>Turner Pictures|Antietam Filmworks</td>\n",
       "      <td>2/21/2003</td>\n",
       "      <td>5.8</td>\n",
       "      <td>2003</td>\n",
       "    </tr>\n",
       "  </tbody>\n",
       "</table>\n",
       "</div>"
      ],
      "text/plain": [
       "        imdb_id    budget   revenue     original_title  \\\n",
       "1157  tt0279111  56000000  12923936  Gods and Generals   \n",
       "\n",
       "                                                   cast           director  \\\n",
       "1157  Stephen Lang|Jeff Daniels|Robert Duvall|Kevin ...  Ronald F. Maxwell   \n",
       "\n",
       "                                  tagline  \\\n",
       "1157  The nations heart was touched by...   \n",
       "\n",
       "                                               overview  runtime  \\\n",
       "1157  The film centers mostly around the personal an...      214   \n",
       "\n",
       "                 genres                production_companies release_date  \\\n",
       "1157  Drama|History|War  Turner Pictures|Antietam Filmworks    2/21/2003   \n",
       "\n",
       "      vote_average  release_year  \n",
       "1157           5.8          2003  "
      ]
     },
     "execution_count": 8,
     "metadata": {},
     "output_type": "execute_result"
    }
   ],
   "source": [
    "data[data.runtime == data.runtime.max()]"
   ]
  },
  {
   "cell_type": "markdown",
   "metadata": {
    "colab_type": "text",
    "id": "bapLlpW8Vp-k"
   },
   "source": [
    "# 3. Какой из фильмов самый короткий (в минутах)?\n",
    "\n",
    "\n",
    "\n"
   ]
  },
  {
   "cell_type": "code",
   "execution_count": 12,
   "metadata": {
    "colab": {},
    "colab_type": "code",
    "id": "YBxaSHuAVp-l"
   },
   "outputs": [],
   "source": [
    "answers['3'] = '3. Winnie the Pooh (tt1449283)'"
   ]
  },
  {
   "cell_type": "code",
   "execution_count": 9,
   "metadata": {},
   "outputs": [
    {
     "data": {
      "text/html": [
       "<div>\n",
       "<style scoped>\n",
       "    .dataframe tbody tr th:only-of-type {\n",
       "        vertical-align: middle;\n",
       "    }\n",
       "\n",
       "    .dataframe tbody tr th {\n",
       "        vertical-align: top;\n",
       "    }\n",
       "\n",
       "    .dataframe thead th {\n",
       "        text-align: right;\n",
       "    }\n",
       "</style>\n",
       "<table border=\"1\" class=\"dataframe\">\n",
       "  <thead>\n",
       "    <tr style=\"text-align: right;\">\n",
       "      <th></th>\n",
       "      <th>imdb_id</th>\n",
       "      <th>budget</th>\n",
       "      <th>revenue</th>\n",
       "      <th>original_title</th>\n",
       "      <th>cast</th>\n",
       "      <th>director</th>\n",
       "      <th>tagline</th>\n",
       "      <th>overview</th>\n",
       "      <th>runtime</th>\n",
       "      <th>genres</th>\n",
       "      <th>production_companies</th>\n",
       "      <th>release_date</th>\n",
       "      <th>vote_average</th>\n",
       "      <th>release_year</th>\n",
       "    </tr>\n",
       "  </thead>\n",
       "  <tbody>\n",
       "    <tr>\n",
       "      <th>768</th>\n",
       "      <td>tt1449283</td>\n",
       "      <td>30000000</td>\n",
       "      <td>14460000</td>\n",
       "      <td>Winnie the Pooh</td>\n",
       "      <td>Jim Cummings|Travis Oates|Jim Cummings|Bud Luc...</td>\n",
       "      <td>Stephen Anderson|Don Hall</td>\n",
       "      <td>Oh Pooh.</td>\n",
       "      <td>During an ordinary day in Hundred Acre Wood, W...</td>\n",
       "      <td>63</td>\n",
       "      <td>Animation|Family</td>\n",
       "      <td>Walt Disney Pictures|Walt Disney Animation Stu...</td>\n",
       "      <td>4/13/2011</td>\n",
       "      <td>6.8</td>\n",
       "      <td>2011</td>\n",
       "    </tr>\n",
       "  </tbody>\n",
       "</table>\n",
       "</div>"
      ],
      "text/plain": [
       "       imdb_id    budget   revenue   original_title  \\\n",
       "768  tt1449283  30000000  14460000  Winnie the Pooh   \n",
       "\n",
       "                                                  cast  \\\n",
       "768  Jim Cummings|Travis Oates|Jim Cummings|Bud Luc...   \n",
       "\n",
       "                      director   tagline  \\\n",
       "768  Stephen Anderson|Don Hall  Oh Pooh.   \n",
       "\n",
       "                                              overview  runtime  \\\n",
       "768  During an ordinary day in Hundred Acre Wood, W...       63   \n",
       "\n",
       "               genres                               production_companies  \\\n",
       "768  Animation|Family  Walt Disney Pictures|Walt Disney Animation Stu...   \n",
       "\n",
       "    release_date  vote_average  release_year  \n",
       "768    4/13/2011           6.8          2011  "
      ]
     },
     "execution_count": 9,
     "metadata": {},
     "output_type": "execute_result"
    }
   ],
   "source": [
    "data[data.runtime == data.runtime.min()]"
   ]
  },
  {
   "cell_type": "markdown",
   "metadata": {
    "colab_type": "text",
    "id": "TfQbxbfNVp-p"
   },
   "source": [
    "# 4. Какова средняя длительность фильмов?\n"
   ]
  },
  {
   "cell_type": "code",
   "execution_count": 14,
   "metadata": {
    "colab": {},
    "colab_type": "code",
    "id": "5K6dKZYVVp-q"
   },
   "outputs": [],
   "source": [
    "answers['4'] = '4. 110'"
   ]
  },
  {
   "cell_type": "code",
   "execution_count": 13,
   "metadata": {},
   "outputs": [
    {
     "data": {
      "text/plain": [
       "109.6585494970884"
      ]
     },
     "execution_count": 13,
     "metadata": {},
     "output_type": "execute_result"
    }
   ],
   "source": [
    "data.runtime.mean()"
   ]
  },
  {
   "cell_type": "markdown",
   "metadata": {
    "colab_type": "text",
    "id": "r5TvbnT_Vp-u"
   },
   "source": [
    "# 5. Каково медианное значение длительности фильмов? "
   ]
  },
  {
   "cell_type": "code",
   "execution_count": 16,
   "metadata": {
    "colab": {},
    "colab_type": "code",
    "id": "iBROplKnVp-v"
   },
   "outputs": [],
   "source": [
    "answers['5'] = '1. 107'"
   ]
  },
  {
   "cell_type": "code",
   "execution_count": 15,
   "metadata": {},
   "outputs": [
    {
     "data": {
      "text/plain": [
       "107.0"
      ]
     },
     "execution_count": 15,
     "metadata": {},
     "output_type": "execute_result"
    }
   ],
   "source": [
    "data.runtime.median()"
   ]
  },
  {
   "cell_type": "markdown",
   "metadata": {
    "colab_type": "text",
    "id": "39P-deDSVp-y"
   },
   "source": [
    "# 6. Какой самый прибыльный фильм?\n",
    "#### Внимание! Здесь и далее под «прибылью» или «убытками» понимается разность между сборами и бюджетом фильма. (прибыль = сборы - бюджет) в нашем датасете это будет (profit = revenue - budget) "
   ]
  },
  {
   "cell_type": "code",
   "execution_count": 22,
   "metadata": {
    "colab": {},
    "colab_type": "code",
    "id": "UYZh4T9WVp-y"
   },
   "outputs": [],
   "source": [
    "answers['6'] = '5. Avatar (tt0499549)'"
   ]
  },
  {
   "cell_type": "code",
   "execution_count": 21,
   "metadata": {},
   "outputs": [
    {
     "data": {
      "text/html": [
       "<div>\n",
       "<style scoped>\n",
       "    .dataframe tbody tr th:only-of-type {\n",
       "        vertical-align: middle;\n",
       "    }\n",
       "\n",
       "    .dataframe tbody tr th {\n",
       "        vertical-align: top;\n",
       "    }\n",
       "\n",
       "    .dataframe thead th {\n",
       "        text-align: right;\n",
       "    }\n",
       "</style>\n",
       "<table border=\"1\" class=\"dataframe\">\n",
       "  <thead>\n",
       "    <tr style=\"text-align: right;\">\n",
       "      <th></th>\n",
       "      <th>imdb_id</th>\n",
       "      <th>budget</th>\n",
       "      <th>revenue</th>\n",
       "      <th>original_title</th>\n",
       "      <th>cast</th>\n",
       "      <th>director</th>\n",
       "      <th>tagline</th>\n",
       "      <th>overview</th>\n",
       "      <th>runtime</th>\n",
       "      <th>genres</th>\n",
       "      <th>production_companies</th>\n",
       "      <th>release_date</th>\n",
       "      <th>vote_average</th>\n",
       "      <th>release_year</th>\n",
       "      <th>profit</th>\n",
       "    </tr>\n",
       "  </thead>\n",
       "  <tbody>\n",
       "    <tr>\n",
       "      <th>239</th>\n",
       "      <td>tt0499549</td>\n",
       "      <td>237000000</td>\n",
       "      <td>2781505847</td>\n",
       "      <td>Avatar</td>\n",
       "      <td>Sam Worthington|Zoe Saldana|Sigourney Weaver|S...</td>\n",
       "      <td>James Cameron</td>\n",
       "      <td>Enter the World of Pandora.</td>\n",
       "      <td>In the 22nd century, a paraplegic Marine is di...</td>\n",
       "      <td>162</td>\n",
       "      <td>Action|Adventure|Fantasy|Science Fiction</td>\n",
       "      <td>Ingenious Film Partners|Twentieth Century Fox ...</td>\n",
       "      <td>12/10/2009</td>\n",
       "      <td>7.1</td>\n",
       "      <td>2009</td>\n",
       "      <td>2544505847</td>\n",
       "    </tr>\n",
       "  </tbody>\n",
       "</table>\n",
       "</div>"
      ],
      "text/plain": [
       "       imdb_id     budget     revenue original_title  \\\n",
       "239  tt0499549  237000000  2781505847         Avatar   \n",
       "\n",
       "                                                  cast       director  \\\n",
       "239  Sam Worthington|Zoe Saldana|Sigourney Weaver|S...  James Cameron   \n",
       "\n",
       "                         tagline  \\\n",
       "239  Enter the World of Pandora.   \n",
       "\n",
       "                                              overview  runtime  \\\n",
       "239  In the 22nd century, a paraplegic Marine is di...      162   \n",
       "\n",
       "                                       genres  \\\n",
       "239  Action|Adventure|Fantasy|Science Fiction   \n",
       "\n",
       "                                  production_companies release_date  \\\n",
       "239  Ingenious Film Partners|Twentieth Century Fox ...   12/10/2009   \n",
       "\n",
       "     vote_average  release_year      profit  \n",
       "239           7.1          2009  2544505847  "
      ]
     },
     "execution_count": 21,
     "metadata": {},
     "output_type": "execute_result"
    }
   ],
   "source": [
    "data[data.profit == data.profit.max()]"
   ]
  },
  {
   "cell_type": "markdown",
   "metadata": {
    "colab_type": "text",
    "id": "M99JmIX4Vp-2"
   },
   "source": [
    "# 7. Какой фильм самый убыточный? "
   ]
  },
  {
   "cell_type": "code",
   "execution_count": 24,
   "metadata": {
    "colab": {},
    "colab_type": "code",
    "id": "w-D2m4XPVp-3"
   },
   "outputs": [],
   "source": [
    "answers['7'] = '5. The Lone Ranger (tt1210819)'"
   ]
  },
  {
   "cell_type": "code",
   "execution_count": 23,
   "metadata": {},
   "outputs": [
    {
     "data": {
      "text/html": [
       "<div>\n",
       "<style scoped>\n",
       "    .dataframe tbody tr th:only-of-type {\n",
       "        vertical-align: middle;\n",
       "    }\n",
       "\n",
       "    .dataframe tbody tr th {\n",
       "        vertical-align: top;\n",
       "    }\n",
       "\n",
       "    .dataframe thead th {\n",
       "        text-align: right;\n",
       "    }\n",
       "</style>\n",
       "<table border=\"1\" class=\"dataframe\">\n",
       "  <thead>\n",
       "    <tr style=\"text-align: right;\">\n",
       "      <th></th>\n",
       "      <th>imdb_id</th>\n",
       "      <th>budget</th>\n",
       "      <th>revenue</th>\n",
       "      <th>original_title</th>\n",
       "      <th>cast</th>\n",
       "      <th>director</th>\n",
       "      <th>tagline</th>\n",
       "      <th>overview</th>\n",
       "      <th>runtime</th>\n",
       "      <th>genres</th>\n",
       "      <th>production_companies</th>\n",
       "      <th>release_date</th>\n",
       "      <th>vote_average</th>\n",
       "      <th>release_year</th>\n",
       "      <th>profit</th>\n",
       "    </tr>\n",
       "  </thead>\n",
       "  <tbody>\n",
       "    <tr>\n",
       "      <th>1245</th>\n",
       "      <td>tt1210819</td>\n",
       "      <td>255000000</td>\n",
       "      <td>89289910</td>\n",
       "      <td>The Lone Ranger</td>\n",
       "      <td>Johnny Depp|Armie Hammer|William Fichtner|Hele...</td>\n",
       "      <td>Gore Verbinski</td>\n",
       "      <td>Never Take Off the Mask</td>\n",
       "      <td>The Texas Rangers chase down a gang of outlaws...</td>\n",
       "      <td>149</td>\n",
       "      <td>Action|Adventure|Western</td>\n",
       "      <td>Walt Disney Pictures|Jerry Bruckheimer Films|I...</td>\n",
       "      <td>7/3/2013</td>\n",
       "      <td>6.0</td>\n",
       "      <td>2013</td>\n",
       "      <td>-165710090</td>\n",
       "    </tr>\n",
       "  </tbody>\n",
       "</table>\n",
       "</div>"
      ],
      "text/plain": [
       "        imdb_id     budget   revenue   original_title  \\\n",
       "1245  tt1210819  255000000  89289910  The Lone Ranger   \n",
       "\n",
       "                                                   cast        director  \\\n",
       "1245  Johnny Depp|Armie Hammer|William Fichtner|Hele...  Gore Verbinski   \n",
       "\n",
       "                      tagline  \\\n",
       "1245  Never Take Off the Mask   \n",
       "\n",
       "                                               overview  runtime  \\\n",
       "1245  The Texas Rangers chase down a gang of outlaws...      149   \n",
       "\n",
       "                        genres  \\\n",
       "1245  Action|Adventure|Western   \n",
       "\n",
       "                                   production_companies release_date  \\\n",
       "1245  Walt Disney Pictures|Jerry Bruckheimer Films|I...     7/3/2013   \n",
       "\n",
       "      vote_average  release_year     profit  \n",
       "1245           6.0          2013 -165710090  "
      ]
     },
     "execution_count": 23,
     "metadata": {},
     "output_type": "execute_result"
    }
   ],
   "source": [
    "data[data.profit == data.profit.min()]"
   ]
  },
  {
   "cell_type": "markdown",
   "metadata": {
    "colab_type": "text",
    "id": "wEOM5ERVVp-6"
   },
   "source": [
    "# 8. У скольких фильмов из датасета объем сборов оказался выше бюджета?"
   ]
  },
  {
   "cell_type": "code",
   "execution_count": 26,
   "metadata": {
    "colab": {},
    "colab_type": "code",
    "id": "y00_7HD6Vp-7"
   },
   "outputs": [],
   "source": [
    "answers['8'] = '1. 1478'"
   ]
  },
  {
   "cell_type": "code",
   "execution_count": 25,
   "metadata": {},
   "outputs": [
    {
     "data": {
      "text/plain": [
       "1478"
      ]
     },
     "execution_count": 25,
     "metadata": {},
     "output_type": "execute_result"
    }
   ],
   "source": [
    "len(data[data.revenue > data.budget])"
   ]
  },
  {
   "cell_type": "markdown",
   "metadata": {
    "colab_type": "text",
    "id": "xhpspA9KVp_A"
   },
   "source": [
    "# 9. Какой фильм оказался самым кассовым в 2008 году?"
   ]
  },
  {
   "cell_type": "code",
   "execution_count": 35,
   "metadata": {
    "colab": {},
    "colab_type": "code",
    "id": "MoUyQr9RVp_B"
   },
   "outputs": [],
   "source": [
    "answers['9'] = '4. The Dark Knight (tt0468569)'"
   ]
  },
  {
   "cell_type": "code",
   "execution_count": 34,
   "metadata": {},
   "outputs": [
    {
     "data": {
      "text/html": [
       "<div>\n",
       "<style scoped>\n",
       "    .dataframe tbody tr th:only-of-type {\n",
       "        vertical-align: middle;\n",
       "    }\n",
       "\n",
       "    .dataframe tbody tr th {\n",
       "        vertical-align: top;\n",
       "    }\n",
       "\n",
       "    .dataframe thead th {\n",
       "        text-align: right;\n",
       "    }\n",
       "</style>\n",
       "<table border=\"1\" class=\"dataframe\">\n",
       "  <thead>\n",
       "    <tr style=\"text-align: right;\">\n",
       "      <th></th>\n",
       "      <th>imdb_id</th>\n",
       "      <th>budget</th>\n",
       "      <th>revenue</th>\n",
       "      <th>original_title</th>\n",
       "      <th>cast</th>\n",
       "      <th>director</th>\n",
       "      <th>tagline</th>\n",
       "      <th>overview</th>\n",
       "      <th>runtime</th>\n",
       "      <th>genres</th>\n",
       "      <th>production_companies</th>\n",
       "      <th>release_date</th>\n",
       "      <th>vote_average</th>\n",
       "      <th>release_year</th>\n",
       "      <th>profit</th>\n",
       "    </tr>\n",
       "  </thead>\n",
       "  <tbody>\n",
       "    <tr>\n",
       "      <th>599</th>\n",
       "      <td>tt0468569</td>\n",
       "      <td>185000000</td>\n",
       "      <td>1001921825</td>\n",
       "      <td>The Dark Knight</td>\n",
       "      <td>Christian Bale|Michael Caine|Heath Ledger|Aaro...</td>\n",
       "      <td>Christopher Nolan</td>\n",
       "      <td>Why So Serious?</td>\n",
       "      <td>Batman raises the stakes in his war on crime. ...</td>\n",
       "      <td>152</td>\n",
       "      <td>Drama|Action|Crime|Thriller</td>\n",
       "      <td>DC Comics|Legendary Pictures|Warner Bros.|Syncopy</td>\n",
       "      <td>7/16/2008</td>\n",
       "      <td>8.1</td>\n",
       "      <td>2008</td>\n",
       "      <td>816921825</td>\n",
       "    </tr>\n",
       "  </tbody>\n",
       "</table>\n",
       "</div>"
      ],
      "text/plain": [
       "       imdb_id     budget     revenue   original_title  \\\n",
       "599  tt0468569  185000000  1001921825  The Dark Knight   \n",
       "\n",
       "                                                  cast           director  \\\n",
       "599  Christian Bale|Michael Caine|Heath Ledger|Aaro...  Christopher Nolan   \n",
       "\n",
       "             tagline                                           overview  \\\n",
       "599  Why So Serious?  Batman raises the stakes in his war on crime. ...   \n",
       "\n",
       "     runtime                       genres  \\\n",
       "599      152  Drama|Action|Crime|Thriller   \n",
       "\n",
       "                                  production_companies release_date  \\\n",
       "599  DC Comics|Legendary Pictures|Warner Bros.|Syncopy    7/16/2008   \n",
       "\n",
       "     vote_average  release_year     profit  \n",
       "599           8.1          2008  816921825  "
      ]
     },
     "execution_count": 34,
     "metadata": {},
     "output_type": "execute_result"
    }
   ],
   "source": [
    "data[data.revenue == data[data['release_year'] == 2008].revenue.max()]"
   ]
  },
  {
   "cell_type": "markdown",
   "metadata": {
    "colab_type": "text",
    "id": "Zi4hDKidVp_F"
   },
   "source": [
    "# 10. Самый убыточный фильм за период с 2012 по 2014 г. (включительно)?\n"
   ]
  },
  {
   "cell_type": "code",
   "execution_count": 38,
   "metadata": {
    "colab": {},
    "colab_type": "code",
    "id": "XqyRmufJVp_F"
   },
   "outputs": [],
   "source": [
    "answers['10'] = '5. The Lone Ranger (tt1210819)'"
   ]
  },
  {
   "cell_type": "code",
   "execution_count": 37,
   "metadata": {},
   "outputs": [
    {
     "data": {
      "text/html": [
       "<div>\n",
       "<style scoped>\n",
       "    .dataframe tbody tr th:only-of-type {\n",
       "        vertical-align: middle;\n",
       "    }\n",
       "\n",
       "    .dataframe tbody tr th {\n",
       "        vertical-align: top;\n",
       "    }\n",
       "\n",
       "    .dataframe thead th {\n",
       "        text-align: right;\n",
       "    }\n",
       "</style>\n",
       "<table border=\"1\" class=\"dataframe\">\n",
       "  <thead>\n",
       "    <tr style=\"text-align: right;\">\n",
       "      <th></th>\n",
       "      <th>imdb_id</th>\n",
       "      <th>budget</th>\n",
       "      <th>revenue</th>\n",
       "      <th>original_title</th>\n",
       "      <th>cast</th>\n",
       "      <th>director</th>\n",
       "      <th>tagline</th>\n",
       "      <th>overview</th>\n",
       "      <th>runtime</th>\n",
       "      <th>genres</th>\n",
       "      <th>production_companies</th>\n",
       "      <th>release_date</th>\n",
       "      <th>vote_average</th>\n",
       "      <th>release_year</th>\n",
       "      <th>profit</th>\n",
       "    </tr>\n",
       "  </thead>\n",
       "  <tbody>\n",
       "    <tr>\n",
       "      <th>1245</th>\n",
       "      <td>tt1210819</td>\n",
       "      <td>255000000</td>\n",
       "      <td>89289910</td>\n",
       "      <td>The Lone Ranger</td>\n",
       "      <td>Johnny Depp|Armie Hammer|William Fichtner|Hele...</td>\n",
       "      <td>Gore Verbinski</td>\n",
       "      <td>Never Take Off the Mask</td>\n",
       "      <td>The Texas Rangers chase down a gang of outlaws...</td>\n",
       "      <td>149</td>\n",
       "      <td>Action|Adventure|Western</td>\n",
       "      <td>Walt Disney Pictures|Jerry Bruckheimer Films|I...</td>\n",
       "      <td>7/3/2013</td>\n",
       "      <td>6.0</td>\n",
       "      <td>2013</td>\n",
       "      <td>-165710090</td>\n",
       "    </tr>\n",
       "  </tbody>\n",
       "</table>\n",
       "</div>"
      ],
      "text/plain": [
       "        imdb_id     budget   revenue   original_title  \\\n",
       "1245  tt1210819  255000000  89289910  The Lone Ranger   \n",
       "\n",
       "                                                   cast        director  \\\n",
       "1245  Johnny Depp|Armie Hammer|William Fichtner|Hele...  Gore Verbinski   \n",
       "\n",
       "                      tagline  \\\n",
       "1245  Never Take Off the Mask   \n",
       "\n",
       "                                               overview  runtime  \\\n",
       "1245  The Texas Rangers chase down a gang of outlaws...      149   \n",
       "\n",
       "                        genres  \\\n",
       "1245  Action|Adventure|Western   \n",
       "\n",
       "                                   production_companies release_date  \\\n",
       "1245  Walt Disney Pictures|Jerry Bruckheimer Films|I...     7/3/2013   \n",
       "\n",
       "      vote_average  release_year     profit  \n",
       "1245           6.0          2013 -165710090  "
      ]
     },
     "execution_count": 37,
     "metadata": {},
     "output_type": "execute_result"
    }
   ],
   "source": [
    "data[data.profit == data[(data['release_year'] <= 2014) & (\n",
    "    data['release_year'] >= 2012)].profit.min()]"
   ]
  },
  {
   "cell_type": "markdown",
   "metadata": {
    "colab_type": "text",
    "id": "EA7Sa9dkVp_I"
   },
   "source": [
    "# 11. Какого жанра фильмов больше всего?"
   ]
  },
  {
   "cell_type": "code",
   "execution_count": 70,
   "metadata": {
    "colab": {},
    "colab_type": "code",
    "id": "zsJAwJ8QVp_J"
   },
   "outputs": [],
   "source": [
    "answers['11'] = '3. Drama'"
   ]
  },
  {
   "cell_type": "code",
   "execution_count": 72,
   "metadata": {},
   "outputs": [
    {
     "name": "stdout",
     "output_type": "stream",
     "text": [
      "Counter({'Drama': 782, 'Comedy': 683, 'Thriller': 596, 'Action': 582, 'Adventure': 415, 'Crime': 315, 'Romance': 308, 'Family': 260, 'Science Fiction': 248, 'Fantasy': 222, 'Horror': 176, 'Mystery': 168, 'Animation': 139, 'Music': 64, 'History': 62, 'War': 58, 'Western': 19, 'Documentary': 8, 'Foreign': 2})\n"
     ]
    }
   ],
   "source": [
    "all_genres = []  # создаю список из всех жанров\n",
    "c = collections.Counter()\n",
    "for genres in data.genres.apply(split_func):\n",
    "    for genre in genres:\n",
    "        all_genres.append(genre)\n",
    "for genre in all_genres:\n",
    "    c[genre] += 1\n",
    "print(c)\n",
    "\n",
    "# Здесь и далее я использую функцию print, потому что она автоматически сортирует Counter по значениям"
   ]
  },
  {
   "cell_type": "markdown",
   "metadata": {
    "colab_type": "text",
    "id": "Ax6g2C8SVp_M"
   },
   "source": [
    "ВАРИАНТ 2"
   ]
  },
  {
   "cell_type": "code",
   "execution_count": 83,
   "metadata": {
    "colab": {},
    "colab_type": "code",
    "id": "otO3SbrSVp_N"
   },
   "outputs": [
    {
     "name": "stdout",
     "output_type": "stream",
     "text": [
      "Counter({'Drama': 782, 'Comedy': 683, 'Thriller': 596, 'Action': 582, 'Adventure': 415, 'Crime': 315, 'Romance': 308, 'Family': 260, 'Science Fiction': 248, 'Fantasy': 222, 'Horror': 176, 'Mystery': 168, 'Animation': 139, 'Music': 64, 'History': 62, 'War': 58, 'Western': 19, 'Documentary': 8, 'Foreign': 2})\n"
     ]
    }
   ],
   "source": [
    "genres = data.genres.str.cat(sep='|').split('|')\n",
    "c = collections.Counter()\n",
    "for g in genres:\n",
    "    c[g] += 1\n",
    "print(c)"
   ]
  },
  {
   "cell_type": "markdown",
   "metadata": {
    "colab_type": "text",
    "id": "T9_bPWpkVp_Q"
   },
   "source": [
    "# 12. Фильмы какого жанра чаще всего становятся прибыльными? "
   ]
  },
  {
   "cell_type": "code",
   "execution_count": 86,
   "metadata": {},
   "outputs": [],
   "source": [
    "answers['12'] = '1. Drama'"
   ]
  },
  {
   "cell_type": "code",
   "execution_count": 85,
   "metadata": {
    "colab": {},
    "colab_type": "code",
    "id": "Tmt8MaK1Vp_R"
   },
   "outputs": [
    {
     "name": "stdout",
     "output_type": "stream",
     "text": [
      "Counter({'Drama': 560, 'Comedy': 551, 'Thriller': 446, 'Action': 444, 'Adventure': 337, 'Romance': 242, 'Crime': 231, 'Family': 226, 'Science Fiction': 195, 'Fantasy': 188, 'Horror': 150, 'Animation': 120, 'Mystery': 119, 'Music': 47, 'History': 46, 'War': 41, 'Western': 12, 'Documentary': 7})\n"
     ]
    }
   ],
   "source": [
    "profitable_movies = data[data.profit > 0]\n",
    "profitable_genres = profitable_movies.genres.str.cat(sep='|').split('|')\n",
    "c = collections.Counter()\n",
    "for genre in profitable_genres:\n",
    "    c[genre] += 1\n",
    "print(c)"
   ]
  },
  {
   "cell_type": "markdown",
   "metadata": {
    "colab_type": "text",
    "id": "0F23bgsDVp_U"
   },
   "source": [
    "# 13. У какого режиссера самые большие суммарные кассовые сборы?"
   ]
  },
  {
   "cell_type": "code",
   "execution_count": 100,
   "metadata": {},
   "outputs": [],
   "source": [
    "answers['13'] = '5. Peter Jackson'"
   ]
  },
  {
   "cell_type": "code",
   "execution_count": 99,
   "metadata": {
    "colab": {},
    "colab_type": "code",
    "id": "K6Z3J8ygVp_X"
   },
   "outputs": [
    {
     "data": {
      "text/plain": [
       "director\n",
       "Peter Jackson        6490593685\n",
       "Christopher Nolan    4167548502\n",
       "David Yates          4154295625\n",
       "Michael Bay          3886938960\n",
       "J.J. Abrams          3579169916\n",
       "                        ...    \n",
       "David MichÃ´d           2295423\n",
       "Steven Shainberg        2281089\n",
       "Paul Schrader           2062066\n",
       "Keanu Reeves            2054941\n",
       "Simon Hunter            2033165\n",
       "Name: revenue, Length: 957, dtype: int64"
      ]
     },
     "metadata": {},
     "output_type": "display_data"
    }
   ],
   "source": [
    "directors = data.groupby(['director']).revenue.sum()\n",
    "display(directors.sort_values(ascending=False))\n",
    "# Примечание. У некоторых фильмов по 2 и более режиссера, что может делать алгоритм несколько более сложным.\n",
    "# На практике, разные аналитики с разными целями использовали бы разные методы, по разному оценивая \"вклад\" каждого в бокс-офис.\n",
    "# В задании не уточняется, как именно мы считаем.\n",
    "# Поэтому я считаю, что в случае \"мультирежиссерной\" картины кассу обеспечивает не каждый по отдельности, а команда."
   ]
  },
  {
   "cell_type": "markdown",
   "metadata": {
    "colab_type": "text",
    "id": "PsYC9FgRVp_a"
   },
   "source": [
    "# 14. Какой режисер снял больше всего фильмов в стиле Action?"
   ]
  },
  {
   "cell_type": "code",
   "execution_count": 109,
   "metadata": {},
   "outputs": [],
   "source": [
    "answers['14'] = '3. Robert Rodriguez'"
   ]
  },
  {
   "cell_type": "code",
   "execution_count": 108,
   "metadata": {
    "colab": {},
    "colab_type": "code",
    "id": "wd2M-wHeVp_b"
   },
   "outputs": [
    {
     "name": "stdout",
     "output_type": "stream",
     "text": [
      "Counter({'Robert Rodriguez': 9, 'Michael Bay': 7, 'Paul W.S. Anderson': 7, 'Antoine Fuqua': 6, 'Ridley Scott': 6, 'Brett Ratner': 5, 'Quentin Tarantino': 5, 'Zack Snyder': 5, 'Roland Emmerich': 5, 'Andrzej Bartkowiak': 5, 'Louis Leterrier': 5, 'Tony Scott': 5, 'Paul Greengrass': 5, 'Peter Jackson': 5, 'Lee Tamahori': 5, 'Gore Verbinski': 5, 'Rob Cohen': 5, 'Peter Berg': 5, 'J.J. Abrams': 4, 'Lana Wachowski': 4, 'Lilly Wachowski': 4, 'Olivier Megaton': 4, 'Guy Ritchie': 4, 'Bryan Singer': 4, 'Tim Story': 4, 'Renny Harlin': 4, 'Mark Neveldine': 4, 'Brian Taylor': 4, 'Dominic Sena': 4, 'Justin Lin': 4, 'Christopher Nolan': 4, 'Simon West': 4, 'John Moore': 4, 'Steven Spielberg': 4, 'Martin Campbell': 4, 'John Singleton': 4, 'Len Wiseman': 4, 'Brad Bird': 3, 'Matthew Vaughn': 3, 'Neill Blomkamp': 3, 'Jaume Collet-Serra': 3, 'Breck Eisner': 3, 'Pierre Morel': 3, 'David Ayer': 3, 'Doug Liman': 3, 'Clint Eastwood': 3, 'Phil Lord': 3, 'Christopher Miller': 3, 'McG': 3, 'Stephen Sommers': 3, 'Shawn Levy': 3, 'Jonathan Mostow': 3, 'Jon Favreau': 3, 'Jon Turteltaub': 3, 'Joe Carnahan': 3, 'M. Night Shyamalan': 3, 'Harald Zwart': 3, 'Marc Forster': 3, 'D.J. Caruso': 3, 'Edward Zwick': 3, 'Sam Raimi': 3, 'Barry Sonnenfeld': 3, 'Guillermo del Toro': 3, 'John Woo': 3, 'Uwe Boll': 3, 'David Twohy': 3, 'James Wan': 2, 'Alan Taylor': 2, 'Sam Mendes': 2, 'Joss Whedon': 2, 'Peyton Reed': 2, 'Brad Peyton': 2, 'Wes Ball': 2, 'Michael Mann': 2, 'Paul Feig': 2, 'Ron Howard': 2, 'Camille Delamarre': 2, 'Luc Besson': 2, 'Jonathan Liebesman': 2, 'Matt Reeves': 2, 'Marc Webb': 2, 'Evan Goldberg': 2, 'Seth Rogen': 2, 'Roger Donaldson': 2, 'J.C. Chandor': 2, 'Kenneth Branagh': 2, 'Scott Waugh': 2, 'Alex Proyas': 2, 'James McTeigue': 2, 'NimrÃ³d Antal': 2, 'Gavin Hood': 2, 'Sylvester Stallone': 2, 'Joseph Kosinski': 2, 'Edgar Wright': 2, 'Robert Schwentke': 2, 'James Mangold': 2, 'Neil Marshall': 2, 'Kevin Munroe': 2, 'Peter Howitt': 2, 'Frank Oz': 2, 'Joe Johnston': 2, 'Peter Hyams': 2, 'Timur Bekmambetov': 2, 'David Gordon Green': 2, 'Pete Travis': 2, 'Frank Miller': 2, 'Jason Friedberg': 2, 'Aaron Seltzer': 2, 'Rob Marshall': 2, 'Andrew Niccol': 2, 'Marcus Nispel': 2, 'Ruben Fleischer': 2, 'George Lucas': 2, 'Andrew Davis': 2, 'Walter Hill': 2, 'Rob Bowman': 2, 'Ang Lee': 2, 'Baltasar KormÃ¡kur': 2, 'Mark Steven Johnson': 2, 'F. Gary Gray': 2, 'David Dobkin': 2, 'Clark Johnson': 2, 'Richard Donner': 2, 'William Friedkin': 2, 'Francis Lawrence': 2, 'Courtney Solomon': 2, 'David R. Ellis': 2, 'David S. Goyer': 2, 'Colin Trevorrow': 1, 'George Miller': 1, 'Chris Columbus': 1, 'Christopher McQuarrie': 1, 'Ilya Naishuller': 1, 'Ericson Core': 1, 'Denis Villeneuve': 1, 'Josh Trank': 1, 'Aleksander Bach': 1, 'Andy Fickman': 1, 'John Erick Dowdle': 1, 'Anne Fletcher': 1, 'James Gunn': 1, 'Joe Russo': 1, 'Anthony Russo': 1, 'Chad Stahelski': 1, 'David Leitch': 1, 'Don Hall': 1, 'Chris Williams': 1, 'Neil Burger': 1, 'Gareth Edwards': 1, 'Robert Stromberg': 1, 'Dean DeBlois': 1, 'Patrick Hughes': 1, 'Gary Shore': 1, 'Noam Murro': 1, 'Vic Armstrong': 1, 'JosÃ© Padilha': 1, 'George Clooney': 1, 'Brian A Miller': 1, 'Steven Quale': 1, 'Adam Wingard': 1, 'James Cameron': 1, 'Patrick Tatopoulos': 1, 'Shane Acker': 1, 'Steve Carr': 1, 'Christian Alvart': 1, 'Hoyt Yeatman': 1, 'Kevin Macdonald': 1, 'Michael Spierig': 1, 'Peter Spierig': 1, 'Paul McGuigan': 1, 'Troy Duffy': 1, 'Paul Weitz': 1, 'David Bowers': 1, 'Daniel Barber': 1, 'Michael J. Bassett': 1, 'Pierre Coffin': 1, 'Chris Renaud': 1, 'Phillip Noyce': 1, 'Florian Henckel von Donnersmarck': 1, 'Mike Newell': 1, 'Ethan Maniquis': 1, 'Albert Hughes': 1, 'Allen Hughes': 1, 'Tom McGrath': 1, 'Adam McKay': 1, 'Miguel Sapochnik': 1, 'Andy Tennant': 1, 'Jonathan Lynn': 1, 'Jimmy Hayward': 1, 'Robert Luketic': 1, 'John Luessenhop': 1, 'Kevin Smith': 1, 'Jorma Taccone': 1, 'Brian Levant': 1, 'Stuart Beattie': 1, 'Tim Burton': 1, 'Brian Helgeland': 1, 'John A. Davis': 1, 'Chris Nahon': 1, 'Hironobu Sakaguchi': 1, 'Motonori Sakakibara': 1, 'Rod Lurie': 1, 'John Herzfeld': 1, 'Ivan Reitman': 1, 'Demian Lichtenstein': 1, 'John Carpenter': 1, 'Bobby Farrelly': 1, 'Peter Farrelly': 1, 'Barry Levinson': 1, 'Luke Greenfield': 1, 'Les Mayfield': 1, 'Henry Selick': 1, 'Rob Pritts': 1, 'Ernest R. Dickerson': 1, 'DJ Pooh': 1, 'Eric Brevig': 1, 'Ben Stiller': 1, 'Jeff Wadlow': 1, 'Lexi Alexander': 1, 'Peter Segal': 1, 'Mathieu Kassovitz': 1, 'Rob Minkoff': 1, 'Jon Avnet': 1, 'Dennis Dugan': 1, 'Howard McCain': 1, 'Oxide Pang Chun': 1, 'Danny Pang': 1, 'Craig Mazin': 1, 'Simon Hunter': 1, 'Nicolas Winding Refn': 1, 'Rupert Wyatt': 1, 'Patrick Lussier': 1, 'Gary McKendry': 1, 'Scott Stewart': 1, 'Tarsem Singh': 1, 'Chris Gorak': 1, 'Chris Miller': 1, 'Michel Gondry': 1, 'Oliver Parker': 1, 'Joe Cornish': 1, 'Joe Wright': 1, 'John Michael McDonagh': 1, 'Alister Grierson': 1, 'Sean McNamara': 1, 'John Whitesell': 1, 'Benny Chan': 1, 'Corey Yuen Kwai': 1, 'Stuart Baird': 1, 'Kurt Wimmer': 1, 'Jay Roach': 1, 'Jim Gillespie': 1, 'Chuck Russell': 1, 'Betty Thomas': 1, 'Randall Wallace': 1, 'Ron Shelton': 1, 'Simon Wells': 1, 'Roger Michell': 1, 'Michael Apted': 1, 'Tom Dey': 1, 'Joel Schumacher': 1, 'Luis Mandoki': 1, 'Tamra Davis': 1, 'Ron Underwood': 1, 'Kevin Bray': 1, 'Malcolm D. Lee': 1, 'MÃ¥ns MÃ¥rlind': 1, 'BjÃ¶rn Stein': 1, 'Tony Gilroy': 1, 'Mark Andrews': 1, 'Steve Purcell': 1, 'Brenda Chapman': 1, 'Boaz Yakin': 1, 'Andrew Stanton': 1, 'Rian Johnson': 1, 'Mike McCoy': 1, 'Stephen St. Leger': 1, 'James Mather': 1, 'Daniel Espinosa': 1, 'Asger Leth': 1, 'Mabrouk El Mechri': 1, 'Dan Bradley': 1, 'Julie Anne Robinson': 1, 'Anthony Hemingway': 1, 'David Koepp': 1, 'David Barrett': 1, 'Stephen Norrington': 1, 'Jan de Bont': 1, 'Jon Amiel': 1, 'John McTiernan': 1, 'Shane Black': 1, 'Tommy Wirkola': 1, 'Carl Rinsch': 1, 'Gary Fleder': 1, 'Mikael HÃ¥fstrÃ¶m': 1, 'Taylor Hackford': 1, 'Steven Knight': 1, 'Spike Lee': 1, 'Dito Montiel': 1, 'Keanu Reeves': 1, 'Fyodor Bondarchuk': 1, 'Karyn Kusama': 1, 'Adam Shankman': 1, 'John Stockwell': 1, 'Sydney Pollack': 1, 'Terry Gilliam': 1, 'Jay Chandrasekhar': 1, 'Richard Shepard': 1, 'John Dahl': 1, 'Bruce Hunt': 1, 'Alfonso CuarÃ³n': 1, 'Stefen Fangmeier': 1, 'Mel Gibson': 1, 'Bruce Beresford': 1, 'Wolfgang Petersen': 1, 'Jeff Tremaine': 1, 'John Bonito': 1, 'Geoffrey Sax': 1, 'Tony Bill': 1, 'Wayne Kramer': 1, 'Sanjay Gadhvi': 1, 'Phil Joanou': 1, 'Alexander Witt': 1, 'Bibo Bergeron': 1, 'Vicky Jenson': 1, 'Rob Letterman': 1, 'Kerry Conran': 1, 'Oliver Stone': 1, 'Jonathan Hensleigh': 1, 'Pitof': 1, 'Philip Kaufman': 1, 'Trey Parker': 1, 'Steven Brill': 1, 'Frank Coraci': 1, 'Paul Abascal': 1, 'Joseph Kahn': 1, 'David Mamet': 1, 'Jay Russell': 1, 'Robert Redford': 1, 'Philip G. Atwell': 1, 'Michael Davis': 1, 'Xavier Gens': 1, 'Eli Roth': 1, 'Rob Zombie': 1, 'Jason Eisener': 1, 'Dave Meyers': 1, 'Russell Mulcahy': 1, 'Andrew Dominik': 1, 'Doug Lefler': 1, 'David Leland': 1, 'Feng Xiaogang': 1, 'Ben Garant': 1, 'Joel Coen': 1, 'Donald Petrie': 1, 'Paul Verhoeven': 1, 'Roger Spottiswoode': 1, 'Antony Hoffman': 1, 'Stephen T. Kay': 1, 'Don Bluth': 1, 'Gary Goldman': 1, 'Christian Duguay': 1, 'Douglas Aarniokoski': 1, 'Gina Prince-Bythewood': 1, 'Brian Robbins': 1, 'Des McAnuff': 1})\n"
     ]
    }
   ],
   "source": [
    "action_movies = data[data.genres.str.contains('Action')]\n",
    "\n",
    "# а вот тут каждый, кто снимал, снимал экшен - поэтому считаем все упоминания\n",
    "\n",
    "action_directors = action_movies.director.str.cat(sep='|').split('|')\n",
    "c = collections.Counter()\n",
    "for director in action_directors:\n",
    "    c[director] += 1\n",
    "print(c)"
   ]
  },
  {
   "cell_type": "markdown",
   "metadata": {
    "colab_type": "text",
    "id": "PQ0KciD7Vp_f"
   },
   "source": [
    "# 15. Фильмы с каким актером принесли самые высокие кассовые сборы в 2012 году? "
   ]
  },
  {
   "cell_type": "code",
   "execution_count": 115,
   "metadata": {},
   "outputs": [],
   "source": [
    "answers['15'] = '3. Chris Hemsworth'"
   ]
  },
  {
   "cell_type": "code",
   "execution_count": 114,
   "metadata": {
    "colab": {},
    "colab_type": "code",
    "id": "aga62oeKVp_g"
   },
   "outputs": [
    {
     "data": {
      "text/plain": [
       "Chris Hemsworth       2027450773\n",
       "Denis Leary           1629460639\n",
       "Anne Hathaway         1522851057\n",
       "Scarlett Johansson    1519557910\n",
       "Robert Downey Jr.     1519557910\n",
       "                         ...    \n",
       "Michael Nyqvist          3428048\n",
       "Danny Huston             2106557\n",
       "Sami Gayle               2106557\n",
       "Josh Lucas               2106557\n",
       "Nicolas Cage             2106557\n",
       "Length: 466, dtype: int64"
      ]
     },
     "execution_count": 114,
     "metadata": {},
     "output_type": "execute_result"
    }
   ],
   "source": [
    "movies_2012 = data[data.release_year == 2012]  # создаю дф с фильмами 2012 года\n",
    "\n",
    "actors_2012 = movies_2012.cast.str.cat(sep='|').split('|')\n",
    "# создаю список актеров, игравших в 2012 году\n",
    "\n",
    "pd.Series({actor: sum(movies_2012[movies_2012.cast.str.contains(\n",
    "    actor)].revenue) for actor in actors_2012}).sort_values(ascending=False)"
   ]
  },
  {
   "cell_type": "markdown",
   "metadata": {
    "colab_type": "text",
    "id": "mWHyyL7QVp_j"
   },
   "source": [
    "# 16. Какой актер снялся в большем количестве высокобюджетных фильмов?"
   ]
  },
  {
   "cell_type": "code",
   "execution_count": 119,
   "metadata": {},
   "outputs": [],
   "source": [
    "answers['16'] = '3. Matt Damon'"
   ]
  },
  {
   "cell_type": "code",
   "execution_count": 118,
   "metadata": {
    "colab": {},
    "colab_type": "code",
    "id": "qQtmHKTFVp_k"
   },
   "outputs": [
    {
     "name": "stdout",
     "output_type": "stream",
     "text": [
      "Counter({'Matt Damon': 18, 'Adam Sandler': 17, 'Angelina Jolie': 16, 'Tom Cruise': 15, 'Samuel L. Jackson': 15, 'Eddie Murphy': 15, 'Mark Wahlberg': 14, 'Hugh Jackman': 14, 'Ben Stiller': 14, 'Jamie Foxx': 14, 'Russell Crowe': 14, 'Johnny Depp': 13, 'Jude Law': 13, 'Bruce Willis': 13, 'Will Smith': 13, 'Dwayne Johnson': 12, 'Ian McKellen': 12, 'Brad Pitt': 12, 'Owen Wilson': 12, 'Cameron Diaz': 12, 'Nicolas Cage': 12, 'Robert De Niro': 12, 'Leonardo DiCaprio': 11, 'Daniel Craig': 11, 'Robert Downey Jr.': 11, 'Steve Buscemi': 11, 'Vin Diesel': 10, 'Mark Ruffalo': 10, 'Jack Black': 10, 'Denzel Washington': 10, 'Emma Watson': 10, 'Gary Oldman': 10, 'Tom Hanks': 10, 'Orlando Bloom': 10, 'Ralph Fiennes': 9, 'Cate Blanchett': 9, 'Michael Caine': 9, 'Ewan McGregor': 9, 'Paul Bettany': 9, 'Brendan Gleeson': 9, 'Shia LaBeouf': 9, 'Nicole Kidman': 9, 'Colin Farrell': 9, 'Rachel Weisz': 9, 'Halle Berry': 9, 'Charlize Theron': 8, 'Kevin James': 8, 'Chris Hemsworth': 8, 'Helena Bonham Carter': 8, 'Josh Hutcherson': 8, 'George Clooney': 8, 'James Franco': 8, 'Christian Bale': 8, 'Gerard Butler': 8, 'Sylvester Stallone': 8, 'Rosario Dawson': 8, 'Ben Kingsley': 8, 'Bill Nighy': 8, 'Daniel Radcliffe': 8, 'Rupert Grint': 8, 'Jim Carrey': 8, 'Vince Vaughn': 8, 'Alec Baldwin': 8, 'Steve Carell': 8, 'Harrison Ford': 7, 'Jason Statham': 7, 'Chris Evans': 7, 'Woody Harrelson': 7, 'Josh Brolin': 7, 'Jeff Bridges': 7, 'Anne Hathaway': 7, 'Patrick Stewart': 7, 'Jennifer Connelly': 7, 'Anthony Hopkins': 7, 'Morgan Freeman': 7, 'Billy Crudup': 7, 'Jason Lee': 7, 'Jessica Biel': 7, 'Julia Roberts': 7, 'Ryan Reynolds': 7, 'Liam Neeson': 7, 'Karl Urban': 7, 'Richard Jenkins': 7, 'Chris Rock': 7, 'Kate Winslet': 6, 'Paul Walker': 6, 'Arnold Schwarzenegger': 6, 'Sean Bean': 6, 'Scarlett Johansson': 6, 'Elizabeth Banks': 6, 'Ving Rhames': 6, 'Mark Strong': 6, 'Jeffrey Wright': 6, 'Gwyneth Paltrow': 6, 'Matthew McConaughey': 6, 'Rosamund Pike': 6, 'Logan Lerman': 6, 'Robin Williams': 6, 'Stanley Tucci': 6, 'Mel Gibson': 6, 'Kevin Costner': 6, 'John Goodman': 6, 'Aaron Eckhart': 6, 'Justin Long': 6, 'Will Ferrell': 6, 'Seann William Scott': 6, 'Paul Giamatti': 6, 'Dustin Hoffman': 6, 'Mike Myers': 6, 'Eva Mendes': 6, 'Kate Beckinsale': 6, 'Jon Voight': 6, 'Jackie Chan': 6, 'Tobey Maguire': 6, 'Keanu Reeves': 6, 'Guy Pearce': 6, 'John Leguizamo': 6, 'Tommy Lee Jones': 6, 'Michelle Rodriguez': 5, 'Michael PeÃ±a': 5, 'Paul Rudd': 5, 'Jennifer Lawrence': 5, 'Carla Gugino': 5, 'Ioan Gruffudd': 5, 'Simon Pegg': 5, 'Giovanni Ribisi': 5, 'Frances McDormand': 5, 'Elijah Wood': 5, 'Jake Gyllenhaal': 5, 'Sam Worthington': 5, 'Delroy Lindo': 5, 'Bradley Cooper': 5, 'Donald Sutherland': 5, 'Ben Affleck': 5, 'Andy Serkis': 5, 'John Turturro': 5, 'Jonah Hill': 5, 'Julianne Moore': 5, 'John Malkovich': 5, 'Ian McShane': 5, 'Chris Pine': 5, 'Keira Knightley': 5, 'Jessica Alba': 5, 'Eric Bana': 5, 'Benjamin Bratt': 5, 'Hank Azaria': 5, 'John Travolta': 5, 'David Cross': 5, 'Clive Owen': 5, 'Sam Elliott': 5, 'Don Cheadle': 5, 'Ron Perlman': 5, 'Antonio Banderas': 5, 'Peter Sarsgaard': 5, 'Zach Galifianakis': 5, 'Nick Nolte': 5, 'Brendan Fraser': 5, 'Jennifer Aniston': 5, 'Edward Norton': 5, 'Judi Dench': 5, 'John C. Reilly': 5, 'Sacha Baron Cohen': 5, 'Kirsten Dunst': 5, 'Djimon Hounsou': 5, 'Catherine Zeta-Jones': 5, 'Tom Hardy': 4, 'Kristen Wiig': 4, 'Christoph Waltz': 4, 'Michelle Monaghan': 4, 'Liam Hemsworth': 4, 'Amanda Seyfried': 4, 'Steve Martin': 4, 'Ray Winstone': 4, 'Rose Byrne': 4, 'Tom Hiddleston': 4, 'Michael Fassbender': 4, 'Megan Fox': 4, 'Will Arnett': 4, 'William Fichtner': 4, 'Marton Csokas': 4, 'Emma Stone': 4, 'Bill Paxton': 4, 'Joel Edgerton': 4, 'Bryan Cranston': 4, 'Jay Baruchel': 4, 'Eva Green': 4, 'David Wenham': 4, 'Michael Gambon': 4, 'Mickey Rourke': 4, 'Joseph Gordon-Levitt': 4, 'Bill Murray': 4, 'Carrie-Anne Moss': 4, 'Bruce Greenwood': 4, 'Patrick Wilson': 4, 'Chiwetel Ejiofor': 4, 'Thandie Newton': 4, 'Anna Faris': 4, 'Amy Adams': 4, 'Susan Sarandon': 4, 'PenÃ©lope Cruz': 4, 'Jon Favreau': 4, 'Luis GuzmÃ¡n': 4, 'Jason Bateman': 4, 'Seth Rogen': 4, 'Reese Witherspoon': 4, 'Tyrese Gibson': 4, 'Catherine Keener': 4, 'James Cromwell': 4, 'Julie Andrews': 4, 'Alfred Molina': 4, 'Salma Hayek': 4, 'Kristen Stewart': 4, 'Peter Facinelli': 4, 'Jason Isaacs': 4, 'Ashton Kutcher': 4, 'Jack Nicholson': 4, 'Viggo Mortensen': 4, 'Liv Tyler': 4, 'Ed Harris': 4, 'Heath Ledger': 4, 'Kurt Russell': 4, 'Angela Bassett': 4, 'TÃ©a Leoni': 4, 'Terrence Howard': 4, 'Hayden Christensen': 4, 'Terence Stamp': 4, 'Anthony Mackie': 4, 'Zooey Deschanel': 4, 'Matthew Broderick': 4, 'Ed Helms': 4, 'Hugo Weaving': 4, 'Geoffrey Rush': 4, 'Natalie Portman': 4, 'Denis Leary': 4, 'Brian Cox': 4, 'Willem Dafoe': 4, 'Joaquin Phoenix': 4, 'Famke Janssen': 4, 'Peter Stormare': 4, 'Kerry Washington': 4, 'Billy Connolly': 4, 'Drew Barrymore': 4, 'RenÃ©e Zellweger': 4, 'Christopher Walken': 4, 'Bryce Dallas Howard': 3, 'Theo James': 3, 'Miles Teller': 3, 'Jason Clarke': 3, 'Jai Courtney': 3, 'Jessica Chastain': 3, 'Sandra Bullock': 3, 'Michael Keaton': 3, 'Bill Hader': 3, 'Monica Bellucci': 3, 'Mila Kunis': 3, 'Channing Tatum': 3, 'Josh Gad': 3, 'Michael Douglas': 3, 'Bobby Cannavale': 3, 'Hugh Laurie': 3, 'Alexandra Daddario': 3, 'Jeremy Renner': 3, 'Amy Ryan': 3, 'Henry Cavill': 3, 'Armie Hammer': 3, 'Kate Mara': 3, 'Jamie Bell': 3, 'Toby Kebbell': 3, 'Garrett Hedlund': 3, 'Andy Samberg': 3, 'Rachel McAdams': 3, 'Marion Cotillard': 3, 'Charlie Hunnam': 3, 'Casey Affleck': 3, 'Zoe Saldana': 3, 'Robert Redford': 3, 'Martin Freeman': 3, 'Richard Armitage': 3, 'Neil Patrick Harris': 3, 'James McAvoy': 3, 'Li Bingbing': 3, 'Colm Feore': 3, 'Sienna Miller': 3, 'Ken Watanabe': 3, 'Elle Fanning': 3, 'Sharlto Copley': 3, 'Luke Evans': 3, 'Dominic Cooper': 3, 'John Hurt': 3, 'Rufus Sewell': 3, 'Abbie Cornish': 3, 'Jesse Eisenberg': 3, 'Leslie Mann': 3, 'Andy GarcÃ\\xada': 3, 'Emily Browning': 3, 'Miranda Otto': 3, 'William Hurt': 3, 'Stephen Lang': 3, 'Christopher Plummer': 3, 'Malin Ã…kerman': 3, 'Amanda Peet': 3, 'Stellan SkarsgÃ¥rd': 3, 'Dennis Quaid': 3, 'Dakota Fanning': 3, 'Kristen Bell': 3, 'Kiefer Sutherland': 3, 'Robin Wright': 3, 'Josh Duhamel': 3, 'Meryl Streep': 3, 'Olivia Wilde': 3, 'Freddie Highmore': 3, 'Jordana Brewster': 3, 'Radha Mitchell': 3, 'Liev Schreiber': 3, 'Hugh Grant': 3, 'Sarah Jessica Parker': 3, 'Mary Steenburgen': 3, 'Russell Brand': 3, 'Emily Mortimer': 3, 'Skandar Keynes': 3, 'Georgie Henley': 3, 'Jason Flemyng': 3, 'Mary Elizabeth Winstead': 3, 'Brandon T. Jackson': 3, 'Mary-Louise Parker': 3, 'Maria Bello': 3, 'Robert Pattinson': 3, 'Taylor Lautner': 3, 'Greg Kinnear': 3, 'Kristin Davis': 3, 'Chris Noth': 3, 'James Marsden': 3, 'Dan Aykroyd': 3, 'Milla Jovovich': 3, 'Cuba Gooding Jr.': 3, 'Michael Clarke Duncan': 3, 'James Gandolfini': 3, 'Laurence Fishburne': 3, 'Billy Bob Thornton': 3, 'Teri Polo': 3, 'Lucy Liu': 3, 'Jada Pinkett Smith': 3, 'David Schwimmer': 3, 'Jeffrey Tambor': 3, 'Thomas Kretschmann': 3, 'Kenneth Branagh': 3, 'Cliff Curtis': 3, 'Michael Chiklis': 3, 'Jaden Smith': 3, 'Sienna Guillory': 3, 'Al Pacino': 3, 'Spencer Breslin': 3, 'Paula Patton': 3, 'Tim Robbins': 3, 'Justin Bartha': 3, 'Ken Jeong': 3, 'Jane Lynch': 3, 'Isla Fisher': 3, 'CiarÃ¡n Hinds': 3, 'Lily Collins': 3, 'Kevin Bacon': 3, 'Ray Romano': 3, 'Chris Cooper': 3, 'Emma Thompson': 3, 'William Shatner': 3, 'Cole Hauser': 3, 'Randy Quaid': 3, 'Harvey Keitel': 3, 'Scott Glenn': 3, 'David Oyelowo': 3, 'Michelle Pfeiffer': 3, 'David Spade': 3, 'Marisa Tomei': 3, 'Josh Lucas': 3, 'David Thewlis': 3, 'Connie Nielsen': 3, 'Bruce McGill': 3, 'Shirley MacLaine': 3, 'Hiroyuki Sanada': 3, 'Sean Penn': 3, 'Richard Roxburgh': 3, 'Val Kilmer': 3, 'Emmy Rossum': 3, 'Miranda Richardson': 3, 'Chris Pratt': 2, 'Irrfan Khan': 2, 'Nicholas Hoult': 2, 'Shailene Woodley': 2, 'Domhnall Gleeson': 2, 'J.K. Simmons': 2, 'Jeff Daniels': 2, 'Allison Janney': 2, 'Steve Coogan': 2, 'Amy Poehler': 2, 'LÃ©a Seydoux': 2, 'Evangeline Lilly': 2, 'Corey Stoll': 2, 'Colin Firth': 2, 'Giancarlo Esposito': 2, 'Alicia Vikander': 2, 'Elizabeth Debicki': 2, 'Rihanna': 2, 'Jennifer Lopez': 2, 'Edgar RamÃ\\xadrez': 2, 'Teresa Palmer': 2, 'Viola Davis': 2, 'Benjamin Walker': 2, 'Ben Whishaw': 2, 'Rooney Mara': 2, 'Selena Gomez': 2, 'Mia Wasikowska': 2, 'Sebastian Stan': 2, 'Ken Stott': 2, 'Graham McTavish': 2, 'Jamie Chung': 2, 'Rami Malek': 2, 'Ray Stevenson': 2, 'Nicola Peltz': 2, 'Keri Russell': 2, 'ChloÃ« Grace Moretz': 2, 'Andrew Garfield': 2, 'Emily Blunt': 2, 'Aaron Paul': 2, 'Ben Barnes': 2, 'Kit Harington': 2, 'Lena Headey': 2, 'Joel Kinnaman': 2, 'Jackie Earle Haley': 2, 'Adewale Akinnuoye-Agbaje': 2, 'RamÃ³n RodrÃ\\xadguez': 2, 'Yvonne Strahovski': 2, 'Kellan Lutz': 2, 'Sigourney Weaver': 2, 'MÃ©lanie Laurent': 2, 'Julie Walters': 2, 'Zachary Quinto': 2, 'Anton Yelchin': 2, 'Eddie Marsan': 2, 'Jeffrey Dean Morgan': 2, 'John Cusack': 2, 'Oliver Platt': 2, 'Keith David': 2, 'Marlon Wayans': 2, 'James Caan': 2, 'Saoirse Ronan': 2, 'Sam Rockwell': 2, 'Tracy Morgan': 2, 'Zachary Levi': 2, 'Mary Kay Place': 2, 'Michael Cera': 2, 'Oscar Isaac': 2, 'Danny Huston': 2, 'Lynn Collins': 2, 'Jason Segel': 2, 'Dolph Lundgren': 2, 'Michelle Williams': 2, 'Mandy Moore': 2, 'Tim Allen': 2, 'Ned Beatty': 2, 'Joan Cusack': 2, 'Timothy Dalton': 2, 'Gemma Arterton': 2, 'Anna Kendrick': 2, 'Barbra Streisand': 2, 'Helen Mirren': 2, 'Tina Fey': 2, 'Ashley Greene': 2, 'Jordi MollÃ\\xa0': 2, 'Javier Bardem': 2, 'Katherine Heigl': 2, 'Tom Selleck': 2, 'Cynthia Nixon': 2, 'Kim Cattrall': 2, 'Essie Davis': 2, 'Eric Dane': 2, 'Cam Gigandet': 2, 'Julianne Hough': 2, 'Stephanie Szostak': 2, 'Bette Midler': 2, 'Carey Mulligan': 2, 'Justin Timberlake': 2, 'John Cleese': 2, 'Billy Crystal': 2, \"Frances O'Connor\": 2, 'John Lithgow': 2, 'Josh Hartnett': 2, 'John Hannah': 2, 'Arnold Vosloo': 2, 'Michael J. Fox': 2, 'James Garner': 2, 'Noah Taylor': 2, 'Tim Roth': 2, 'Kris Kristofferson': 2, 'Tom Sizemore': 2, 'Chris Tucker': 2, 'Zhang Ziyi': 2, 'Ernie Reyes, Jr.': 2, 'Elizabeth Perkins': 2, 'Sam Shepard': 2, 'Dylan Baker': 2, 'Gene Hackman': 2, 'Dominic West': 2, 'Edward Burns': 2, 'Martin Landau': 2, 'David Ogden Stiers': 2, 'Courteney Cox': 2, 'David Hyde Pierce': 2, 'Til Schweiger': 2, 'David Andrews': 2, 'William H. Macy': 2, 'Jeff Garlin': 2, 'Olga Kurylenko': 2, 'Jet Li': 2, 'Selma Blair': 2, 'Michael Rooker': 2, 'William Moseley': 2, 'Anna Popplewell': 2, 'Kathy Bates': 2, 'Michael Ealy': 2, 'Malcolm McDowell': 2, 'Alan Arkin': 2, 'Ali Suliman': 2, 'Adam Scott': 2, 'Kate Hudson': 2, 'Ewen Bremner': 2, 'Lambert Wilson': 2, 'Charlotte Rampling': 2, 'Robert Duvall': 2, 'Christina Ricci': 2, 'Matthew Fox': 2, 'Gabriel Macht': 2, 'Paz Vega': 2, 'Kevin Kline': 2, 'Gabrielle Union': 2, 'Goran Visnjic': 2, 'Bailee Madison': 2, 'Noomi Rapace': 2, 'Larry the Cable Guy': 2, 'Eddie Izzard': 2, 'Vanessa Hudgens': 2, 'Emily Watson': 2, 'Asa Butterfield': 2, 'Dominic Purcell': 2, 'Maggie Q': 2, 'Isabel Lucas': 2, 'Katie Holmes': 2, 'Amy Sedaris': 2, 'Jason Momoa': 2, 'Lea Michele': 2, 'Johnny A. Sanchez': 2, 'Seth Green': 2, 'Queen Latifah': 2, 'Richard Harris': 2, 'Franka Potente': 2, 'Ian McDiarmid': 2, 'Max von Sydow': 2, 'Abigail Breslin': 2, 'Elias Koteas': 2, 'Liam Aiken': 2, 'Paul Newman': 2, 'BeyoncÃ© Knowles': 2, 'Mark Addy': 2, 'Adam Beach': 2, 'Izabella Scorupco': 2, 'Naomie Harris': 2, 'Idris Elba': 2, 'Martin Sheen': 2, 'Kevin McKidd': 2, 'Jim Broadbent': 2, 'Jim Sturgess': 2, 'Jonny Lee Miller': 2, 'Timothy Spall': 2, 'Taylor Kitsch': 2, 'Tadanobu Asano': 2, 'Nathan Lane': 2, 'Jack Davenport': 2, 'Claire Danes': 2, 'Jennifer Garner': 2, 'Martin Lawrence': 2, 'TchÃ©ky Karyo': 2, 'Bernie Mac': 2, 'Robert Patrick': 2, 'Steve Zahn': 2, 'Timothy Olyphant': 2, 'Diane Lane': 2, 'Jodie Foster': 2, 'Alice Braga': 2, 'Diego Luna': 2, 'James Badge Dale': 2, 'Patton Oswalt': 2, 'Cloris Leachman': 2, 'Max Martini': 2, 'Maggie Gyllenhaal': 2, 'Sung Kang': 2, 'Sophie Okonedo': 2, 'Zach Braff': 2, 'Jim Belushi': 2, 'AnnaSophia Robb': 2, 'Julian McMahon': 2, 'Lauren Graham': 2, 'Gong Li': 2, 'Amber Valletta': 2, 'Jeremy Irons': 2, 'Adrien Brody': 2, 'Lucas Black': 2, 'Donal Logue': 2, 'Paddy Considine': 2, 'Bonnie Hunt': 2, 'Yvan Attal': 2, 'Mads Mikkelsen': 2, 'Jean Reno': 2, 'Philip Seymour Hoffman': 2, 'Jonathan Rhys Meyers': 2, 'David Strathairn': 2, 'Sharon Stone': 2, 'Jacinda Barrett': 2, 'Gary Sinise': 2, 'Danny Glover': 2, 'Julia Stiles': 2, 'Diane Kruger': 2, 'Chi McBride': 2, 'Jane Krakowski': 2, 'Glenn Close': 2, 'Patrick Warburton': 2, 'John Michael Higgins': 2, 'Helen Hunt': 2, \"Vincent D'Onofrio\": 1, 'Nick Robinson': 1, 'Hugh Keays-Byrne': 1, 'Josh Helman': 1, 'Ansel Elgort': 1, 'Mark Hamill': 1, 'Carrie Fisher': 1, 'Adam Driver': 1, 'Daisy Ridley': 1, 'Will Poulter': 1, 'Paul Anderson': 1, 'Emilia Clarke': 1, 'Jon Hamm': 1, 'Phyllis Smith': 1, 'Richard Kind': 1, 'Lewis Black': 1, 'Eddie Redmayne': 1, 'Douglas Booth': 1, 'Peter Dinklage': 1, 'Lily James': 1, 'Richard Madden': 1, 'Holliday Grainger': 1, 'Britt Robertson': 1, 'Raffey Cassidy': 1, 'Thomas Robinson': 1, 'Archie Panjabi': 1, 'Rebecca Ferguson': 1, 'Seth MacFarlane': 1, 'Jessica Barth': 1, 'Taron Egerton': 1, \"Dylan O'Brien\": 1, 'Kaya Scodelario': 1, 'Thomas Brodie-Sangster': 1, 'Aidan Gillen': 1, 'Dylan Minnette': 1, 'Odeya Rush': 1, 'Jillian Bell': 1, 'Raymond Ochoa': 1, 'Jack Bright': 1, 'Maleah Nipay-Padilla': 1, 'Rose Leslie': 1, 'Ã“lafur Darri Ã“lafsson': 1, 'Luca Calvani': 1, 'Jim Parsons': 1, 'Matt Jones': 1, 'John Hawkes': 1, 'Luke Bracey': 1, 'Olivia Munn': 1, 'Leehom Wang': 1, 'Tang Wei': 1, 'Holt McCallany': 1, 'Michael B. Jordan': 1, 'Melissa McCarthy': 1, 'Miranda Hart': 1, 'Cillian Murphy': 1, 'Levi Miller': 1, 'Noah Schnapp': 1, 'Bill Melendez': 1, 'Venus Schultheis': 1, 'Hadley Belle Miller': 1, 'Madisyn Shipman': 1, 'Jim Beaver': 1, 'Tom Kenny': 1, 'Bill Fagerbakke': 1, 'Rodger Bumpass': 1, 'Clancy Brown': 1, 'Carolyn Lawrence': 1, 'Dave Bautista': 1, 'Scott Adsit': 1, 'Ryan Potter': 1, 'Daniel Henney': 1, 'T.J. Miller': 1, 'Carrie Coon': 1, 'Tyler Perry': 1, 'Jon Bernthal': 1, 'Rebel Wilson': 1, 'Alan Ritchson': 1, 'Noel Fisher': 1, 'Jack Reynor': 1, 'Judy Greer': 1, 'David Harbour': 1, 'Haley Bennett': 1, 'Dane DeHaan': 1, 'Jonas Armstrong': 1, 'Kyle Gallner': 1, 'Cole Konis': 1, 'Ben Reed': 1, 'Ben Mendelsohn': 1, 'Aaron Taylor-Johnson': 1, 'Elizabeth Olsen': 1, 'Juliette Binoche': 1, 'Juno Temple': 1, 'Isobelle Molloy': 1, 'Craig Berry': 1, 'Alison Brie': 1, 'David Burrows': 1, 'Sarah Gadon': 1, 'Art Parkinson': 1, 'Charles Dance': 1, 'Tom McGrath': 1, 'Chris Miller': 1, 'Christopher Knights': 1, 'Conrad Vernon': 1, 'Sullivan Stapleton': 1, 'Callan Mulvey': 1, 'Peter Capaldi': 1, 'Imelda Staunton': 1, 'Aksel Hennie': 1, 'Nonso Anozie': 1, 'Gemma Chan': 1, 'Rebecca Hall': 1, 'Ty Burrell': 1, 'Max Charles': 1, 'Ariel Winter': 1, 'Ellie Kemper': 1, \"Jack O'Connell\": 1, 'Takamasa Ishihara': 1, 'Finn Wittrock': 1, 'Jessica Lucas': 1, 'QuvenzhanÃ© Wallis': 1, 'Imogen Poots': 1, 'Isaac Hempstead Wright': 1, 'Dee Bradley Baker': 1, 'Steve Blum': 1, 'Jessica Brown Findlay': 1, 'Liam McIntyre': 1, 'Gaia Weiss': 1, 'Scott Adkins': 1, 'Roxanne McKee': 1, 'Eli Roth': 1, 'Tom Felton': 1, 'Ed Asner': 1, 'Jordan Nagai': 1, 'Bob Peterson': 1, 'Leonard Nimoy': 1, 'Moon Bloodgood': 1, 'Ayelet Zurer': 1, 'Pierfrancesco Favino': 1, 'Anika Noni Rose': 1, 'Bruno Campos': 1, 'Michael-Leon Wooley': 1, 'Jennifer Cody': 1, 'Mr. T': 1, 'Teri Hatcher': 1, 'Jennifer Saunders': 1, 'Dawn French': 1, 'Steve Valentine': 1, 'Daryl Sabara': 1, 'Sage Ryan': 1, 'Victor Gojcaj': 1, 'Matthew Gray Gubler': 1, 'Rainn Wilson': 1, 'Lake Bell': 1, 'Anna Friel': 1, 'Danny McBride': 1, 'Jorma Taccone': 1, 'Matt Lauer': 1, 'Tony Kgoroge': 1, 'Patrick Mofokeng': 1, 'Matt Stern': 1, 'Max Minghella': 1, 'Ashraf Barhom': 1, 'Michael Lonsdale': 1, 'John Ortiz': 1, 'Tom Wilkinson': 1, 'Lisa Roberts Gillan': 1, 'Nelsan Ellis': 1, 'Michael Bunin': 1, 'Natalia Klimas': 1, 'Ellen Page': 1, 'Crispin Glover': 1, 'Eric Roberts': 1, 'Randy Couture': 1, 'Craig Ferguson': 1, 'America Ferrera': 1, 'Bruce Boxleitner': 1, 'Yaya DaCosta': 1, 'Donna Murphy': 1, 'M.C. Gainey': 1, 'Daniel Olbrychski': 1, 'Gary Sweet': 1, 'Arthur Angel': 1, 'Steven Berkoff': 1, 'Steve Toussaint': 1, 'Kieran Culkin': 1, 'Jake Abel': 1, 'Ethan Suplee': 1, 'Kevin Corrigan': 1, 'Maya Rudolph': 1, 'Jennifer Beals': 1, 'Taraji P. Henson': 1, 'Jimmi Simpson': 1, 'Noah Ringer': 1, 'Jackson Rathbone': 1, 'Dev Patel': 1, 'Shaun Toub': 1, \"Chris O'Dowd\": 1, 'Juliette Lewis': 1, \"Catherine O'Hara\": 1, 'Alex Borstein': 1, 'Emily Barclay': 1, 'Deborra-Lee Furness': 1, 'Cher': 1, 'Christina Aguilera': 1, 'Jemaine Clement': 1, 'Christina Applegate': 1, 'Pascale Hutton': 1, 'Kathryn Hahn': 1, 'Frank Langella': 1, 'Tom Cavanagh': 1, 'Christine Taylor': 1, 'Shawn Roberts': 1, \"Denis O'Hare\": 1, 'Wentworth Miller': 1, 'Ali Larter': 1, 'Kim Coates': 1, 'Kacey Barnfield': 1, 'Robbie Coltrane': 1, 'Mary Gibbs': 1, 'James Coburn': 1, 'Haley Joel Osment': 1, 'Sam Robards': 1, 'Jake Thomas': 1, 'Vincent Cassel': 1, 'Oded Fehr': 1, 'Corey Burton': 1, 'Claudia Christian': 1, 'John Mahoney': 1, 'Iain Glen': 1, 'Joseph Fiennes': 1, 'Bob Hoskins': 1, 'Shannyn Sossamon': 1, 'Laura Fraser': 1, 'Roselyn SÃ¡nchez': 1, 'Jeff Goldblum': 1, 'Alexander Pollock': 1, 'Miriam Margolyes': 1, 'Catherine McCormack': 1, 'Stephen Dillane': 1, 'Larry Bryggman': 1, 'Ming-Na Wen': 1, 'Kristen Wilson': 1, 'Raven-SymonÃ©': 1, 'Kyla Pratt': 1, 'Steve Burton': 1, 'Monica Potter': 1, 'Michael Wincott': 1, 'Mika Boorem': 1, 'Jason Bonham': 1, 'Kelsey Grammer': 1, 'Avery Brooks': 1, 'David Duchovny': 1, 'Orlando Jones': 1, 'Ted Levine': 1, 'Mario Van Peebles': 1, 'Ron Silver': 1, 'Marlon Brando': 1, 'Paul Soles': 1, 'Laurie Holden': 1, 'Hal Holbrook': 1, 'Christian Slater': 1, 'Kevin Pollak': 1, 'Brandy Norwood': 1, 'Troy Garity': 1, 'William Converse-Roberts': 1, 'Kip Pardue': 1, 'Robert Sean Leonard': 1, 'Estella Warren': 1, 'Ray Liotta': 1, \"Matt O'Leary\": 1, 'Bridget Fonda': 1, 'Chris Kattan': 1, 'Sam Neill': 1, 'Trevor Morgan': 1, 'Alessandro Nivola': 1, 'Ben Burtt': 1, 'Elissa Knight': 1, 'Fred Willard': 1, 'John Ratzenberger': 1, 'Leslie Bibb': 1, 'Karen Allen': 1, 'Mathieu Amalric': 1, 'Giancarlo Giannini': 1, 'Tilda Swinton': 1, 'Julia Ormond': 1, 'Luke Ford': 1, 'Tim Blake Nelson': 1, 'Cedric the Entertainer': 1, 'Doug Jones': 1, 'Rachel Bilson': 1, 'Carice van Houten': 1, 'Steven Strait': 1, 'Camilla Belle': 1, 'Nathanael Baring': 1, 'Mo Zinal': 1, 'Jae Head': 1, 'Sarah Jane Morris': 1, 'Miley Cyrus': 1, 'Susie Essman': 1, 'Mark Walton': 1, 'Bryan Brown': 1, 'Rhys Darby': 1, 'Sasha Alexander': 1, 'Fionnula Flanagan': 1, 'Kathleen Turner': 1, 'Simon McBurney': 1, 'Eliza Bennett': 1, 'Alexis Dziena': 1, 'Lucy Lawless': 1, 'Michelle Yeoh': 1, 'MÃ©lanie Thierry': 1, 'Jeffrey Donovan': 1, 'Geoff Pierson': 1, 'Sarah Bolger': 1, 'Andrew McCarthy': 1, 'Dwight Yoakam': 1, 'Romany Malco': 1, 'Meagan Good': 1, 'Emile Hirsch': 1, 'Scott Porter': 1, 'Carol Burnett': 1, 'Michael Angarano': 1, 'Collin Chou': 1, '50 Cent': 1, 'Donnie Wahlberg': 1, 'Emmanuelle Chriqui': 1, 'Nick Swardson': 1, 'Lainie Kazan': 1, 'Harry Treadaway': 1, 'Betty Buckley': 1, 'Tracey Ullman': 1, 'Scott Caan': 1, 'Hayley Atwell': 1, 'Alan Rickman': 1, 'Maggie Smith': 1, 'Kevin McNally': 1, 'Karin Konoval': 1, 'Freida Pinto': 1, 'Anil Kapoor': 1, 'Griffin Gluck': 1, 'Dakota Goyo': 1, 'Kevin Durand': 1, 'Jared Harris': 1, 'Kelly Reilly': 1, 'Blake Lively': 1, 'Nick Frost': 1, 'Jena Malone': 1, 'Will.i.am': 1, 'Walton Goggins': 1, 'Benedict Cumberbatch': 1, 'Jeremy Irvine': 1, 'Violante Placido': 1, 'Fergus Riordan': 1, 'Johnny Whitworth': 1, 'Matthew Macfadyen': 1, 'Will Rothhaar': 1, 'Cory Hardrict': 1, 'Jim Parrack': 1, 'Eugenio Derbez': 1, 'Tim Meadows': 1, 'Jay Chou': 1, 'Edward Furlong': 1, 'Rose McGowan': 1, 'Rachel Nichols': 1, 'Alan Alda': 1, 'Pink': 1, 'E.G. Daily': 1, 'Dan Fogler': 1, 'Breckin Meyer': 1, 'Elisabeth Harnois': 1, 'Jenny Slate': 1, 'Andy Buckley': 1, 'Jayma Mays': 1, 'Alan Cumming': 1, 'Kaley Cuoco': 1, 'Winona Ryder': 1, 'Cliff Robertson': 1, 'Rip Torn': 1, 'Lara Flynn Boyle': 1, 'Johnny Knoxville': 1, 'Samantha Morton': 1, 'Lois Smith': 1, 'Chris Sanders': 1, 'Daveigh Chase': 1, 'Tia Carrere': 1, 'Kevin McDonald': 1, 'Asia Argento': 1, 'Michael Roof': 1, 'Roscoe Lee Browne': 1, 'Martin Short': 1, 'Pierce Brosnan': 1, 'Rick Yune': 1, 'Toby Stephens': 1, 'Natasha Richardson': 1, 'Tyler Posey': 1, 'Daniel Day-Lewis': 1, 'Geena Davis': 1, 'Jonathan Lipnicki': 1, 'Anna Hoelck': 1, 'Alicia Witt': 1, 'Dana Ivey': 1, 'Robert Klein': 1, 'Rory Culkin': 1, 'Cherry Jones': 1, 'Francesca Neri': 1, 'Jonathan Frakes': 1, 'LeVar Burton': 1, 'Brent Spiner': 1, 'Gates McFadden': 1, 'Tyler Hoechlin': 1, 'Jennifer Jason Leigh': 1, 'Michael York': 1, 'Mindy Sterling': 1, 'Elizabeth Mitchell': 1, 'David Krumholtz': 1, 'Eric Lloyd': 1, 'Freddie Prinze Jr.': 1, 'Sarah Michelle Gellar': 1, 'Matthew Lillard': 1, 'Linda Cardellini': 1, 'Rowan Atkinson': 1, 'Daniel Studi': 1, 'Chopper Bernet': 1, 'Jeff LeBeau': 1, 'Courtney B. Vance': 1, 'Tom Berenger': 1, 'Charles S. Dutton': 1, 'Kelly Hu': 1, 'Steven Brand': 1, 'Bernard Hill': 1, 'Keith Dallas': 1, 'Madeleine Stowe': 1, 'Chris Klein': 1, 'Samantha Mumba': 1, 'Phyllida Law': 1, 'Laura Kirk': 1, 'Noah Emmerich': 1, 'Joss Ackland': 1, 'John Shrapnel': 1, 'Alexander Siddig': 1, 'Rachael Harris': 1, 'Zaid Farid': 1, 'Marcel IureÈ™': 1, 'Joe Pantoliano': 1, 'Jay Mohr': 1, 'Joe Morton': 1, 'Ron Rifkin': 1, 'Susanna Thompson': 1, 'Stephen Rea': 1, 'India Eisley': 1, 'Stacy Keach': 1, 'Rhys Ifans': 1, 'Kelly Macdonald': 1, 'Sam Claflin': 1, 'Suraj Sharma': 1, 'Ayush Tandon': 1, 'Gautam Belur': 1, 'Adil Hussain': 1, 'Chris Wedge': 1, 'Werner Herzog': 1, 'Sarah Silverman': 1, 'Jack McBrayer': 1, 'Jamie Elman': 1, 'Michael Stuhlbarg': 1, 'James Kidnie': 1, 'Heidi Hawkins': 1, 'Zac Efron': 1, 'Danny DeVito': 1, 'Taylor Swift': 1, 'Rob Riggle': 1, 'Alexander SkarsgÃ¥rd': 1, 'Brooklyn Decker': 1, 'Martin Klebba': 1, 'Elizabeth Reaser': 1, 'Sayed Badreya': 1, 'Aasif Mandvi': 1, 'Diego Boneta': 1, 'Jeremy Piven': 1, 'Brian Blessed': 1, 'Eva Amurri Martino': 1, 'Leighton Meester': 1, 'Vera Farmiga': 1, 'Adrianne Palicki': 1, 'Kodi Smit-McPhee': 1, 'Tucker Albrizzi': 1, 'Jodelle Ferland': 1, 'Daniela Ruah': 1, 'Aryana Engineer': 1, 'Mary Alice': 1, 'Helmut Bakaitis': 1, 'Albert Brooks': 1, 'Ellen DeGeneres': 1, 'Alexander Gould': 1, 'Brad Garrett': 1, 'Philip Baker Hall': 1, 'Catherine Bell': 1, 'Lisa Ann Walter': 1, 'Nick Stahl': 1, 'Kristanna Loken': 1, 'Albert Finney': 1, 'Jessica Lange': 1, 'Jason Biggs': 1, 'Alyson Hannigan': 1, 'Eddie Kaye Thomas': 1, 'Thomas Ian Nicholas': 1, 'Sean Connery': 1, 'Peta Wilson': 1, 'Shane West': 1, 'Stuart Townsend': 1, 'Fausto Callegarini': 1, 'Jeremy Sumpter': 1, 'Rachel Hurd-Wood': 1, 'Richard Briers': 1, 'Olivia Williams': 1, 'William Atherton': 1, 'Chad Lindberg': 1, \"James D'Arcy\": 1, 'Billy Boyd': 1, 'Joseph Morgan': 1, 'January Jones': 1, 'Hilary Swank': 1, 'LL Cool J': 1, 'Josh Charles': 1, 'Eamonn Walker': 1, 'Johnny Messner': 1, 'Uma Thurman': 1, 'Diane Keaton': 1, 'Nathaniel Parker': 1, 'Marsha Thomason': 1, 'Jennifer Tilly': 1, 'Eileen Atkins': 1, 'Jenna Elfman': 1, 'Heather Locklear': 1, 'Ludacris': 1, 'Regina King': 1, 'Kevin Nealon': 1, 'David McCullough': 1, 'Thomas Jane': 1, 'Damian Lewis': 1, 'Edward Herrmann': 1, 'Benicio del Toro': 1, 'Leslie Stefanson': 1, 'John Finn': 1, 'Kevin Conway': 1, 'C. Thomas Howell': 1, 'Wen Yann Shih': 1, 'Seymour Cassel': 1, 'Idina Menzel': 1, 'Jonathan Groff': 1, 'Santino Fontana': 1, 'Orto Ignatiussen': 1, 'Phaldut Sharma': 1, 'Christopher Eccleston': 1, 'Margot Robbie': 1, 'Kyle Chandler': 1, 'Rob Reiner': 1, 'Charlie Day': 1, 'Burn Gorman': 1, 'Andrea Riseborough': 1, 'Nikolaj Coster-Waldau': 1, 'Michael Shannon': 1, 'Miranda Cosgrove': 1, 'Sebastian Koch': 1, 'Yuliya Snigir': 1, 'Joel Murray': 1, 'Mireille Enos': 1, 'Abigail Hargrove': 1, 'Sterling Jerins': 1, 'Hailee Steinfeld': 1, 'Fred Ward': 1, 'Douglas Smith': 1, 'Leven Rambin': 1, 'Kou Shibasaki': 1, 'Min Tanaka': 1, 'Jamie Campbell Bower': 1, 'Kevin Zegers': 1, 'Jemima West': 1, 'Robert Sheehan': 1, 'Jason Sudeikis': 1, 'Aziz Ansari': 1, 'Chris Mulkey': 1, 'Yul Vazquez': 1, 'Joey King': 1, 'Eleanor Tomlinson': 1, 'Sarah Shahi': 1, 'ZoÃ« Kravitz': 1, 'Glenn Morshower': 1, 'Ryan Gosling': 1, 'Will Forte': 1, 'Barry Pepper': 1, 'Charlie Rowe': 1, 'Angourie Rice': 1, 'Katy Perry': 1, 'Tao Okamoto': 1, 'Rila Fukushima': 1, 'Svetlana Khodchenkova': 1, 'George Takei': 1, 'Colm Meaney': 1, 'Hugh Dancy': 1, 'Tiya Sircar': 1, 'Julia Winter': 1, 'Max Baker': 1, 'Caroline Chikezie': 1, 'Faith Ford': 1, 'Chris Potter': 1, 'Brittany Snow': 1, 'Justin Chatwin': 1, 'Youki Kudoh': 1, 'Tsai Chin': 1, 'Suzuka Ohgo': 1, 'Garry Marshall': 1, 'Don Knotts': 1, 'Julie Ann Emery': 1, 'Naomi Watts': 1, 'Colin Hanks': 1, 'Mel Brooks': 1, 'Paula Abdul': 1, 'Ice Cube': 1, 'Scott Speedman': 1, 'Xzibit': 1, 'Adam Brody': 1, 'AdriÃ¡n Alonso Barona': 1, 'Julio Oscar Mechoso': 1, 'Nick Chinlund': 1, 'Scott MacDonald': 1, 'Dina Spybey-Waters': 1, 'Ben Shenkman': 1, 'Craig Bierko': 1, 'Jason Schwartzman': 1, 'Ben Daniels': 1, 'Deobia Oparei': 1, 'Eugene Levy': 1, 'Tom Welling': 1, 'Jonathan Bennett': 1, 'Jesper Christensen': 1, 'Mackenzie Crook': 1, 'Roger Ashton-Griffiths': 1, 'Mathieu Kassovitz': 1, 'Hanns Zischler': 1, 'Angie Harmon': 1, 'Kate Beahan': 1, 'Michael Irby': 1, 'Burt Reynolds': 1, 'Michael Irvin': 1, 'Nelly': 1, 'Heike Makatsch': 1, 'Armin Rohde': 1, 'Wilfried Hochholdinger': 1, 'Lennie James': 1, 'Robert Mammone': 1, 'James Carpinello': 1, 'Mark Consuelos': 1, 'Cheech Marin': 1, 'Audrey Tautou': 1, 'Eli Wallach': 1, 'Jake Cherry': 1, 'Dick Van Dyke': 1, 'David Hasselhoff': 1, 'Henry Winkler': 1, 'Garry Shandling': 1, 'Wanda Sykes': 1, 'Kagiso Kuypers': 1, 'Lombardo Boyar': 1, 'Carlos Alazraqui': 1, 'Jeffrey Garcia': 1, 'Janeane Garofalo': 1, 'Jim Caviezel': 1, 'Adam Goldberg': 1, 'Ed Speleers': 1, 'Robert Carlyle': 1, 'Ryan Newman': 1, 'Mitchel Musso': 1, 'Sam Lerner': 1, 'Spencer Locke': 1, 'Tammy Blanchard': 1, 'Luis Tosar': 1, 'Ryan Phillippe': 1, 'Jesse Bradford': 1, 'John Benjamin Hickey': 1, 'John Slattery': 1, 'Patricia Clarkson': 1, 'David Morrissey': 1, 'Stan Collymore': 1, 'Gary Cole': 1, 'Austin Crim': 1, 'Jake Johnson': 1, 'Brian Howe': 1, 'James Karen': 1, 'Richard Dreyfuss': 1, 'Shawn Wayans': 1, 'John Witherspoon': 1, 'Jay Hernandez': 1, 'Debra Messing': 1, 'Jennifer Hudson': 1, 'Sela Ward': 1, 'Melissa Sagemiller': 1, 'Omari Hardwick': 1, 'Brian Tee': 1, 'Nathalie Kelley': 1, 'Shad Moss': 1, 'Mos Def': 1, 'David Morse': 1, 'Jenna Stern': 1, 'David Zayas': 1, 'Eva Longoria': 1, 'Martin Donovan': 1, 'Ritchie Coster': 1, 'Scott Hazell': 1, 'Mac McDonald': 1, 'Philip Winchester': 1, 'Todd Boyce': 1, 'Bob Balaban': 1, 'Sarita Choudhury': 1, 'Cindy Cheung': 1, 'Craig T. Nelson': 1, 'Holly Hunter': 1, 'Dominique Louis': 1, 'Bridget Moynahan': 1, 'Alan Tudyk': 1, 'Rob Schneider': 1, 'Sean Astin': 1, 'Lusia Strus': 1, 'Shuler Hensley': 1, 'Rupert Evans': 1, 'Michael Jeter': 1, 'Eddie Deezen': 1, 'Chris Coppola': 1, 'Nona Gaye': 1, 'Dash Mihok': 1, 'Jay O. Sanders': 1, 'Peter Berg': 1, 'Wesley Snipes': 1, 'Bai Ling': 1, 'Sanaa Lathan': 1, 'Raoul Bova': 1, 'Colin Salmon': 1, 'Tommy Flanagan': 1, 'Jared Leto': 1, 'Rosemary Harris': 1, 'Marc Anthony': 1, 'Frances Conroy': 1, 'Christina Cox': 1, 'Shelbie Bruce': 1, 'Jason Patric': 1, 'Emilio EchevarrÃ\\xada': 1, 'Kimberly Elise': 1, 'Omar Epps': 1, 'RenÃ©e Taylor': 1, 'G. W. Bailey': 1, 'Zuleikha Robinson': 1, 'Omar Sharif': 1, 'Adam Alexi-Malle': 1, 'Louise Lombard': 1, 'Snoop Dogg': 1, 'Fred Williamson': 1, 'Minnie Driver': 1, 'CÃ©cile De France': 1, 'Robert Fyfe': 1, 'MaÃ¯ Anh Le': 1, 'Oanh Nguyen': 1, \"Jaran 'See Tao' Petcharoen\": 1, 'StÃ©phanie Lagarde': 1, 'Morris Chestnut': 1, 'Ian Holm': 1, 'Lou Romano': 1, 'Brian Dennehy': 1, 'Peter Sohn': 1, 'Charlie Tahan': 1, 'Salli Richardson-Whitfield': 1, 'Willow Smith': 1, 'Thomas Haden Church': 1, 'Topher Grace': 1, 'Charlie Cox': 1, 'Vincent Regan': 1, 'Wes Bentley': 1, 'Kate Butler': 1, 'Lymari Nadal': 1, 'Cameron Richardson': 1, 'Jerry Seinfeld': 1, 'Laurie Metcalf': 1, 'Nicole Sullivan': 1, 'Harland Williams': 1, 'Patrick Dempsey': 1, 'Rachel Covey': 1, 'Anthony Edwards': 1, 'Dan Castellaneta': 1, 'Julie Kavner': 1, 'Nancy Cartwright': 1, 'Yeardley Smith': 1, 'Om Puri': 1, 'Dakota Blue Richards': 1, 'Dallas Roberts': 1, 'Peter Fonda': 1, 'Lena Olin': 1, 'Charlie Hewson': 1, 'Jimmy Bennett': 1, 'Tory Kittles': 1, 'Jerry Stiller': 1, 'Rob Corddry': 1, 'Jon Heder': 1, 'James Woods': 1, 'ZoÃ« Bell': 1, 'Vanessa Ferlito': 1, 'Sydney Tamiia Poitier': 1, 'Rachael Taylor': 1, 'Jeremy Northam': 1, 'Jackson Bond': 1, 'Richard Portnow': 1, 'Gary Dourdan': 1, 'Terry Crews': 1, 'Clifton Powell': 1, 'Lester Speight': 1, 'Aishwarya Rai Bachchan': 1, 'Peter Mullan': 1, 'Oliver Reed': 1, 'Taylor Momsen': 1, 'Christine Baranski': 1, 'Bill Irwin': 1, 'Paul Sanchez': 1, 'Lari White': 1, 'Dougray Scott': 1, 'Eartha Kitt': 1, 'Wendie Malick': 1, 'Lauren Holly': 1, 'Mark Feuerstein': 1, 'D. B. Sweeney': 1, 'Alfre Woodard': 1, 'Ossie Davis': 1, 'Max Casella': 1, 'Hayden Panettiere': 1, 'John Forsythe': 1, 'Joely Richardson': 1, 'Jon Bon Jovi': 1, 'David Keith': 1, 'Will Patton': 1, 'Blythe Danner': 1, 'Rosie Perez': 1, 'Armand Assante': 1, 'Edward James Olmos': 1, 'Elisabeth Shue': 1, 'Kim Dickens': 1, 'Rhona Mitra': 1, 'Joel Gretsch': 1, 'Saul Rubinek': 1, 'Michael Rapaport': 1, 'Tony Goldwyn': 1, 'Sarah Wynter': 1, 'Spencer Treat Clark': 1, 'John Patrick Amedori': 1, 'Clint Eastwood': 1, 'Patrick Fugit': 1, 'Simon Baker': 1, \"Jerry O'Connell\": 1, 'Rachael Leigh Cook': 1, 'Johnny Strong': 1, 'Stephen Baldwin': 1, 'Kristen Johnston': 1, 'Joan Collins': 1, 'Steven Culp': 1, 'Shawn Driscoll': 1, 'Bill Pullman': 1, \"Chris O'Donnell\": 1, 'Robin Tunney': 1, 'Diana Scarwid': 1, 'James Remar': 1, 'Alice Evans': 1, 'Tim McInnerny': 1, 'GÃ©rard Depardieu': 1, 'Janet Jackson': 1, 'Larry Miller': 1, 'John Ales': 1, 'Richard Gant': 1, 'James Spader': 1, 'Robert Forster': 1, 'Lou Diamond Phillips': 1, 'Lily Tomlin': 1, 'Rene Russo': 1, 'Jason Alexander': 1, 'Piper Perabo': 1})\n"
     ]
    }
   ],
   "source": [
    "high_budget = data[data.budget > data.budget.mean()]\n",
    "hb_actors = high_budget.cast.str.cat(sep='|').split('|')\n",
    "c = collections.Counter()\n",
    "for actor in hb_actors:\n",
    "    c[actor] += 1\n",
    "print(c)"
   ]
  },
  {
   "cell_type": "markdown",
   "metadata": {
    "colab_type": "text",
    "id": "NIh6AaW5Vp_n"
   },
   "source": [
    "# 17. В фильмах какого жанра больше всего снимался Nicolas Cage? "
   ]
  },
  {
   "cell_type": "code",
   "execution_count": 122,
   "metadata": {},
   "outputs": [],
   "source": [
    "answers['17'] = '2. Action'"
   ]
  },
  {
   "cell_type": "code",
   "execution_count": 121,
   "metadata": {
    "colab": {},
    "colab_type": "code",
    "id": "H74SJDIBVp_n"
   },
   "outputs": [
    {
     "name": "stdout",
     "output_type": "stream",
     "text": [
      "Counter({'Action': 17, 'Thriller': 15, 'Drama': 12, 'Crime': 10, 'Fantasy': 8, 'Adventure': 7, 'Comedy': 6, 'Science Fiction': 4, 'Mystery': 3, 'Animation': 3, 'Family': 3, 'History': 2, 'War': 1, 'Horror': 1, 'Romance': 1})\n"
     ]
    }
   ],
   "source": [
    "cage_films = data[data.cast.str.contains('Nicolas Cage')]\n",
    "\n",
    "cage_genres = cage_films.genres.str.cat(sep='|').split('|')\n",
    "c = collections.Counter()\n",
    "for genre in cage_genres:\n",
    "    c[genre] += 1\n",
    "print(c)"
   ]
  },
  {
   "cell_type": "markdown",
   "metadata": {
    "colab_type": "text",
    "id": "RqOmPRfWVp_q"
   },
   "source": [
    "# 18. Самый убыточный фильм от Paramount Pictures"
   ]
  },
  {
   "cell_type": "code",
   "execution_count": 126,
   "metadata": {
    "colab": {},
    "colab_type": "code",
    "id": "9E_B0Y96Vp_r"
   },
   "outputs": [],
   "source": [
    "answers['18'] = '1. K-19: The Widowmaker (tt0267626)'"
   ]
  },
  {
   "cell_type": "code",
   "execution_count": 125,
   "metadata": {},
   "outputs": [
    {
     "data": {
      "text/html": [
       "<div>\n",
       "<style scoped>\n",
       "    .dataframe tbody tr th:only-of-type {\n",
       "        vertical-align: middle;\n",
       "    }\n",
       "\n",
       "    .dataframe tbody tr th {\n",
       "        vertical-align: top;\n",
       "    }\n",
       "\n",
       "    .dataframe thead th {\n",
       "        text-align: right;\n",
       "    }\n",
       "</style>\n",
       "<table border=\"1\" class=\"dataframe\">\n",
       "  <thead>\n",
       "    <tr style=\"text-align: right;\">\n",
       "      <th></th>\n",
       "      <th>imdb_id</th>\n",
       "      <th>budget</th>\n",
       "      <th>revenue</th>\n",
       "      <th>original_title</th>\n",
       "      <th>cast</th>\n",
       "      <th>director</th>\n",
       "      <th>tagline</th>\n",
       "      <th>overview</th>\n",
       "      <th>runtime</th>\n",
       "      <th>genres</th>\n",
       "      <th>production_companies</th>\n",
       "      <th>release_date</th>\n",
       "      <th>vote_average</th>\n",
       "      <th>release_year</th>\n",
       "      <th>profit</th>\n",
       "    </tr>\n",
       "  </thead>\n",
       "  <tbody>\n",
       "    <tr>\n",
       "      <th>925</th>\n",
       "      <td>tt0267626</td>\n",
       "      <td>100000000</td>\n",
       "      <td>35168966</td>\n",
       "      <td>K-19: The Widowmaker</td>\n",
       "      <td>Harrison Ford|Liam Neeson|Peter Sarsgaard|Joss...</td>\n",
       "      <td>Kathryn Bigelow</td>\n",
       "      <td>Fate has found its hero.</td>\n",
       "      <td>When Russia's first nuclear submarine malfunct...</td>\n",
       "      <td>138</td>\n",
       "      <td>Thriller|Drama|History</td>\n",
       "      <td>Paramount Pictures|Intermedia Films|National G...</td>\n",
       "      <td>7/19/2002</td>\n",
       "      <td>6.0</td>\n",
       "      <td>2002</td>\n",
       "      <td>-64831034</td>\n",
       "    </tr>\n",
       "  </tbody>\n",
       "</table>\n",
       "</div>"
      ],
      "text/plain": [
       "       imdb_id     budget   revenue        original_title  \\\n",
       "925  tt0267626  100000000  35168966  K-19: The Widowmaker   \n",
       "\n",
       "                                                  cast         director  \\\n",
       "925  Harrison Ford|Liam Neeson|Peter Sarsgaard|Joss...  Kathryn Bigelow   \n",
       "\n",
       "                      tagline  \\\n",
       "925  Fate has found its hero.   \n",
       "\n",
       "                                              overview  runtime  \\\n",
       "925  When Russia's first nuclear submarine malfunct...      138   \n",
       "\n",
       "                     genres  \\\n",
       "925  Thriller|Drama|History   \n",
       "\n",
       "                                  production_companies release_date  \\\n",
       "925  Paramount Pictures|Intermedia Films|National G...    7/19/2002   \n",
       "\n",
       "     vote_average  release_year    profit  \n",
       "925           6.0          2002 -64831034  "
      ]
     },
     "metadata": {},
     "output_type": "display_data"
    }
   ],
   "source": [
    "PP_films = data[data.production_companies.str.contains('Paramount Pictures')]\n",
    "display(PP_films[PP_films.profit == PP_films.profit.min()])"
   ]
  },
  {
   "cell_type": "markdown",
   "metadata": {
    "colab_type": "text",
    "id": "vS8Ur6ddVp_u"
   },
   "source": [
    "# 19. Какой год стал самым успешным по суммарным кассовым сборам?"
   ]
  },
  {
   "cell_type": "code",
   "execution_count": 135,
   "metadata": {
    "colab": {},
    "colab_type": "code",
    "id": "Dnbt4GdIVp_v"
   },
   "outputs": [],
   "source": [
    "answers['19'] = '5. 2015'"
   ]
  },
  {
   "cell_type": "code",
   "execution_count": 134,
   "metadata": {},
   "outputs": [
    {
     "data": {
      "text/plain": [
       "2015    25449202382\n",
       "2014    23405862953\n",
       "2013    23213799791\n",
       "2012    23079001687\n",
       "2011    22676791872\n",
       "2010    21071204961\n",
       "2009    20261791024\n",
       "2008    18252781990\n",
       "2007    18162406801\n",
       "2004    15663430720\n",
       "2005    15309425558\n",
       "2006    14775042320\n",
       "2003    14346123312\n",
       "2002    14136361487\n",
       "2001    13017764865\n",
       "2000    10664099805\n",
       "dtype: int64"
      ]
     },
     "execution_count": 134,
     "metadata": {},
     "output_type": "execute_result"
    }
   ],
   "source": [
    "pd.Series({year: sum(data[data.release_year == year].revenue)\n",
    "           for year in data.release_year.values}).sort_values(ascending=False)"
   ]
  },
  {
   "cell_type": "markdown",
   "metadata": {
    "colab_type": "text",
    "id": "JAzJh4QAVp_z"
   },
   "source": [
    "# 20. Какой самый прибыльный год для студии Warner Bros?"
   ]
  },
  {
   "cell_type": "code",
   "execution_count": 139,
   "metadata": {},
   "outputs": [],
   "source": [
    "answers['20'] = '1. 2014'"
   ]
  },
  {
   "cell_type": "code",
   "execution_count": 138,
   "metadata": {
    "colab": {},
    "colab_type": "code",
    "id": "wgVu02DEVp_0"
   },
   "outputs": [
    {
     "data": {
      "text/plain": [
       "2014    3243064519\n",
       "2007    3183675217\n",
       "2008    3050595031\n",
       "2010    3008712985\n",
       "2011    2845393682\n",
       "2003    2745493377\n",
       "2009    2737954136\n",
       "2004    2731933725\n",
       "2013    2599953400\n",
       "2005    2412980298\n",
       "2001    2266545668\n",
       "2012    1869520056\n",
       "2002    1702709901\n",
       "2015    1691168351\n",
       "2006    1521170743\n",
       "2000    1025531386\n",
       "dtype: int64"
      ]
     },
     "execution_count": 138,
     "metadata": {},
     "output_type": "execute_result"
    }
   ],
   "source": [
    "pd.Series({year: sum(data[(data.production_companies.str.contains('Warner Bros')) & (data.release_year == year)].revenue)\n",
    "           for year in data.release_year.values}).sort_values(ascending=False)"
   ]
  },
  {
   "cell_type": "markdown",
   "metadata": {
    "colab_type": "text",
    "id": "8Im1S2HRVp_4"
   },
   "source": [
    "# 21. В каком месяце за все годы суммарно вышло больше всего фильмов?"
   ]
  },
  {
   "cell_type": "code",
   "execution_count": 194,
   "metadata": {},
   "outputs": [],
   "source": [
    "answers['21'] = '4. Сентябрь'"
   ]
  },
  {
   "cell_type": "code",
   "execution_count": 193,
   "metadata": {},
   "outputs": [
    {
     "data": {
      "text/plain": [
       "9     227\n",
       "12    190\n",
       "10    186\n",
       "8     161\n",
       "3     156\n",
       "4     149\n",
       "6     147\n",
       "11    146\n",
       "7     142\n",
       "5     140\n",
       "2     135\n",
       "1     110\n",
       "Name: release_month, dtype: int64"
      ]
     },
     "execution_count": 193,
     "metadata": {},
     "output_type": "execute_result"
    }
   ],
   "source": [
    "# заранее созданная колонка с месяцами релизов делает задачу очень простой\n",
    "data.release_month.value_counts()"
   ]
  },
  {
   "cell_type": "markdown",
   "metadata": {
    "colab_type": "text",
    "id": "uAJsZ_NeVp_7"
   },
   "source": [
    "# 22. Сколько суммарно вышло фильмов летом? (за июнь, июль, август)"
   ]
  },
  {
   "cell_type": "code",
   "execution_count": 239,
   "metadata": {},
   "outputs": [],
   "source": [
    "answers['22'] = '2. 450'"
   ]
  },
  {
   "cell_type": "code",
   "execution_count": 206,
   "metadata": {
    "colab": {},
    "colab_type": "code",
    "id": "Aa-hEREoVp_8"
   },
   "outputs": [
    {
     "name": "stdout",
     "output_type": "stream",
     "text": [
      "450\n"
     ]
    }
   ],
   "source": [
    "# чтобы посчитать, превратим таблицу, полученную функцией value_counts, в Series\n",
    "monthly_movies = pd.Series(data.release_month.value_counts())\n",
    "\n",
    "summer_movies = monthly_movies[6] + monthly_movies[7] + monthly_movies[8]\n",
    "print(summer_movies)"
   ]
  },
  {
   "cell_type": "markdown",
   "metadata": {
    "colab_type": "text",
    "id": "G94ppOY1VqAA"
   },
   "source": [
    "# 23. Для какого режиссера зима – самое продуктивное время года? "
   ]
  },
  {
   "cell_type": "code",
   "execution_count": 270,
   "metadata": {},
   "outputs": [],
   "source": [
    "answers['23'] = '5. Peter Jackson'"
   ]
  },
  {
   "cell_type": "code",
   "execution_count": 269,
   "metadata": {},
   "outputs": [
    {
     "name": "stdout",
     "output_type": "stream",
     "text": [
      "Counter({'Peter Jackson': 7, 'Clint Eastwood': 6, 'Steven Soderbergh': 6, 'Shawn Levy': 4, 'Nancy Meyers': 4, 'Martin Scorsese': 4, 'Adam Shankman': 4, 'Ridley Scott': 3, 'Rob Marshall': 3, 'Tim Burton': 3, 'Steve Carr': 3, 'Patrick Lussier': 3, 'Donald Petrie': 3, 'Marc Lawrence': 3, 'Lasse HallstrÃ¶m': 3, 'Edward Zwick': 3, 'Jason Friedberg': 3, 'Aaron Seltzer': 3, 'Peter Farrelly': 3, 'Steven Spielberg': 3, 'Wayne Wang': 3, 'Quentin Tarantino': 2, 'Adam McKay': 2, 'Michael Mann': 2, 'Glenn Ficarra': 2, 'John Requa': 2, 'Pierre Morel': 2, 'Wes Anderson': 2, 'Paul Thomas Anderson': 2, 'Jaume Collet-Serra': 2, 'George Clooney': 2, 'Shana Feste': 2, 'Ken Kwapis': 2, 'Henry Selick': 2, 'P.J. Hogan': 2, 'David S. Goyer': 2, 'Paul McGuigan': 2, 'Marcus Nispel': 2, 'Andrzej Bartkowiak': 2, 'Scott Cooper': 2, 'Allen Hughes': 2, 'Garry Marshall': 2, 'David O. Russell': 2, 'James L. Brooks': 2, 'Brian Levant': 2, 'Martin Campbell': 2, 'Ron Howard': 2, 'Cameron Crowe': 2, 'Dennis Dugan': 2, 'Mark Waters': 2, 'Thomas Carter': 2, 'Bryan Singer': 2, 'Sylvester Stallone': 2, 'Jon M. Chu': 2, 'Gabriele Muccino': 2, 'Andy Tennant': 2, 'David Wain': 2, 'Brad Anderson': 2, 'Gregory Hoblit': 2, 'Simon West': 2, 'Bobby Farrelly': 2, 'Jason Reitman': 2, 'Joe Carnahan': 2, 'Stephen Daldry': 2, 'John Whitesell': 2, 'Spike Jonze': 2, 'Denzel Washington': 2, 'Mark Steven Johnson': 2, 'John Moore': 2, 'Walter Hill': 2, 'Brett Ratner': 2, 'Peter Segal': 2, 'Francis Lawrence': 2, 'Rob Reiner': 2, 'Wes Craven': 2, 'Mel Gibson': 2, 'Mike Nichols': 2, 'Joel Schumacher': 2, 'J.J. Abrams': 1, 'Alejandro GonzÃ¡lez IÃ±Ã¡rritu': 1, 'Lana Wachowski': 1, 'Lilly Wachowski': 1, 'Alex Garland': 1, 'Olivier Megaton': 1, 'Sam Taylor-Johnson': 1, 'Matthew Vaughn': 1, 'Ericson Core': 1, 'David Koepp': 1, 'Sean Anders': 1, 'Ari Sandel': 1, 'Jeremy Garelick': 1, 'Jason Moore': 1, 'Dean Israelite': 1, 'Paul Tibbitt': 1, 'Mike Binder': 1, 'Evan Goldberg': 1, 'Seth Rogen': 1, 'Phil Lord': 1, 'Christopher Miller': 1, 'Sergey Bodrov': 1, 'J.C. Chandor': 1, 'Tim Story': 1, 'Kenneth Branagh': 1, 'JosÃ© Padilha': 1, 'Rob Minkoff': 1, 'Angelina Jolie': 1, 'Ava DuVernay': 1, 'Paul W.S. Anderson': 1, 'Will Gluck': 1, 'Stuart Beattie': 1, 'Tom Gormican': 1, 'Akiva Goldsman': 1, 'Russell Crowe': 1, 'Steve Pink': 1, 'Christopher Spencer': 1, 'GrÃ©gory Levasseur': 1, 'Renny Harlin': 1, 'Rupert Wyatt': 1, 'Matt Bettinelli-Olpin': 1, 'Tyler Gillett': 1, 'James Cameron': 1, 'Patrick Tatopoulos': 1, 'Guy Ritchie': 1, 'Ron Clements': 1, 'John Musker': 1, 'Jim Sheridan': 1, 'Betty Thomas': 1, 'Gary Winick': 1, 'Michael Spierig': 1, 'Peter Spierig': 1, 'Antoine Fuqua': 1, 'Rajkumar Hirani': 1, 'NimrÃ³d Antal': 1, 'Tom Tykwer': 1, 'Thor Freudenthal': 1, 'Jonas Elmer': 1, 'Darren Aronofsky': 1, 'Joseph Kosinski': 1, 'Florian Henckel von Donnersmarck': 1, 'Ethan Coen': 1, 'Joel Coen': 1, 'Paul Weitz': 1, 'Chris Columbus': 1, 'Albert Hughes': 1, 'Anand Tucker': 1, 'Rob Letterman': 1, 'Roman Polanski': 1, 'Scott Stewart': 1, 'Kevin Smith': 1, 'Neil Marshall': 1, 'Roger Michell': 1, 'Michael Lembeck': 1, 'Breck Eisner': 1, 'Eric Brevig': 1, 'Tom Vaughan': 1, 'John Erick Dowdle': 1, 'Joel Gallen': 1, 'John A. Davis': 1, 'Peter Howitt': 1, 'Jessie Nelson': 1, 'John Boorman': 1, \"Pat O'Connor\": 1, 'Jesse Dylan': 1, 'Frank Darabont': 1, 'Demian Lichtenstein': 1, 'Francine McDougall': 1, 'Doug Liman': 1, 'Roland Emmerich': 1, 'Scott Derrickson': 1, 'Matt Reeves': 1, 'Peyton Reed': 1, 'David Frankel': 1, 'Anne Fletcher': 1, 'Iain Softley': 1, 'Lexi Alexander': 1, 'Pete Travis': 1, 'Martin McDonagh': 1, 'David Moreau': 1, 'Xavier Palud': 1, 'Frank Miller': 1, 'Sam Mendes': 1, 'Malcolm D. Lee': 1, 'Nicolas Winding Refn': 1, 'Brad Bird': 1, 'David Fincher': 1, 'Ivan Reitman': 1, 'D.J. Caruso': 1, 'Mark Neveldine': 1, 'Brian Taylor': 1, 'Mikael HÃ¥fstrÃ¶m': 1, 'Greg Mottola': 1, 'Dominic Sena': 1, 'Chris Gorak': 1, 'Christian E. Christiansen': 1, 'Michel Gondry': 1, 'Daniel Barnz': 1, 'Mike Mitchell': 1, 'Kelly Asbury': 1, 'Kevin Macdonald': 1, 'David Gordon Green': 1, 'Alister Grierson': 1, 'Benny Chan': 1, 'Phyllida Lloyd': 1, 'Lee Tamahori': 1, 'Rodrigo GarcÃ\\xada': 1, 'Joel Zwick': 1, 'Andrew Davis': 1, 'Stuart Baird': 1, 'Kurt Wimmer': 1, 'Miguel Arteta': 1, 'Jim Gillespie': 1, 'Ron Shelton': 1, 'Nick Cassavetes': 1, 'Michael Rymer': 1, 'Robin Budd': 1, 'Donovan Cook': 1, 'Dewey Nicks': 1, 'Alexander Payne': 1, 'Mark Pellington': 1, 'Tamra Davis': 1, 'Tom Shadyac': 1, 'Charles Stone III': 1, 'MÃ¥ns MÃ¥rlind': 1, 'BjÃ¶rn Stein': 1, 'Christopher McQuarrie': 1, 'Michael Sucsy': 1, 'Brad Peyton': 1, 'Tom Hooper': 1, 'Kathryn Bigelow': 1, 'Josh Trank': 1, 'Mike McCoy': 1, 'Scott Waugh': 1, 'Baltasar KormÃ¡kur': 1, 'Judd Apatow': 1, 'James Watkins': 1, 'Daniel Espinosa': 1, 'Asger Leth': 1, 'Julie Anne Robinson': 1, 'Anthony Hemingway': 1, 'Andy Fickman': 1, 'Steve Trenbirth': 1, 'Todd Phillips': 1, 'David Dobkin': 1, 'John Woo': 1, 'David R. Ellis': 1, 'Anthony Minghella': 1, 'Ronald F. Maxwell': 1, 'Alan Parker': 1, 'Chris Koch': 1, 'Ben Stiller': 1, 'Jonathan Levine': 1, 'Tommy Wirkola': 1, 'Carl Rinsch': 1, 'Peter Berg': 1, 'Harmony Korine': 1, 'Taylor Hackford': 1, 'Ruben Fleischer': 1, 'Seth Gordon': 1, 'John Luessenhop': 1, 'Andy Muschietti': 1, 'Steven Brill': 1, 'Elizabeth Banks': 1, 'Rusty Cundieff': 1, 'James Duffy': 1, 'Griffin Dunne': 1, 'Patrik Forsberg': 1, 'James Gunn': 1, 'Will Graham': 1, 'Jonathan van Tulleken': 1, 'Callan Brunker': 1, 'Giuseppe Tornatore': 1, 'Jonathan Teplitzky': 1, 'Neil Nightingale': 1, 'Barry Cook': 1, 'Ric Roman Waugh': 1, 'John Wells': 1, 'Christopher B. Landon': 1, 'Ed Gass-Donnelly': 1, 'Justin Chadwick': 1, 'Andrew Adamson': 1, 'James McTeigue': 1, 'Garth Jennings': 1, 'Rob Bowman': 1, 'Cory Edwards': 1, 'Todd Edwards': 1, 'Tony Leech': 1, 'John Polson': 1, 'Frederik Du Chau': 1, 'Dean Parisot': 1, 'Louis Leterrier': 1, 'Jean-FranÃ§ois Richet': 1, 'Clare Kilner': 1, 'Geoffrey Sax': 1, 'Uwe Boll': 1, 'Stephen Kay': 1, 'Niki Caro': 1, 'Len Wiseman': 1, 'Frank Marshall': 1, 'James Wong': 1, 'Stefen Fangmeier': 1, 'Robert De Niro': 1, \"Matthew O'Callaghan\": 1, 'McG': 1, 'Joe Roth': 1, 'Nick Hurran': 1, 'Bill Condon': 1, 'Chris Noonan': 1, 'Craig Brewer': 1, 'Richard Eyre': 1, 'Wayne Kramer': 1, 'Richard Loncraine': 1, 'Glen Morgan': 1, 'Justin Lin': 1, 'Eric Bress': 1, 'J. Mackye Gruber': 1, 'Jay Roach': 1, 'Brad Silberling': 1, 'Jeff Schaffer': 1, 'John Hamburg': 1, 'Philip Kaufman': 1, 'Sara Sugarman': 1, 'Guy Ferland': 1, 'Kevin Rodney Sullivan': 1, 'Joseph Kahn': 1, \"Gavin O'Connor\": 1, 'Jay Chandrasekhar': 1, 'George Armitage': 1, 'Kevin Allen': 1, 'Jon Turteltaub': 1, 'GÃ¡bor CsupÃ³': 1, 'Tim Hill': 1, 'Chris Weitz': 1, 'Jon Avnet': 1, 'Mennan Yapo': 1, 'Dave Meyers': 1, 'Michael Winterbottom': 1, 'Brian Robbins': 1, 'Richard LaGravenese': 1, 'Jay Russell': 1, 'Jake Kasdan': 1, 'David Leland': 1, 'Peter Webber': 1, 'Tyler Perry': 1, 'Ben Garant': 1, 'Robert Zemeckis': 1, 'Mark Dindal': 1, 'David Twohy': 1, 'Ben Younger': 1, 'Sam Raimi': 1, 'Danny Leiner': 1, 'Jonathan Lynn': 1, 'Roger Donaldson': 1, 'Danny Boyle': 1, 'John Frankenheimer': 1, 'Gus Van Sant': 1, 'Jack Sholder': 1, 'Courtney Solomon': 1, 'Diane Keaton': 1})\n"
     ]
    }
   ],
   "source": [
    "winter_films = data[(data.release_month <= 2) | (data.release_month == 12)]\n",
    "\n",
    "winter_directors = winter_films.director.str.cat(sep='|').split('|')\n",
    "c = collections.Counter()\n",
    "for director in winter_directors:\n",
    "    c[director] += 1\n",
    "print(c)"
   ]
  },
  {
   "cell_type": "markdown",
   "metadata": {
    "colab_type": "text",
    "id": "RBo0JVjVVqAF"
   },
   "source": [
    "# 24. Какая студия дает самые длинные названия своим фильмам по количеству символов?"
   ]
  },
  {
   "cell_type": "code",
   "execution_count": 242,
   "metadata": {},
   "outputs": [],
   "source": [
    "answers['24'] = '5. Four By Two Productions'"
   ]
  },
  {
   "cell_type": "code",
   "execution_count": 236,
   "metadata": {
    "colab": {},
    "colab_type": "code",
    "id": "QRGS8L0iVqAG"
   },
   "outputs": [
    {
     "name": "stderr",
     "output_type": "stream",
     "text": [
      "C:\\Users\\dhanb\\anaconda3\\lib\\site-packages\\pandas\\core\\strings.py:1952: UserWarning: This pattern has match groups. To actually get the groups, use str.extract.\n",
      "  return func(self, *args, **kwargs)\n"
     ]
    }
   ],
   "source": [
    "# создаем список студий\n",
    "studios = data.production_companies.str.cat(sep='|').split('|')\n",
    "\n",
    "# используем ранее созданную колонку title_length (в \"Предобработке\"), создаем список из средних значений\n",
    "studios_titles = pd.Series({studio: data[data.production_companies.str.contains(studio)].title_length.mean()\n",
    "                            for studio in studios}).sort_values(ascending=False)"
   ]
  },
  {
   "cell_type": "code",
   "execution_count": 238,
   "metadata": {},
   "outputs": [
    {
     "data": {
      "text/plain": [
       "Four By Two Productions                                 83.0\n",
       "Jim Henson Company, The                                 59.0\n",
       "Dos Corazones                                           47.0\n",
       "Polsky Films                                            46.0\n",
       "Museum Canada Productions                               46.0\n",
       "                                                        ... \n",
       "Warner Independent Pictures (WIP)                        NaN\n",
       "The Movie Network (TMN)                                  NaN\n",
       "Munich Film Partners & Company (MFP) MI2 Productions     NaN\n",
       "Danmarks Radio (DR)                                      NaN\n",
       "Munich Film Partners & Company (MFP) ROE Production      NaN\n",
       "Length: 1771, dtype: float64"
      ]
     },
     "metadata": {},
     "output_type": "display_data"
    }
   ],
   "source": [
    "display(studios_titles)"
   ]
  },
  {
   "cell_type": "markdown",
   "metadata": {
    "colab_type": "text",
    "id": "9G0hbvR7VqAK"
   },
   "source": [
    "# 25. Описание фильмов какой студии в среднем самые длинные по количеству слов?"
   ]
  },
  {
   "cell_type": "code",
   "execution_count": 250,
   "metadata": {},
   "outputs": [],
   "source": [
    "answers['25'] = '3. Midnight Picture Show'"
   ]
  },
  {
   "cell_type": "code",
   "execution_count": 249,
   "metadata": {
    "colab": {},
    "colab_type": "code",
    "id": "Ge2GsLNxVqAK"
   },
   "outputs": [
    {
     "name": "stderr",
     "output_type": "stream",
     "text": [
      "C:\\Users\\dhanb\\anaconda3\\lib\\site-packages\\pandas\\core\\strings.py:1952: UserWarning: This pattern has match groups. To actually get the groups, use str.extract.\n",
      "  return func(self, *args, **kwargs)\n"
     ]
    },
    {
     "data": {
      "text/plain": [
       "Midnight Picture Show                                   175.0\n",
       "Room 9 Entertainment                                    161.0\n",
       "Heineken Branded Entertainment                          161.0\n",
       "98 MPH Productions                                      159.0\n",
       "Brookwell-McNamara Entertainment                        156.0\n",
       "                                                        ...  \n",
       "Warner Independent Pictures (WIP)                         NaN\n",
       "The Movie Network (TMN)                                   NaN\n",
       "Munich Film Partners & Company (MFP) MI2 Productions      NaN\n",
       "Danmarks Radio (DR)                                       NaN\n",
       "Munich Film Partners & Company (MFP) ROE Production       NaN\n",
       "Length: 1771, dtype: float64"
      ]
     },
     "metadata": {},
     "output_type": "display_data"
    }
   ],
   "source": [
    "# список студий создан на прошлом шаге\n",
    "\n",
    "studios_overview = pd.Series({studio: data[data.production_companies.str.contains(studio)].words_in_overview.mean()\n",
    "                              for studio in studios}).sort_values(ascending=False)\n",
    "display(studios_overview)"
   ]
  },
  {
   "cell_type": "markdown",
   "metadata": {
    "colab_type": "text",
    "id": "FJ1AFt90VqAP"
   },
   "source": [
    "# 26. Какие фильмы входят в 1 процент лучших по рейтингу? \n",
    "по vote_average"
   ]
  },
  {
   "cell_type": "code",
   "execution_count": 264,
   "metadata": {},
   "outputs": [],
   "source": [
    "answers['26'] = '1. Inside Out, The Dark Knight, 12 Years a Slave'"
   ]
  },
  {
   "cell_type": "code",
   "execution_count": 263,
   "metadata": {
    "colab": {},
    "colab_type": "code",
    "id": "8qmJVq4CVqAQ"
   },
   "outputs": [
    {
     "data": {
      "text/plain": [
       "18"
      ]
     },
     "metadata": {},
     "output_type": "display_data"
    },
    {
     "data": {
      "text/html": [
       "<div>\n",
       "<style scoped>\n",
       "    .dataframe tbody tr th:only-of-type {\n",
       "        vertical-align: middle;\n",
       "    }\n",
       "\n",
       "    .dataframe tbody tr th {\n",
       "        vertical-align: top;\n",
       "    }\n",
       "\n",
       "    .dataframe thead th {\n",
       "        text-align: right;\n",
       "    }\n",
       "</style>\n",
       "<table border=\"1\" class=\"dataframe\">\n",
       "  <thead>\n",
       "    <tr style=\"text-align: right;\">\n",
       "      <th></th>\n",
       "      <th>imdb_id</th>\n",
       "      <th>budget</th>\n",
       "      <th>revenue</th>\n",
       "      <th>original_title</th>\n",
       "      <th>cast</th>\n",
       "      <th>director</th>\n",
       "      <th>tagline</th>\n",
       "      <th>overview</th>\n",
       "      <th>runtime</th>\n",
       "      <th>genres</th>\n",
       "      <th>production_companies</th>\n",
       "      <th>release_date</th>\n",
       "      <th>vote_average</th>\n",
       "      <th>release_year</th>\n",
       "      <th>profit</th>\n",
       "      <th>release_month</th>\n",
       "      <th>title_length</th>\n",
       "      <th>words_in_title</th>\n",
       "      <th>words_in_overview</th>\n",
       "    </tr>\n",
       "  </thead>\n",
       "  <tbody>\n",
       "    <tr>\n",
       "      <th>599</th>\n",
       "      <td>tt0468569</td>\n",
       "      <td>185000000</td>\n",
       "      <td>1001921825</td>\n",
       "      <td>The Dark Knight</td>\n",
       "      <td>Christian Bale|Michael Caine|Heath Ledger|Aaro...</td>\n",
       "      <td>Christopher Nolan</td>\n",
       "      <td>Why So Serious?</td>\n",
       "      <td>Batman raises the stakes in his war on crime. ...</td>\n",
       "      <td>152</td>\n",
       "      <td>Drama|Action|Crime|Thriller</td>\n",
       "      <td>DC Comics|Legendary Pictures|Warner Bros.|Syncopy</td>\n",
       "      <td>7/16/2008</td>\n",
       "      <td>8.1</td>\n",
       "      <td>2008</td>\n",
       "      <td>816921825</td>\n",
       "      <td>7</td>\n",
       "      <td>15</td>\n",
       "      <td>3</td>\n",
       "      <td>67</td>\n",
       "    </tr>\n",
       "    <tr>\n",
       "      <th>118</th>\n",
       "      <td>tt0816692</td>\n",
       "      <td>165000000</td>\n",
       "      <td>621752480</td>\n",
       "      <td>Interstellar</td>\n",
       "      <td>Matthew McConaughey|Jessica Chastain|Anne Hath...</td>\n",
       "      <td>Christopher Nolan</td>\n",
       "      <td>Mankind was born on Earth. It was never meant ...</td>\n",
       "      <td>Interstellar chronicles the adventures of a gr...</td>\n",
       "      <td>169</td>\n",
       "      <td>Adventure|Drama|Science Fiction</td>\n",
       "      <td>Paramount Pictures|Legendary Pictures|Warner B...</td>\n",
       "      <td>11/5/2014</td>\n",
       "      <td>8.0</td>\n",
       "      <td>2014</td>\n",
       "      <td>456752480</td>\n",
       "      <td>11</td>\n",
       "      <td>12</td>\n",
       "      <td>1</td>\n",
       "      <td>35</td>\n",
       "    </tr>\n",
       "    <tr>\n",
       "      <th>125</th>\n",
       "      <td>tt2084970</td>\n",
       "      <td>14000000</td>\n",
       "      <td>233555708</td>\n",
       "      <td>The Imitation Game</td>\n",
       "      <td>Benedict Cumberbatch|Keira Knightley|Matthew G...</td>\n",
       "      <td>Morten Tyldum</td>\n",
       "      <td>The true enigma was the man who cracked the code.</td>\n",
       "      <td>Based on the real life story of legendary cryp...</td>\n",
       "      <td>113</td>\n",
       "      <td>History|Drama|Thriller|War</td>\n",
       "      <td>Black Bear Pictures|Bristol Automotive</td>\n",
       "      <td>11/14/2014</td>\n",
       "      <td>8.0</td>\n",
       "      <td>2014</td>\n",
       "      <td>219555708</td>\n",
       "      <td>11</td>\n",
       "      <td>18</td>\n",
       "      <td>3</td>\n",
       "      <td>46</td>\n",
       "    </tr>\n",
       "    <tr>\n",
       "      <th>9</th>\n",
       "      <td>tt2096673</td>\n",
       "      <td>175000000</td>\n",
       "      <td>853708609</td>\n",
       "      <td>Inside Out</td>\n",
       "      <td>Amy Poehler|Phyllis Smith|Richard Kind|Bill Ha...</td>\n",
       "      <td>Pete Docter</td>\n",
       "      <td>Meet the little voices inside your head.</td>\n",
       "      <td>Growing up can be a bumpy road, and it's no ex...</td>\n",
       "      <td>94</td>\n",
       "      <td>Comedy|Animation|Family</td>\n",
       "      <td>Walt Disney Pictures|Pixar Animation Studios|W...</td>\n",
       "      <td>6/9/2015</td>\n",
       "      <td>8.0</td>\n",
       "      <td>2015</td>\n",
       "      <td>678708609</td>\n",
       "      <td>6</td>\n",
       "      <td>10</td>\n",
       "      <td>2</td>\n",
       "      <td>112</td>\n",
       "    </tr>\n",
       "    <tr>\n",
       "      <th>34</th>\n",
       "      <td>tt3170832</td>\n",
       "      <td>6000000</td>\n",
       "      <td>35401758</td>\n",
       "      <td>Room</td>\n",
       "      <td>Brie Larson|Jacob Tremblay|Joan Allen|Sean Bri...</td>\n",
       "      <td>Lenny Abrahamson</td>\n",
       "      <td>Love knows no boundaries</td>\n",
       "      <td>Jack is a young boy of 5 years old who has liv...</td>\n",
       "      <td>117</td>\n",
       "      <td>Drama|Thriller</td>\n",
       "      <td>Element Pictures|No Trace Camping|A24|Duperele...</td>\n",
       "      <td>10/16/2015</td>\n",
       "      <td>8.0</td>\n",
       "      <td>2015</td>\n",
       "      <td>29401758</td>\n",
       "      <td>10</td>\n",
       "      <td>4</td>\n",
       "      <td>1</td>\n",
       "      <td>49</td>\n",
       "    </tr>\n",
       "    <tr>\n",
       "      <th>1183</th>\n",
       "      <td>tt0993846</td>\n",
       "      <td>100000000</td>\n",
       "      <td>392000694</td>\n",
       "      <td>The Wolf of Wall Street</td>\n",
       "      <td>Leonardo DiCaprio|Jonah Hill|Margot Robbie|Kyl...</td>\n",
       "      <td>Martin Scorsese</td>\n",
       "      <td>EARN. SPEND. PARTY.</td>\n",
       "      <td>A New York stockbroker refuses to cooperate in...</td>\n",
       "      <td>180</td>\n",
       "      <td>Crime|Drama|Comedy</td>\n",
       "      <td>Paramount Pictures|Appian Way|EMJAG Production...</td>\n",
       "      <td>12/25/2013</td>\n",
       "      <td>7.9</td>\n",
       "      <td>2013</td>\n",
       "      <td>292000694</td>\n",
       "      <td>12</td>\n",
       "      <td>23</td>\n",
       "      <td>5</td>\n",
       "      <td>29</td>\n",
       "    </tr>\n",
       "    <tr>\n",
       "      <th>128</th>\n",
       "      <td>tt2267998</td>\n",
       "      <td>61000000</td>\n",
       "      <td>369330363</td>\n",
       "      <td>Gone Girl</td>\n",
       "      <td>Ben Affleck|Rosamund Pike|Carrie Coon|Neil Pat...</td>\n",
       "      <td>David Fincher</td>\n",
       "      <td>You don't know what you've got 'til it's...</td>\n",
       "      <td>With his wife's disappearance having become th...</td>\n",
       "      <td>145</td>\n",
       "      <td>Mystery|Thriller|Drama</td>\n",
       "      <td>Twentieth Century Fox Film Corporation|Regency...</td>\n",
       "      <td>10/1/2014</td>\n",
       "      <td>7.9</td>\n",
       "      <td>2014</td>\n",
       "      <td>308330363</td>\n",
       "      <td>10</td>\n",
       "      <td>9</td>\n",
       "      <td>2</td>\n",
       "      <td>30</td>\n",
       "    </tr>\n",
       "    <tr>\n",
       "      <th>1191</th>\n",
       "      <td>tt2024544</td>\n",
       "      <td>20000000</td>\n",
       "      <td>187000000</td>\n",
       "      <td>12 Years a Slave</td>\n",
       "      <td>Chiwetel Ejiofor|Michael Fassbender|Lupita Nyo...</td>\n",
       "      <td>Steve McQueen</td>\n",
       "      <td>The extraordinary true story of Solomon Northup</td>\n",
       "      <td>In the pre-Civil War United States, Solomon No...</td>\n",
       "      <td>134</td>\n",
       "      <td>Drama|History</td>\n",
       "      <td>Plan B Entertainment|Regency Enterprises|River...</td>\n",
       "      <td>10/18/2013</td>\n",
       "      <td>7.9</td>\n",
       "      <td>2013</td>\n",
       "      <td>167000000</td>\n",
       "      <td>10</td>\n",
       "      <td>16</td>\n",
       "      <td>4</td>\n",
       "      <td>61</td>\n",
       "    </tr>\n",
       "    <tr>\n",
       "      <th>119</th>\n",
       "      <td>tt2015381</td>\n",
       "      <td>170000000</td>\n",
       "      <td>773312399</td>\n",
       "      <td>Guardians of the Galaxy</td>\n",
       "      <td>Chris Pratt|Zoe Saldana|Dave Bautista|Vin Dies...</td>\n",
       "      <td>James Gunn</td>\n",
       "      <td>All heroes start somewhere.</td>\n",
       "      <td>Light years from Earth, 26 years after being a...</td>\n",
       "      <td>121</td>\n",
       "      <td>Action|Science Fiction|Adventure</td>\n",
       "      <td>Marvel Studios|Moving Picture Company (MPC)|Bu...</td>\n",
       "      <td>7/30/2014</td>\n",
       "      <td>7.9</td>\n",
       "      <td>2014</td>\n",
       "      <td>603312399</td>\n",
       "      <td>7</td>\n",
       "      <td>23</td>\n",
       "      <td>4</td>\n",
       "      <td>28</td>\n",
       "    </tr>\n",
       "    <tr>\n",
       "      <th>1081</th>\n",
       "      <td>tt0167260</td>\n",
       "      <td>94000000</td>\n",
       "      <td>1118888979</td>\n",
       "      <td>The Lord of the Rings: The Return of the King</td>\n",
       "      <td>Elijah Wood|Ian McKellen|Viggo Mortensen|Liv T...</td>\n",
       "      <td>Peter Jackson</td>\n",
       "      <td>The eye of the enemy is moving.</td>\n",
       "      <td>Aragorn is revealed as the heir to the ancient...</td>\n",
       "      <td>201</td>\n",
       "      <td>Adventure|Fantasy|Action</td>\n",
       "      <td>WingNut Films|New Line Cinema</td>\n",
       "      <td>12/1/2003</td>\n",
       "      <td>7.9</td>\n",
       "      <td>2003</td>\n",
       "      <td>1024888979</td>\n",
       "      <td>12</td>\n",
       "      <td>45</td>\n",
       "      <td>10</td>\n",
       "      <td>45</td>\n",
       "    </tr>\n",
       "    <tr>\n",
       "      <th>1800</th>\n",
       "      <td>tt0209144</td>\n",
       "      <td>9000000</td>\n",
       "      <td>39723096</td>\n",
       "      <td>Memento</td>\n",
       "      <td>Guy Pearce|Carrie-Anne Moss|Joe Pantoliano|Mar...</td>\n",
       "      <td>Christopher Nolan</td>\n",
       "      <td>Some memories are best forgotten.</td>\n",
       "      <td>Suffering short-term memory loss after a head ...</td>\n",
       "      <td>113</td>\n",
       "      <td>Mystery|Thriller</td>\n",
       "      <td>Summit Entertainment|Newmarket Capital Group|T...</td>\n",
       "      <td>10/11/2000</td>\n",
       "      <td>7.9</td>\n",
       "      <td>2000</td>\n",
       "      <td>30723096</td>\n",
       "      <td>10</td>\n",
       "      <td>7</td>\n",
       "      <td>1</td>\n",
       "      <td>78</td>\n",
       "    </tr>\n",
       "    <tr>\n",
       "      <th>370</th>\n",
       "      <td>tt1375666</td>\n",
       "      <td>160000000</td>\n",
       "      <td>825500000</td>\n",
       "      <td>Inception</td>\n",
       "      <td>Leonardo DiCaprio|Joseph Gordon-Levitt|Ellen P...</td>\n",
       "      <td>Christopher Nolan</td>\n",
       "      <td>Your mind is the scene of the crime.</td>\n",
       "      <td>Cobb, a skilled thief who commits corporate es...</td>\n",
       "      <td>148</td>\n",
       "      <td>Action|Thriller|Science Fiction|Mystery|Adventure</td>\n",
       "      <td>Legendary Pictures|Warner Bros.|Syncopy</td>\n",
       "      <td>7/14/2010</td>\n",
       "      <td>7.9</td>\n",
       "      <td>2010</td>\n",
       "      <td>665500000</td>\n",
       "      <td>7</td>\n",
       "      <td>9</td>\n",
       "      <td>1</td>\n",
       "      <td>44</td>\n",
       "    </tr>\n",
       "    <tr>\n",
       "      <th>872</th>\n",
       "      <td>tt0253474</td>\n",
       "      <td>35000000</td>\n",
       "      <td>120072577</td>\n",
       "      <td>The Pianist</td>\n",
       "      <td>Adrien Brody|Thomas Kretschmann|Frank Finlay|M...</td>\n",
       "      <td>Roman Polanski</td>\n",
       "      <td>Music was his passion. Survival was his master...</td>\n",
       "      <td>The Pianist is a film adapted from the biograp...</td>\n",
       "      <td>150</td>\n",
       "      <td>Drama|War</td>\n",
       "      <td>Bac Films|Canal+Polska|Heritage Films|Studio B...</td>\n",
       "      <td>9/24/2002</td>\n",
       "      <td>7.9</td>\n",
       "      <td>2002</td>\n",
       "      <td>85072577</td>\n",
       "      <td>9</td>\n",
       "      <td>11</td>\n",
       "      <td>2</td>\n",
       "      <td>39</td>\n",
       "    </tr>\n",
       "    <tr>\n",
       "      <th>138</th>\n",
       "      <td>tt2278388</td>\n",
       "      <td>30000000</td>\n",
       "      <td>174600318</td>\n",
       "      <td>The Grand Budapest Hotel</td>\n",
       "      <td>Ralph Fiennes|Tony Revolori|F. Murray Abraham|...</td>\n",
       "      <td>Wes Anderson</td>\n",
       "      <td>A perfect holiday without leaving home.</td>\n",
       "      <td>The Grand Budapest Hotel tells of a legendary ...</td>\n",
       "      <td>99</td>\n",
       "      <td>Comedy|Drama</td>\n",
       "      <td>Fox Searchlight Pictures|Scott Rudin Productio...</td>\n",
       "      <td>2/26/2014</td>\n",
       "      <td>7.9</td>\n",
       "      <td>2014</td>\n",
       "      <td>144600318</td>\n",
       "      <td>2</td>\n",
       "      <td>24</td>\n",
       "      <td>4</td>\n",
       "      <td>66</td>\n",
       "    </tr>\n",
       "    <tr>\n",
       "      <th>1188</th>\n",
       "      <td>tt1798709</td>\n",
       "      <td>23000000</td>\n",
       "      <td>47351251</td>\n",
       "      <td>Her</td>\n",
       "      <td>Joaquin Phoenix|Scarlett Johansson|Rooney Mara...</td>\n",
       "      <td>Spike Jonze</td>\n",
       "      <td>A Spike Jonze Love Story</td>\n",
       "      <td>In the not so distant future, Theodore, a lone...</td>\n",
       "      <td>126</td>\n",
       "      <td>Romance|Science Fiction|Drama</td>\n",
       "      <td>Annapurna Pictures</td>\n",
       "      <td>12/18/2013</td>\n",
       "      <td>7.8</td>\n",
       "      <td>2013</td>\n",
       "      <td>24351251</td>\n",
       "      <td>12</td>\n",
       "      <td>3</td>\n",
       "      <td>1</td>\n",
       "      <td>65</td>\n",
       "    </tr>\n",
       "    <tr>\n",
       "      <th>28</th>\n",
       "      <td>tt1895587</td>\n",
       "      <td>20000000</td>\n",
       "      <td>88346473</td>\n",
       "      <td>Spotlight</td>\n",
       "      <td>Mark Ruffalo|Michael Keaton|Rachel McAdams|Lie...</td>\n",
       "      <td>Tom McCarthy</td>\n",
       "      <td>Break the story. Break the silence.</td>\n",
       "      <td>The true story of how The Boston Globe uncover...</td>\n",
       "      <td>128</td>\n",
       "      <td>Drama|Thriller|History</td>\n",
       "      <td>Participant Media|Open Road Films|Anonymous Co...</td>\n",
       "      <td>11/6/2015</td>\n",
       "      <td>7.8</td>\n",
       "      <td>2015</td>\n",
       "      <td>68346473</td>\n",
       "      <td>11</td>\n",
       "      <td>9</td>\n",
       "      <td>1</td>\n",
       "      <td>30</td>\n",
       "    </tr>\n",
       "    <tr>\n",
       "      <th>124</th>\n",
       "      <td>tt2245084</td>\n",
       "      <td>165000000</td>\n",
       "      <td>652105443</td>\n",
       "      <td>Big Hero 6</td>\n",
       "      <td>Scott Adsit|Ryan Potter|Daniel Henney|T.J. Mil...</td>\n",
       "      <td>Don Hall|Chris Williams</td>\n",
       "      <td>From the creators of Wreck-it Ralph and Frozen</td>\n",
       "      <td>The special bond that develops between plus-si...</td>\n",
       "      <td>102</td>\n",
       "      <td>Adventure|Family|Animation|Action|Comedy</td>\n",
       "      <td>Walt Disney Pictures|Walt Disney Animation Stu...</td>\n",
       "      <td>10/24/2014</td>\n",
       "      <td>7.8</td>\n",
       "      <td>2014</td>\n",
       "      <td>487105443</td>\n",
       "      <td>10</td>\n",
       "      <td>10</td>\n",
       "      <td>3</td>\n",
       "      <td>29</td>\n",
       "    </tr>\n",
       "    <tr>\n",
       "      <th>177</th>\n",
       "      <td>tt2582846</td>\n",
       "      <td>12000000</td>\n",
       "      <td>305151265</td>\n",
       "      <td>The Fault in Our Stars</td>\n",
       "      <td>Shailene Woodley|Ansel Elgort|Nat Wolff|Laura ...</td>\n",
       "      <td>Josh Boone</td>\n",
       "      <td>One Sick Love Story</td>\n",
       "      <td>Despite the tumor-shrinking medical miracle th...</td>\n",
       "      <td>125</td>\n",
       "      <td>Romance|Drama</td>\n",
       "      <td>Fox 2000 Pictures|Temple Hill Entertainment|TS...</td>\n",
       "      <td>5/16/2014</td>\n",
       "      <td>7.8</td>\n",
       "      <td>2014</td>\n",
       "      <td>293151265</td>\n",
       "      <td>5</td>\n",
       "      <td>22</td>\n",
       "      <td>5</td>\n",
       "      <td>47</td>\n",
       "    </tr>\n",
       "  </tbody>\n",
       "</table>\n",
       "</div>"
      ],
      "text/plain": [
       "        imdb_id     budget     revenue  \\\n",
       "599   tt0468569  185000000  1001921825   \n",
       "118   tt0816692  165000000   621752480   \n",
       "125   tt2084970   14000000   233555708   \n",
       "9     tt2096673  175000000   853708609   \n",
       "34    tt3170832    6000000    35401758   \n",
       "1183  tt0993846  100000000   392000694   \n",
       "128   tt2267998   61000000   369330363   \n",
       "1191  tt2024544   20000000   187000000   \n",
       "119   tt2015381  170000000   773312399   \n",
       "1081  tt0167260   94000000  1118888979   \n",
       "1800  tt0209144    9000000    39723096   \n",
       "370   tt1375666  160000000   825500000   \n",
       "872   tt0253474   35000000   120072577   \n",
       "138   tt2278388   30000000   174600318   \n",
       "1188  tt1798709   23000000    47351251   \n",
       "28    tt1895587   20000000    88346473   \n",
       "124   tt2245084  165000000   652105443   \n",
       "177   tt2582846   12000000   305151265   \n",
       "\n",
       "                                     original_title  \\\n",
       "599                                 The Dark Knight   \n",
       "118                                    Interstellar   \n",
       "125                              The Imitation Game   \n",
       "9                                        Inside Out   \n",
       "34                                             Room   \n",
       "1183                        The Wolf of Wall Street   \n",
       "128                                       Gone Girl   \n",
       "1191                               12 Years a Slave   \n",
       "119                         Guardians of the Galaxy   \n",
       "1081  The Lord of the Rings: The Return of the King   \n",
       "1800                                        Memento   \n",
       "370                                       Inception   \n",
       "872                                     The Pianist   \n",
       "138                        The Grand Budapest Hotel   \n",
       "1188                                            Her   \n",
       "28                                        Spotlight   \n",
       "124                                      Big Hero 6   \n",
       "177                          The Fault in Our Stars   \n",
       "\n",
       "                                                   cast  \\\n",
       "599   Christian Bale|Michael Caine|Heath Ledger|Aaro...   \n",
       "118   Matthew McConaughey|Jessica Chastain|Anne Hath...   \n",
       "125   Benedict Cumberbatch|Keira Knightley|Matthew G...   \n",
       "9     Amy Poehler|Phyllis Smith|Richard Kind|Bill Ha...   \n",
       "34    Brie Larson|Jacob Tremblay|Joan Allen|Sean Bri...   \n",
       "1183  Leonardo DiCaprio|Jonah Hill|Margot Robbie|Kyl...   \n",
       "128   Ben Affleck|Rosamund Pike|Carrie Coon|Neil Pat...   \n",
       "1191  Chiwetel Ejiofor|Michael Fassbender|Lupita Nyo...   \n",
       "119   Chris Pratt|Zoe Saldana|Dave Bautista|Vin Dies...   \n",
       "1081  Elijah Wood|Ian McKellen|Viggo Mortensen|Liv T...   \n",
       "1800  Guy Pearce|Carrie-Anne Moss|Joe Pantoliano|Mar...   \n",
       "370   Leonardo DiCaprio|Joseph Gordon-Levitt|Ellen P...   \n",
       "872   Adrien Brody|Thomas Kretschmann|Frank Finlay|M...   \n",
       "138   Ralph Fiennes|Tony Revolori|F. Murray Abraham|...   \n",
       "1188  Joaquin Phoenix|Scarlett Johansson|Rooney Mara...   \n",
       "28    Mark Ruffalo|Michael Keaton|Rachel McAdams|Lie...   \n",
       "124   Scott Adsit|Ryan Potter|Daniel Henney|T.J. Mil...   \n",
       "177   Shailene Woodley|Ansel Elgort|Nat Wolff|Laura ...   \n",
       "\n",
       "                     director  \\\n",
       "599         Christopher Nolan   \n",
       "118         Christopher Nolan   \n",
       "125             Morten Tyldum   \n",
       "9                 Pete Docter   \n",
       "34           Lenny Abrahamson   \n",
       "1183          Martin Scorsese   \n",
       "128             David Fincher   \n",
       "1191            Steve McQueen   \n",
       "119                James Gunn   \n",
       "1081            Peter Jackson   \n",
       "1800        Christopher Nolan   \n",
       "370         Christopher Nolan   \n",
       "872            Roman Polanski   \n",
       "138              Wes Anderson   \n",
       "1188              Spike Jonze   \n",
       "28               Tom McCarthy   \n",
       "124   Don Hall|Chris Williams   \n",
       "177                Josh Boone   \n",
       "\n",
       "                                                tagline  \\\n",
       "599                                     Why So Serious?   \n",
       "118   Mankind was born on Earth. It was never meant ...   \n",
       "125   The true enigma was the man who cracked the code.   \n",
       "9              Meet the little voices inside your head.   \n",
       "34                             Love knows no boundaries   \n",
       "1183                                EARN. SPEND. PARTY.   \n",
       "128         You don't know what you've got 'til it's...   \n",
       "1191    The extraordinary true story of Solomon Northup   \n",
       "119                         All heroes start somewhere.   \n",
       "1081                    The eye of the enemy is moving.   \n",
       "1800                  Some memories are best forgotten.   \n",
       "370                Your mind is the scene of the crime.   \n",
       "872   Music was his passion. Survival was his master...   \n",
       "138             A perfect holiday without leaving home.   \n",
       "1188                           A Spike Jonze Love Story   \n",
       "28                  Break the story. Break the silence.   \n",
       "124      From the creators of Wreck-it Ralph and Frozen   \n",
       "177                                 One Sick Love Story   \n",
       "\n",
       "                                               overview  runtime  \\\n",
       "599   Batman raises the stakes in his war on crime. ...      152   \n",
       "118   Interstellar chronicles the adventures of a gr...      169   \n",
       "125   Based on the real life story of legendary cryp...      113   \n",
       "9     Growing up can be a bumpy road, and it's no ex...       94   \n",
       "34    Jack is a young boy of 5 years old who has liv...      117   \n",
       "1183  A New York stockbroker refuses to cooperate in...      180   \n",
       "128   With his wife's disappearance having become th...      145   \n",
       "1191  In the pre-Civil War United States, Solomon No...      134   \n",
       "119   Light years from Earth, 26 years after being a...      121   \n",
       "1081  Aragorn is revealed as the heir to the ancient...      201   \n",
       "1800  Suffering short-term memory loss after a head ...      113   \n",
       "370   Cobb, a skilled thief who commits corporate es...      148   \n",
       "872   The Pianist is a film adapted from the biograp...      150   \n",
       "138   The Grand Budapest Hotel tells of a legendary ...       99   \n",
       "1188  In the not so distant future, Theodore, a lone...      126   \n",
       "28    The true story of how The Boston Globe uncover...      128   \n",
       "124   The special bond that develops between plus-si...      102   \n",
       "177   Despite the tumor-shrinking medical miracle th...      125   \n",
       "\n",
       "                                                 genres  \\\n",
       "599                         Drama|Action|Crime|Thriller   \n",
       "118                     Adventure|Drama|Science Fiction   \n",
       "125                          History|Drama|Thriller|War   \n",
       "9                               Comedy|Animation|Family   \n",
       "34                                       Drama|Thriller   \n",
       "1183                                 Crime|Drama|Comedy   \n",
       "128                              Mystery|Thriller|Drama   \n",
       "1191                                      Drama|History   \n",
       "119                    Action|Science Fiction|Adventure   \n",
       "1081                           Adventure|Fantasy|Action   \n",
       "1800                                   Mystery|Thriller   \n",
       "370   Action|Thriller|Science Fiction|Mystery|Adventure   \n",
       "872                                           Drama|War   \n",
       "138                                        Comedy|Drama   \n",
       "1188                      Romance|Science Fiction|Drama   \n",
       "28                               Drama|Thriller|History   \n",
       "124            Adventure|Family|Animation|Action|Comedy   \n",
       "177                                       Romance|Drama   \n",
       "\n",
       "                                   production_companies release_date  \\\n",
       "599   DC Comics|Legendary Pictures|Warner Bros.|Syncopy    7/16/2008   \n",
       "118   Paramount Pictures|Legendary Pictures|Warner B...    11/5/2014   \n",
       "125              Black Bear Pictures|Bristol Automotive   11/14/2014   \n",
       "9     Walt Disney Pictures|Pixar Animation Studios|W...     6/9/2015   \n",
       "34    Element Pictures|No Trace Camping|A24|Duperele...   10/16/2015   \n",
       "1183  Paramount Pictures|Appian Way|EMJAG Production...   12/25/2013   \n",
       "128   Twentieth Century Fox Film Corporation|Regency...    10/1/2014   \n",
       "1191  Plan B Entertainment|Regency Enterprises|River...   10/18/2013   \n",
       "119   Marvel Studios|Moving Picture Company (MPC)|Bu...    7/30/2014   \n",
       "1081                      WingNut Films|New Line Cinema    12/1/2003   \n",
       "1800  Summit Entertainment|Newmarket Capital Group|T...   10/11/2000   \n",
       "370             Legendary Pictures|Warner Bros.|Syncopy    7/14/2010   \n",
       "872   Bac Films|Canal+Polska|Heritage Films|Studio B...    9/24/2002   \n",
       "138   Fox Searchlight Pictures|Scott Rudin Productio...    2/26/2014   \n",
       "1188                                 Annapurna Pictures   12/18/2013   \n",
       "28    Participant Media|Open Road Films|Anonymous Co...    11/6/2015   \n",
       "124   Walt Disney Pictures|Walt Disney Animation Stu...   10/24/2014   \n",
       "177   Fox 2000 Pictures|Temple Hill Entertainment|TS...    5/16/2014   \n",
       "\n",
       "      vote_average  release_year      profit  release_month  title_length  \\\n",
       "599            8.1          2008   816921825              7            15   \n",
       "118            8.0          2014   456752480             11            12   \n",
       "125            8.0          2014   219555708             11            18   \n",
       "9              8.0          2015   678708609              6            10   \n",
       "34             8.0          2015    29401758             10             4   \n",
       "1183           7.9          2013   292000694             12            23   \n",
       "128            7.9          2014   308330363             10             9   \n",
       "1191           7.9          2013   167000000             10            16   \n",
       "119            7.9          2014   603312399              7            23   \n",
       "1081           7.9          2003  1024888979             12            45   \n",
       "1800           7.9          2000    30723096             10             7   \n",
       "370            7.9          2010   665500000              7             9   \n",
       "872            7.9          2002    85072577              9            11   \n",
       "138            7.9          2014   144600318              2            24   \n",
       "1188           7.8          2013    24351251             12             3   \n",
       "28             7.8          2015    68346473             11             9   \n",
       "124            7.8          2014   487105443             10            10   \n",
       "177            7.8          2014   293151265              5            22   \n",
       "\n",
       "      words_in_title  words_in_overview  \n",
       "599                3                 67  \n",
       "118                1                 35  \n",
       "125                3                 46  \n",
       "9                  2                112  \n",
       "34                 1                 49  \n",
       "1183               5                 29  \n",
       "128                2                 30  \n",
       "1191               4                 61  \n",
       "119                4                 28  \n",
       "1081              10                 45  \n",
       "1800               1                 78  \n",
       "370                1                 44  \n",
       "872                2                 39  \n",
       "138                4                 66  \n",
       "1188               1                 65  \n",
       "28                 1                 30  \n",
       "124                3                 29  \n",
       "177                5                 47  "
      ]
     },
     "execution_count": 263,
     "metadata": {},
     "output_type": "execute_result"
    }
   ],
   "source": [
    "top = int(0.01*len(data))\n",
    "display(top)\n",
    "# Итак, нас интересуют топ-18 фильмов, отсортированных по рейтингу\n",
    "\n",
    "data.sort_values(by='vote_average', ascending=False).head(18)"
   ]
  },
  {
   "cell_type": "markdown",
   "metadata": {
    "colab_type": "text",
    "id": "MdXsUXbCVqAV"
   },
   "source": [
    "# 27. Какие актеры чаще всего снимаются в одном фильме вместе?\n"
   ]
  },
  {
   "cell_type": "code",
   "execution_count": 266,
   "metadata": {},
   "outputs": [],
   "source": [
    "answers['28'] = '5. Daniel Radcliffe & Rupert Grint'"
   ]
  },
  {
   "cell_type": "code",
   "execution_count": null,
   "metadata": {},
   "outputs": [],
   "source": [
    "# Я не знаю, как искать - и треды в Slack показывают, что способ далеко за пределами пройденного материала\n",
    "# Как минимум, нужно изучить тему кортежей\n",
    "\n",
    "# К тому же, вопрос слишком простой, когда знаешь варианты\n",
    "# Восемь частей Гарри Поттера - это больше, чем у Форсажа (в которых Дизель и Уокер не везде были вместе)\n",
    "# ...и даже больше, чем фильмов Тима Бертона с Джонни Деппом и ХБК\n",
    "\n",
    "# Очень надеюсь, что мы разберем эту задачу на разборе проекта."
   ]
  },
  {
   "cell_type": "markdown",
   "metadata": {
    "colab_type": "text",
    "id": "U0nONFnGVqAX"
   },
   "source": [
    "# Submission"
   ]
  },
  {
   "cell_type": "code",
   "execution_count": 271,
   "metadata": {
    "colab": {},
    "colab_type": "code",
    "id": "IfcaRO9-VqAX",
    "outputId": "0f132912-32bb-4196-c98c-abfbc4ad5a5f"
   },
   "outputs": [
    {
     "data": {
      "text/plain": [
       "{'1': '5. Pirates of the Caribbean: On Stranger Tides (tt1298650)',\n",
       " '2': '2. Gods and Generals (tt0279111)',\n",
       " '3': '3. Winnie the Pooh (tt1449283)',\n",
       " '4': '4. 110',\n",
       " '5': '1. 107',\n",
       " '6': '5. Avatar (tt0499549)',\n",
       " '7': '5. The Lone Ranger (tt1210819)',\n",
       " '8': '1. 1478',\n",
       " '9': '4. The Dark Knight (tt0468569)',\n",
       " '10': '5. The Lone Ranger (tt1210819)',\n",
       " '11': '3. Drama',\n",
       " '12': '1. Drama',\n",
       " '13': '5. Peter Jackson',\n",
       " '14': '3. Robert Rodriguez',\n",
       " '15': '3. Chris Hemsworth',\n",
       " '16': '3. Matt Damon',\n",
       " '17': '2. Action',\n",
       " '18': '1. K-19: The Widowmaker (tt0267626)',\n",
       " '19': '5. 2015',\n",
       " '20': '1. 2014',\n",
       " '21': '4. Сентябрь',\n",
       " '22': '2. 450',\n",
       " '23': '5. Peter Jackson',\n",
       " '24': '5. Four By Two Productions',\n",
       " '25': '3. Midnight Picture Show',\n",
       " '26': '1. Inside Out, The Dark Knight, 12 Years a Slave',\n",
       " '28': '5. Daniel Radcliffe & Rupert Grint'}"
      ]
     },
     "execution_count": 271,
     "metadata": {},
     "output_type": "execute_result"
    }
   ],
   "source": [
    "# в конце можно посмотреть свои ответы к каждому вопросу\n",
    "answers"
   ]
  },
  {
   "cell_type": "code",
   "execution_count": 268,
   "metadata": {
    "colab": {},
    "colab_type": "code",
    "id": "SiRmHPl8VqAd"
   },
   "outputs": [
    {
     "data": {
      "text/plain": [
       "27"
      ]
     },
     "execution_count": 268,
     "metadata": {},
     "output_type": "execute_result"
    }
   ],
   "source": [
    "# и убедиться что ни чего не пропустил)\n",
    "len(answers)"
   ]
  },
  {
   "cell_type": "code",
   "execution_count": 0,
   "metadata": {
    "colab": {},
    "colab_type": "code",
    "id": "uCfuTkRbVqAg"
   },
   "outputs": [],
   "source": []
  },
  {
   "cell_type": "code",
   "execution_count": 0,
   "metadata": {
    "colab": {},
    "colab_type": "code",
    "id": "Vwx3NrkSVqAl"
   },
   "outputs": [],
   "source": []
  }
 ],
 "metadata": {
  "colab": {
   "name": "Copy of [SF-DST] Movies IMBD v4.1 TEMPLATE.ipynb",
   "provenance": []
  },
  "kernelspec": {
   "display_name": "Python 3",
   "language": "python",
   "name": "python3"
  },
  "language_info": {
   "codemirror_mode": {
    "name": "ipython",
    "version": 3
   },
   "file_extension": ".py",
   "mimetype": "text/x-python",
   "name": "python",
   "nbconvert_exporter": "python",
   "pygments_lexer": "ipython3",
   "version": "3.7.6"
  }
 },
 "nbformat": 4,
 "nbformat_minor": 1
}
