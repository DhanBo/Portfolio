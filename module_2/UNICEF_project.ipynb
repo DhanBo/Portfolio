{
 "cells": [
  {
   "cell_type": "code",
   "execution_count": 1,
   "metadata": {},
   "outputs": [],
   "source": [
    "import pandas as pd\n",
    "import matplotlib.pyplot as plt\n",
    "import seaborn as sns\n",
    "from itertools import combinations\n",
    "from scipy.stats import ttest_ind\n",
    "\n",
    "pd.set_option('display.max_rows', 50)\n",
    "pd.set_option('display.max_columns', 50)\n",
    "\n",
    "unicef = pd.read_csv('stud_math.csv')"
   ]
  },
  {
   "cell_type": "markdown",
   "metadata": {},
   "source": [
    "# Цели и задачи проекта: отследить влияние условий жизни учащихся в возрасте от 15 до 22 лет на их успеваемость по математике, чтобы на ранней стадии выявлять студентов, находящихся в группе риска.\n",
    "\n",
    "Чтобы определиться с параметрами будущей модели, требуется провести разведывательный анализ данных и составить отчёт по его результатам. "
   ]
  },
  {
   "cell_type": "code",
   "execution_count": 2,
   "metadata": {},
   "outputs": [
    {
     "data": {
      "text/html": [
       "<div>\n",
       "<style scoped>\n",
       "    .dataframe tbody tr th:only-of-type {\n",
       "        vertical-align: middle;\n",
       "    }\n",
       "\n",
       "    .dataframe tbody tr th {\n",
       "        vertical-align: top;\n",
       "    }\n",
       "\n",
       "    .dataframe thead th {\n",
       "        text-align: right;\n",
       "    }\n",
       "</style>\n",
       "<table border=\"1\" class=\"dataframe\">\n",
       "  <thead>\n",
       "    <tr style=\"text-align: right;\">\n",
       "      <th></th>\n",
       "      <th>school</th>\n",
       "      <th>sex</th>\n",
       "      <th>age</th>\n",
       "      <th>address</th>\n",
       "      <th>famsize</th>\n",
       "      <th>Pstatus</th>\n",
       "      <th>Medu</th>\n",
       "      <th>Fedu</th>\n",
       "      <th>Mjob</th>\n",
       "      <th>Fjob</th>\n",
       "      <th>reason</th>\n",
       "      <th>guardian</th>\n",
       "      <th>traveltime</th>\n",
       "      <th>studytime</th>\n",
       "      <th>failures</th>\n",
       "      <th>schoolsup</th>\n",
       "      <th>famsup</th>\n",
       "      <th>paid</th>\n",
       "      <th>activities</th>\n",
       "      <th>nursery</th>\n",
       "      <th>studytime, granular</th>\n",
       "      <th>higher</th>\n",
       "      <th>internet</th>\n",
       "      <th>romantic</th>\n",
       "      <th>famrel</th>\n",
       "      <th>freetime</th>\n",
       "      <th>goout</th>\n",
       "      <th>health</th>\n",
       "      <th>absences</th>\n",
       "      <th>score</th>\n",
       "    </tr>\n",
       "  </thead>\n",
       "  <tbody>\n",
       "    <tr>\n",
       "      <th>0</th>\n",
       "      <td>GP</td>\n",
       "      <td>F</td>\n",
       "      <td>18</td>\n",
       "      <td>U</td>\n",
       "      <td>NaN</td>\n",
       "      <td>A</td>\n",
       "      <td>4.0</td>\n",
       "      <td>4.0</td>\n",
       "      <td>at_home</td>\n",
       "      <td>teacher</td>\n",
       "      <td>course</td>\n",
       "      <td>mother</td>\n",
       "      <td>2.0</td>\n",
       "      <td>2.0</td>\n",
       "      <td>0.0</td>\n",
       "      <td>yes</td>\n",
       "      <td>no</td>\n",
       "      <td>no</td>\n",
       "      <td>no</td>\n",
       "      <td>yes</td>\n",
       "      <td>-6.0</td>\n",
       "      <td>yes</td>\n",
       "      <td>NaN</td>\n",
       "      <td>no</td>\n",
       "      <td>4.0</td>\n",
       "      <td>3.0</td>\n",
       "      <td>4.0</td>\n",
       "      <td>3.0</td>\n",
       "      <td>6.0</td>\n",
       "      <td>30.0</td>\n",
       "    </tr>\n",
       "    <tr>\n",
       "      <th>1</th>\n",
       "      <td>GP</td>\n",
       "      <td>F</td>\n",
       "      <td>17</td>\n",
       "      <td>U</td>\n",
       "      <td>GT3</td>\n",
       "      <td>NaN</td>\n",
       "      <td>1.0</td>\n",
       "      <td>1.0</td>\n",
       "      <td>at_home</td>\n",
       "      <td>other</td>\n",
       "      <td>course</td>\n",
       "      <td>father</td>\n",
       "      <td>1.0</td>\n",
       "      <td>2.0</td>\n",
       "      <td>0.0</td>\n",
       "      <td>no</td>\n",
       "      <td>yes</td>\n",
       "      <td>no</td>\n",
       "      <td>no</td>\n",
       "      <td>no</td>\n",
       "      <td>-6.0</td>\n",
       "      <td>yes</td>\n",
       "      <td>yes</td>\n",
       "      <td>no</td>\n",
       "      <td>5.0</td>\n",
       "      <td>3.0</td>\n",
       "      <td>3.0</td>\n",
       "      <td>3.0</td>\n",
       "      <td>4.0</td>\n",
       "      <td>30.0</td>\n",
       "    </tr>\n",
       "    <tr>\n",
       "      <th>2</th>\n",
       "      <td>GP</td>\n",
       "      <td>F</td>\n",
       "      <td>15</td>\n",
       "      <td>U</td>\n",
       "      <td>LE3</td>\n",
       "      <td>T</td>\n",
       "      <td>1.0</td>\n",
       "      <td>1.0</td>\n",
       "      <td>at_home</td>\n",
       "      <td>other</td>\n",
       "      <td>other</td>\n",
       "      <td>mother</td>\n",
       "      <td>1.0</td>\n",
       "      <td>2.0</td>\n",
       "      <td>3.0</td>\n",
       "      <td>yes</td>\n",
       "      <td>no</td>\n",
       "      <td>NaN</td>\n",
       "      <td>no</td>\n",
       "      <td>yes</td>\n",
       "      <td>-6.0</td>\n",
       "      <td>yes</td>\n",
       "      <td>yes</td>\n",
       "      <td>NaN</td>\n",
       "      <td>4.0</td>\n",
       "      <td>3.0</td>\n",
       "      <td>2.0</td>\n",
       "      <td>3.0</td>\n",
       "      <td>10.0</td>\n",
       "      <td>50.0</td>\n",
       "    </tr>\n",
       "    <tr>\n",
       "      <th>3</th>\n",
       "      <td>GP</td>\n",
       "      <td>F</td>\n",
       "      <td>15</td>\n",
       "      <td>U</td>\n",
       "      <td>GT3</td>\n",
       "      <td>T</td>\n",
       "      <td>4.0</td>\n",
       "      <td>2.0</td>\n",
       "      <td>health</td>\n",
       "      <td>NaN</td>\n",
       "      <td>home</td>\n",
       "      <td>mother</td>\n",
       "      <td>1.0</td>\n",
       "      <td>3.0</td>\n",
       "      <td>0.0</td>\n",
       "      <td>no</td>\n",
       "      <td>yes</td>\n",
       "      <td>yes</td>\n",
       "      <td>yes</td>\n",
       "      <td>yes</td>\n",
       "      <td>-9.0</td>\n",
       "      <td>yes</td>\n",
       "      <td>yes</td>\n",
       "      <td>yes</td>\n",
       "      <td>3.0</td>\n",
       "      <td>2.0</td>\n",
       "      <td>2.0</td>\n",
       "      <td>5.0</td>\n",
       "      <td>2.0</td>\n",
       "      <td>75.0</td>\n",
       "    </tr>\n",
       "    <tr>\n",
       "      <th>4</th>\n",
       "      <td>GP</td>\n",
       "      <td>F</td>\n",
       "      <td>16</td>\n",
       "      <td>U</td>\n",
       "      <td>GT3</td>\n",
       "      <td>T</td>\n",
       "      <td>3.0</td>\n",
       "      <td>3.0</td>\n",
       "      <td>other</td>\n",
       "      <td>other</td>\n",
       "      <td>home</td>\n",
       "      <td>father</td>\n",
       "      <td>1.0</td>\n",
       "      <td>2.0</td>\n",
       "      <td>0.0</td>\n",
       "      <td>no</td>\n",
       "      <td>yes</td>\n",
       "      <td>yes</td>\n",
       "      <td>no</td>\n",
       "      <td>yes</td>\n",
       "      <td>-6.0</td>\n",
       "      <td>yes</td>\n",
       "      <td>no</td>\n",
       "      <td>no</td>\n",
       "      <td>4.0</td>\n",
       "      <td>3.0</td>\n",
       "      <td>2.0</td>\n",
       "      <td>5.0</td>\n",
       "      <td>4.0</td>\n",
       "      <td>50.0</td>\n",
       "    </tr>\n",
       "    <tr>\n",
       "      <th>5</th>\n",
       "      <td>GP</td>\n",
       "      <td>M</td>\n",
       "      <td>16</td>\n",
       "      <td>U</td>\n",
       "      <td>LE3</td>\n",
       "      <td>T</td>\n",
       "      <td>4.0</td>\n",
       "      <td>3.0</td>\n",
       "      <td>services</td>\n",
       "      <td>other</td>\n",
       "      <td>reputation</td>\n",
       "      <td>mother</td>\n",
       "      <td>1.0</td>\n",
       "      <td>2.0</td>\n",
       "      <td>0.0</td>\n",
       "      <td>no</td>\n",
       "      <td>yes</td>\n",
       "      <td>yes</td>\n",
       "      <td>yes</td>\n",
       "      <td>yes</td>\n",
       "      <td>-6.0</td>\n",
       "      <td>yes</td>\n",
       "      <td>yes</td>\n",
       "      <td>no</td>\n",
       "      <td>5.0</td>\n",
       "      <td>4.0</td>\n",
       "      <td>2.0</td>\n",
       "      <td>5.0</td>\n",
       "      <td>10.0</td>\n",
       "      <td>75.0</td>\n",
       "    </tr>\n",
       "    <tr>\n",
       "      <th>6</th>\n",
       "      <td>GP</td>\n",
       "      <td>M</td>\n",
       "      <td>16</td>\n",
       "      <td>NaN</td>\n",
       "      <td>LE3</td>\n",
       "      <td>T</td>\n",
       "      <td>2.0</td>\n",
       "      <td>2.0</td>\n",
       "      <td>other</td>\n",
       "      <td>other</td>\n",
       "      <td>home</td>\n",
       "      <td>mother</td>\n",
       "      <td>1.0</td>\n",
       "      <td>2.0</td>\n",
       "      <td>0.0</td>\n",
       "      <td>no</td>\n",
       "      <td>no</td>\n",
       "      <td>no</td>\n",
       "      <td>no</td>\n",
       "      <td>yes</td>\n",
       "      <td>-6.0</td>\n",
       "      <td>yes</td>\n",
       "      <td>yes</td>\n",
       "      <td>no</td>\n",
       "      <td>4.0</td>\n",
       "      <td>4.0</td>\n",
       "      <td>4.0</td>\n",
       "      <td>3.0</td>\n",
       "      <td>0.0</td>\n",
       "      <td>55.0</td>\n",
       "    </tr>\n",
       "    <tr>\n",
       "      <th>7</th>\n",
       "      <td>GP</td>\n",
       "      <td>F</td>\n",
       "      <td>17</td>\n",
       "      <td>U</td>\n",
       "      <td>GT3</td>\n",
       "      <td>A</td>\n",
       "      <td>4.0</td>\n",
       "      <td>4.0</td>\n",
       "      <td>other</td>\n",
       "      <td>teacher</td>\n",
       "      <td>home</td>\n",
       "      <td>mother</td>\n",
       "      <td>2.0</td>\n",
       "      <td>2.0</td>\n",
       "      <td>0.0</td>\n",
       "      <td>yes</td>\n",
       "      <td>yes</td>\n",
       "      <td>no</td>\n",
       "      <td>no</td>\n",
       "      <td>yes</td>\n",
       "      <td>-6.0</td>\n",
       "      <td>yes</td>\n",
       "      <td>no</td>\n",
       "      <td>no</td>\n",
       "      <td>4.0</td>\n",
       "      <td>1.0</td>\n",
       "      <td>4.0</td>\n",
       "      <td>1.0</td>\n",
       "      <td>6.0</td>\n",
       "      <td>30.0</td>\n",
       "    </tr>\n",
       "    <tr>\n",
       "      <th>8</th>\n",
       "      <td>GP</td>\n",
       "      <td>M</td>\n",
       "      <td>15</td>\n",
       "      <td>U</td>\n",
       "      <td>LE3</td>\n",
       "      <td>A</td>\n",
       "      <td>3.0</td>\n",
       "      <td>2.0</td>\n",
       "      <td>services</td>\n",
       "      <td>other</td>\n",
       "      <td>home</td>\n",
       "      <td>mother</td>\n",
       "      <td>1.0</td>\n",
       "      <td>2.0</td>\n",
       "      <td>0.0</td>\n",
       "      <td>no</td>\n",
       "      <td>yes</td>\n",
       "      <td>yes</td>\n",
       "      <td>no</td>\n",
       "      <td>yes</td>\n",
       "      <td>-6.0</td>\n",
       "      <td>yes</td>\n",
       "      <td>yes</td>\n",
       "      <td>no</td>\n",
       "      <td>NaN</td>\n",
       "      <td>2.0</td>\n",
       "      <td>2.0</td>\n",
       "      <td>1.0</td>\n",
       "      <td>0.0</td>\n",
       "      <td>95.0</td>\n",
       "    </tr>\n",
       "    <tr>\n",
       "      <th>9</th>\n",
       "      <td>GP</td>\n",
       "      <td>M</td>\n",
       "      <td>15</td>\n",
       "      <td>U</td>\n",
       "      <td>NaN</td>\n",
       "      <td>NaN</td>\n",
       "      <td>3.0</td>\n",
       "      <td>4.0</td>\n",
       "      <td>other</td>\n",
       "      <td>other</td>\n",
       "      <td>home</td>\n",
       "      <td>mother</td>\n",
       "      <td>1.0</td>\n",
       "      <td>2.0</td>\n",
       "      <td>0.0</td>\n",
       "      <td>no</td>\n",
       "      <td>yes</td>\n",
       "      <td>yes</td>\n",
       "      <td>yes</td>\n",
       "      <td>yes</td>\n",
       "      <td>-6.0</td>\n",
       "      <td>yes</td>\n",
       "      <td>yes</td>\n",
       "      <td>no</td>\n",
       "      <td>5.0</td>\n",
       "      <td>5.0</td>\n",
       "      <td>1.0</td>\n",
       "      <td>5.0</td>\n",
       "      <td>0.0</td>\n",
       "      <td>75.0</td>\n",
       "    </tr>\n",
       "  </tbody>\n",
       "</table>\n",
       "</div>"
      ],
      "text/plain": [
       "  school sex  age address famsize Pstatus  Medu  Fedu      Mjob     Fjob  \\\n",
       "0     GP   F   18       U     NaN       A   4.0   4.0   at_home  teacher   \n",
       "1     GP   F   17       U     GT3     NaN   1.0   1.0   at_home    other   \n",
       "2     GP   F   15       U     LE3       T   1.0   1.0   at_home    other   \n",
       "3     GP   F   15       U     GT3       T   4.0   2.0    health      NaN   \n",
       "4     GP   F   16       U     GT3       T   3.0   3.0     other    other   \n",
       "5     GP   M   16       U     LE3       T   4.0   3.0  services    other   \n",
       "6     GP   M   16     NaN     LE3       T   2.0   2.0     other    other   \n",
       "7     GP   F   17       U     GT3       A   4.0   4.0     other  teacher   \n",
       "8     GP   M   15       U     LE3       A   3.0   2.0  services    other   \n",
       "9     GP   M   15       U     NaN     NaN   3.0   4.0     other    other   \n",
       "\n",
       "       reason guardian  traveltime  studytime  failures schoolsup famsup paid  \\\n",
       "0      course   mother         2.0        2.0       0.0       yes     no   no   \n",
       "1      course   father         1.0        2.0       0.0        no    yes   no   \n",
       "2       other   mother         1.0        2.0       3.0       yes     no  NaN   \n",
       "3        home   mother         1.0        3.0       0.0        no    yes  yes   \n",
       "4        home   father         1.0        2.0       0.0        no    yes  yes   \n",
       "5  reputation   mother         1.0        2.0       0.0        no    yes  yes   \n",
       "6        home   mother         1.0        2.0       0.0        no     no   no   \n",
       "7        home   mother         2.0        2.0       0.0       yes    yes   no   \n",
       "8        home   mother         1.0        2.0       0.0        no    yes  yes   \n",
       "9        home   mother         1.0        2.0       0.0        no    yes  yes   \n",
       "\n",
       "  activities nursery  studytime, granular higher internet romantic  famrel  \\\n",
       "0         no     yes                 -6.0    yes      NaN       no     4.0   \n",
       "1         no      no                 -6.0    yes      yes       no     5.0   \n",
       "2         no     yes                 -6.0    yes      yes      NaN     4.0   \n",
       "3        yes     yes                 -9.0    yes      yes      yes     3.0   \n",
       "4         no     yes                 -6.0    yes       no       no     4.0   \n",
       "5        yes     yes                 -6.0    yes      yes       no     5.0   \n",
       "6         no     yes                 -6.0    yes      yes       no     4.0   \n",
       "7         no     yes                 -6.0    yes       no       no     4.0   \n",
       "8         no     yes                 -6.0    yes      yes       no     NaN   \n",
       "9        yes     yes                 -6.0    yes      yes       no     5.0   \n",
       "\n",
       "   freetime  goout  health  absences  score  \n",
       "0       3.0    4.0     3.0       6.0   30.0  \n",
       "1       3.0    3.0     3.0       4.0   30.0  \n",
       "2       3.0    2.0     3.0      10.0   50.0  \n",
       "3       2.0    2.0     5.0       2.0   75.0  \n",
       "4       3.0    2.0     5.0       4.0   50.0  \n",
       "5       4.0    2.0     5.0      10.0   75.0  \n",
       "6       4.0    4.0     3.0       0.0   55.0  \n",
       "7       1.0    4.0     1.0       6.0   30.0  \n",
       "8       2.0    2.0     1.0       0.0   95.0  \n",
       "9       5.0    1.0     5.0       0.0   75.0  "
      ]
     },
     "metadata": {},
     "output_type": "display_data"
    },
    {
     "name": "stdout",
     "output_type": "stream",
     "text": [
      "<class 'pandas.core.frame.DataFrame'>\n",
      "RangeIndex: 395 entries, 0 to 394\n",
      "Data columns (total 30 columns):\n",
      " #   Column               Non-Null Count  Dtype  \n",
      "---  ------               --------------  -----  \n",
      " 0   school               395 non-null    object \n",
      " 1   sex                  395 non-null    object \n",
      " 2   age                  395 non-null    int64  \n",
      " 3   address              378 non-null    object \n",
      " 4   famsize              368 non-null    object \n",
      " 5   Pstatus              350 non-null    object \n",
      " 6   Medu                 392 non-null    float64\n",
      " 7   Fedu                 371 non-null    float64\n",
      " 8   Mjob                 376 non-null    object \n",
      " 9   Fjob                 359 non-null    object \n",
      " 10  reason               378 non-null    object \n",
      " 11  guardian             364 non-null    object \n",
      " 12  traveltime           367 non-null    float64\n",
      " 13  studytime            388 non-null    float64\n",
      " 14  failures             373 non-null    float64\n",
      " 15  schoolsup            386 non-null    object \n",
      " 16  famsup               356 non-null    object \n",
      " 17  paid                 355 non-null    object \n",
      " 18  activities           381 non-null    object \n",
      " 19  nursery              379 non-null    object \n",
      " 20  studytime, granular  388 non-null    float64\n",
      " 21  higher               375 non-null    object \n",
      " 22  internet             361 non-null    object \n",
      " 23  romantic             364 non-null    object \n",
      " 24  famrel               368 non-null    float64\n",
      " 25  freetime             384 non-null    float64\n",
      " 26  goout                387 non-null    float64\n",
      " 27  health               380 non-null    float64\n",
      " 28  absences             383 non-null    float64\n",
      " 29  score                389 non-null    float64\n",
      "dtypes: float64(12), int64(1), object(17)\n",
      "memory usage: 92.7+ KB\n"
     ]
    }
   ],
   "source": [
    "display(unicef.head(10))\n",
    "unicef.info()"
   ]
  },
  {
   "cell_type": "markdown",
   "metadata": {},
   "source": [
    "Итак, а нашем наборе данных 395 строк, однако лишь первые три колонки не содержат пропусков данных. 17 столбцов содержат строковые данные, 13 столбцов - целые и дробные числа."
   ]
  },
  {
   "cell_type": "markdown",
   "metadata": {},
   "source": [
    "Визуальный анализ также показывает, что набор содержит столбец \"studytime, granular\", не описываемый в тексте задания. Удалим его, чтобы не засорять матрицу корреляций"
   ]
  },
  {
   "cell_type": "code",
   "execution_count": 3,
   "metadata": {},
   "outputs": [],
   "source": [
    "unicef = unicef.drop(['studytime, granular'], axis=\"columns\")"
   ]
  },
  {
   "cell_type": "markdown",
   "metadata": {},
   "source": [
    "Так как у нас есть несколько столбцов, в который лишь два возможных значения (yes и no), удобно превратить их в числительные (1 и 0). Такой подход позволит выяснить, существует ли корреляция итоговой оценки (score) от образовательных поддержек, посещений детского сада, наличия интернета, романтических отношений и прочих \"бинарных\" переменных."
   ]
  },
  {
   "cell_type": "code",
   "execution_count": 4,
   "metadata": {},
   "outputs": [],
   "source": [
    "def numerizer(x):\n",
    "    if x == 'yes':\n",
    "        x = 1\n",
    "    elif x == 'no':\n",
    "        x = 0\n",
    "    else:\n",
    "        x = 0.5\n",
    "    return float(x)"
   ]
  },
  {
   "cell_type": "markdown",
   "metadata": {},
   "source": [
    "Вот какой логикой я руководствуюсь:\n",
    "- в нашем наборе 29 строк, многие из них 'yes' или 'no', остальные - неизвестные (None или NaN)\n",
    "- в целом данные довольно чистые\n",
    "- если перед анализом вычистить все строки, в которых нам неизвестно \"да или нет\" хотя бы в одном столбце, мы потеряем много ценных данных, что снизит точность анализа\n",
    "- я принимаю, что в случае, если мы не знаем, \"да или нет\", считаем вероятность \"да\" в 50%, то есть значение 0,5\n",
    "- это не вполне корректно, так как в некоторых случаях соотношение \"да\"/\"нет\" будет совсем другим. Правильнее было бы задать его в качестве еще одной переменной\n",
    "- однако так как таких данных в каждой конкретной колонке немного (не более 20-30 записей, как мы видим из функции .info), то и на точность коэффициента корреляции это маленькое допущение повлияет незначительно."
   ]
  },
  {
   "cell_type": "code",
   "execution_count": 5,
   "metadata": {},
   "outputs": [],
   "source": [
    "def get_boxplot(column):\n",
    "    fig, ax = plt.subplots(figsize=(14, 4))\n",
    "    sns.boxplot(x=column, y='score',\n",
    "                data=unicef,\n",
    "                ax=ax)\n",
    "    plt.xticks(rotation=45)\n",
    "    ax.set_title('Boxplot for ' + column)\n",
    "    plt.show()"
   ]
  },
  {
   "cell_type": "markdown",
   "metadata": {},
   "source": [
    "Задаем функцию для построения коробок с усами."
   ]
  },
  {
   "cell_type": "markdown",
   "metadata": {},
   "source": [
    "# Очищаем столбец School"
   ]
  },
  {
   "cell_type": "code",
   "execution_count": 6,
   "metadata": {},
   "outputs": [
    {
     "data": {
      "text/html": [
       "<div>\n",
       "<style scoped>\n",
       "    .dataframe tbody tr th:only-of-type {\n",
       "        vertical-align: middle;\n",
       "    }\n",
       "\n",
       "    .dataframe tbody tr th {\n",
       "        vertical-align: top;\n",
       "    }\n",
       "\n",
       "    .dataframe thead th {\n",
       "        text-align: right;\n",
       "    }\n",
       "</style>\n",
       "<table border=\"1\" class=\"dataframe\">\n",
       "  <thead>\n",
       "    <tr style=\"text-align: right;\">\n",
       "      <th></th>\n",
       "      <th>school</th>\n",
       "    </tr>\n",
       "  </thead>\n",
       "  <tbody>\n",
       "    <tr>\n",
       "      <th>GP</th>\n",
       "      <td>349</td>\n",
       "    </tr>\n",
       "    <tr>\n",
       "      <th>MS</th>\n",
       "      <td>46</td>\n",
       "    </tr>\n",
       "  </tbody>\n",
       "</table>\n",
       "</div>"
      ],
      "text/plain": [
       "    school\n",
       "GP     349\n",
       "MS      46"
      ]
     },
     "execution_count": 6,
     "metadata": {},
     "output_type": "execute_result"
    }
   ],
   "source": [
    "pd.DataFrame(unicef.school.value_counts())"
   ]
  },
  {
   "cell_type": "markdown",
   "metadata": {},
   "source": [
    "Итак, перед нами данные учеников всего из 2 школ. Они закодированы аббревиатурами GP и MS. Можно было бы сделать предположение, что это типы медицинских школ (аббревиатуры типичны для General Practice и Medical School), но у нас для этого нет достаточных оснований (тем более, не факт, что в школах этого профиля преподают математику). \n",
    "\n",
    "Не будем делать предположений - пока нам достаточно, что этот столбец абсолютно чист. Построим график распределения учеников по школам."
   ]
  },
  {
   "cell_type": "code",
   "execution_count": 7,
   "metadata": {},
   "outputs": [
    {
     "data": {
      "text/plain": [
       "<matplotlib.axes._subplots.AxesSubplot at 0x29de76cef88>"
      ]
     },
     "execution_count": 7,
     "metadata": {},
     "output_type": "execute_result"
    },
    {
     "data": {
      "image/png": "[encoded data removed]",
      "text/plain": [
       "<Figure size 432x288 with 1 Axes>"
      ]
     },
     "metadata": {
      "needs_background": "light"
     },
     "output_type": "display_data"
    }
   ],
   "source": [
    "unicef.school.hist()"
   ]
  },
  {
   "cell_type": "markdown",
   "metadata": {},
   "source": [
    "# Очищаем столбец sex"
   ]
  },
  {
   "cell_type": "code",
   "execution_count": 8,
   "metadata": {},
   "outputs": [
    {
     "data": {
      "text/html": [
       "<div>\n",
       "<style scoped>\n",
       "    .dataframe tbody tr th:only-of-type {\n",
       "        vertical-align: middle;\n",
       "    }\n",
       "\n",
       "    .dataframe tbody tr th {\n",
       "        vertical-align: top;\n",
       "    }\n",
       "\n",
       "    .dataframe thead th {\n",
       "        text-align: right;\n",
       "    }\n",
       "</style>\n",
       "<table border=\"1\" class=\"dataframe\">\n",
       "  <thead>\n",
       "    <tr style=\"text-align: right;\">\n",
       "      <th></th>\n",
       "      <th>sex</th>\n",
       "    </tr>\n",
       "  </thead>\n",
       "  <tbody>\n",
       "    <tr>\n",
       "      <th>F</th>\n",
       "      <td>208</td>\n",
       "    </tr>\n",
       "    <tr>\n",
       "      <th>M</th>\n",
       "      <td>187</td>\n",
       "    </tr>\n",
       "  </tbody>\n",
       "</table>\n",
       "</div>"
      ],
      "text/plain": [
       "   sex\n",
       "F  208\n",
       "M  187"
      ]
     },
     "execution_count": 8,
     "metadata": {},
     "output_type": "execute_result"
    }
   ],
   "source": [
    "pd.DataFrame(unicef.sex.value_counts())"
   ]
  },
  {
   "cell_type": "code",
   "execution_count": 9,
   "metadata": {},
   "outputs": [
    {
     "data": {
      "text/plain": [
       "<matplotlib.axes._subplots.AxesSubplot at 0x29de7e54748>"
      ]
     },
     "execution_count": 9,
     "metadata": {},
     "output_type": "execute_result"
    },
    {
     "data": {
      "image/png": "[encoded data removed]",
      "text/plain": [
       "<Figure size 432x288 with 1 Axes>"
      ]
     },
     "metadata": {
      "needs_background": "light"
     },
     "output_type": "display_data"
    }
   ],
   "source": [
    "unicef.sex.hist()"
   ]
  },
  {
   "cell_type": "markdown",
   "metadata": {},
   "source": [
    "Выяснили, что (как в советской песне) \"на 10 девчонок по статистике 9 ребят\". Также выяснили, что столбец чист: в нем не содержится пустых строк или лишних строковых объектов."
   ]
  },
  {
   "cell_type": "markdown",
   "metadata": {},
   "source": [
    "Так как здесь тоже есть всего два значения, можно преобразовать их в числа (девочка = 0, мальчик = 1). Это позволит оценить корреляцию между полом учащегося и успеваемостью по математике (отрицательная будет означать, что девочки лучше мальчиков, положительная наоборот). Господи, на какой тонкий лед я встал."
   ]
  },
  {
   "cell_type": "code",
   "execution_count": 10,
   "metadata": {},
   "outputs": [],
   "source": [
    "unicef.sex = unicef.sex.apply((lambda x: 0 if x == 'F' else 1))"
   ]
  },
  {
   "cell_type": "code",
   "execution_count": 11,
   "metadata": {},
   "outputs": [
    {
     "data": {
      "text/html": [
       "<div>\n",
       "<style scoped>\n",
       "    .dataframe tbody tr th:only-of-type {\n",
       "        vertical-align: middle;\n",
       "    }\n",
       "\n",
       "    .dataframe tbody tr th {\n",
       "        vertical-align: top;\n",
       "    }\n",
       "\n",
       "    .dataframe thead th {\n",
       "        text-align: right;\n",
       "    }\n",
       "</style>\n",
       "<table border=\"1\" class=\"dataframe\">\n",
       "  <thead>\n",
       "    <tr style=\"text-align: right;\">\n",
       "      <th></th>\n",
       "      <th>sex</th>\n",
       "    </tr>\n",
       "  </thead>\n",
       "  <tbody>\n",
       "    <tr>\n",
       "      <th>0</th>\n",
       "      <td>208</td>\n",
       "    </tr>\n",
       "    <tr>\n",
       "      <th>1</th>\n",
       "      <td>187</td>\n",
       "    </tr>\n",
       "  </tbody>\n",
       "</table>\n",
       "</div>"
      ],
      "text/plain": [
       "   sex\n",
       "0  208\n",
       "1  187"
      ]
     },
     "execution_count": 11,
     "metadata": {},
     "output_type": "execute_result"
    }
   ],
   "source": [
    "pd.DataFrame(unicef.sex.value_counts())"
   ]
  },
  {
   "cell_type": "markdown",
   "metadata": {},
   "source": [
    "# Cтолбец Age"
   ]
  },
  {
   "cell_type": "code",
   "execution_count": 12,
   "metadata": {},
   "outputs": [
    {
     "data": {
      "text/html": [
       "<div>\n",
       "<style scoped>\n",
       "    .dataframe tbody tr th:only-of-type {\n",
       "        vertical-align: middle;\n",
       "    }\n",
       "\n",
       "    .dataframe tbody tr th {\n",
       "        vertical-align: top;\n",
       "    }\n",
       "\n",
       "    .dataframe thead th {\n",
       "        text-align: right;\n",
       "    }\n",
       "</style>\n",
       "<table border=\"1\" class=\"dataframe\">\n",
       "  <thead>\n",
       "    <tr style=\"text-align: right;\">\n",
       "      <th></th>\n",
       "      <th>age</th>\n",
       "    </tr>\n",
       "  </thead>\n",
       "  <tbody>\n",
       "    <tr>\n",
       "      <th>16</th>\n",
       "      <td>104</td>\n",
       "    </tr>\n",
       "    <tr>\n",
       "      <th>17</th>\n",
       "      <td>98</td>\n",
       "    </tr>\n",
       "    <tr>\n",
       "      <th>18</th>\n",
       "      <td>82</td>\n",
       "    </tr>\n",
       "    <tr>\n",
       "      <th>15</th>\n",
       "      <td>82</td>\n",
       "    </tr>\n",
       "    <tr>\n",
       "      <th>19</th>\n",
       "      <td>24</td>\n",
       "    </tr>\n",
       "    <tr>\n",
       "      <th>20</th>\n",
       "      <td>3</td>\n",
       "    </tr>\n",
       "    <tr>\n",
       "      <th>22</th>\n",
       "      <td>1</td>\n",
       "    </tr>\n",
       "    <tr>\n",
       "      <th>21</th>\n",
       "      <td>1</td>\n",
       "    </tr>\n",
       "  </tbody>\n",
       "</table>\n",
       "</div>"
      ],
      "text/plain": [
       "    age\n",
       "16  104\n",
       "17   98\n",
       "18   82\n",
       "15   82\n",
       "19   24\n",
       "20    3\n",
       "22    1\n",
       "21    1"
      ]
     },
     "execution_count": 12,
     "metadata": {},
     "output_type": "execute_result"
    }
   ],
   "source": [
    "pd.DataFrame(unicef.age.value_counts())"
   ]
  },
  {
   "cell_type": "code",
   "execution_count": 13,
   "metadata": {},
   "outputs": [
    {
     "data": {
      "text/plain": [
       "<matplotlib.axes._subplots.AxesSubplot at 0x29de7eee3c8>"
      ]
     },
     "execution_count": 13,
     "metadata": {},
     "output_type": "execute_result"
    },
    {
     "data": {
      "image/png": "[encoded data removed]",
      "text/plain": [
       "<Figure size 432x288 with 1 Axes>"
      ]
     },
     "metadata": {
      "needs_background": "light"
     },
     "output_type": "display_data"
    }
   ],
   "source": [
    "unicef.age.hist()"
   ]
  },
  {
   "cell_type": "markdown",
   "metadata": {},
   "source": [
    "Тут я был неприятно удивлен, что за дырок налепил мне в графике Питон. Поэтому решил построить гистограмму иным способом (заодно продемонстрирую, что я умею делать красиво, с подписями осей)."
   ]
  },
  {
   "cell_type": "code",
   "execution_count": 14,
   "metadata": {},
   "outputs": [
    {
     "data": {
      "text/plain": [
       "Text(0.5, 0, 'Возраст')"
      ]
     },
     "execution_count": 14,
     "metadata": {},
     "output_type": "execute_result"
    },
    {
     "data": {
      "image/png": "[encoded data removed]",
      "text/plain": [
       "<Figure size 432x288 with 1 Axes>"
      ]
     },
     "metadata": {
      "needs_background": "light"
     },
     "output_type": "display_data"
    }
   ],
   "source": [
    "fig = plt.figure()\n",
    "axes = fig.add_axes([0, 0, 1, 1])\n",
    "axes.hist(unicef['age'], bins=8, color='green')\n",
    "axes.set_title('Распределение по возрасту')\n",
    "axes.set_ylabel('Количество учащихся')\n",
    "axes.set_xlabel('Возраст')"
   ]
  },
  {
   "cell_type": "markdown",
   "metadata": {},
   "source": [
    "Да, визуально это похоже на нормальное распределение. Но вот остаются эти пятеро высоковозрастных детин 20-22 лет: я б их убрал (слишком мало по ним данным), но давайте посмотрим, какого мнения наука."
   ]
  },
  {
   "cell_type": "code",
   "execution_count": 15,
   "metadata": {},
   "outputs": [
    {
     "name": "stdout",
     "output_type": "stream",
     "text": [
      "25-й перцентиль: 16.0, 75-й перцентиль: 18.0, IQR: 2.0,  Границы выбросов: [13.0, 21.0].\n"
     ]
    },
    {
     "data": {
      "text/plain": [
       "<matplotlib.axes._subplots.AxesSubplot at 0x29de800ad08>"
      ]
     },
     "execution_count": 15,
     "metadata": {},
     "output_type": "execute_result"
    },
    {
     "data": {
      "image/png": "[encoded data removed]",
      "text/plain": [
       "<Figure size 432x288 with 1 Axes>"
      ]
     },
     "metadata": {
      "needs_background": "light"
     },
     "output_type": "display_data"
    }
   ],
   "source": [
    "median = unicef.age.median()\n",
    "IQR = unicef.age.quantile(0.75) - unicef.age.quantile(0.25)\n",
    "perc25 = unicef.age.quantile(0.25)\n",
    "perc75 = unicef.age.quantile(0.75)\n",
    "print('25-й перцентиль: {},'.format(perc25), '75-й перцентиль: {},'.format(perc75),\n",
    "      \"IQR: {}, \".format(IQR), \"Границы выбросов: [{f}, {l}].\".format(f=perc25 - 1.5*IQR, l=perc75 + 1.5*IQR))\n",
    "unicef.age.loc[unicef.age.between(perc25 - 1.5*IQR, perc75 + 1.5*IQR)].hist()"
   ]
  },
  {
   "cell_type": "markdown",
   "metadata": {},
   "source": [
    "Наука говорит, что 21-летка еще туда-сюда, а вот 22-летнего прочь. В данном случае, я все же предпочту удалить как 22-летнего, так и 21-летнего ученика, руководствуясь здравым смыслом: 20-летние еще близки к довольно масштабной группе 19-летних (там может быть разница 1-2 дня), а вот 2 ученика 21-22 явно лишние. Прощайте."
   ]
  },
  {
   "cell_type": "code",
   "execution_count": 16,
   "metadata": {},
   "outputs": [],
   "source": [
    "unicef = unicef.loc[unicef.age <= 20]"
   ]
  },
  {
   "cell_type": "markdown",
   "metadata": {},
   "source": [
    "# Столбец Address"
   ]
  },
  {
   "cell_type": "code",
   "execution_count": 17,
   "metadata": {},
   "outputs": [
    {
     "data": {
      "text/html": [
       "<div>\n",
       "<style scoped>\n",
       "    .dataframe tbody tr th:only-of-type {\n",
       "        vertical-align: middle;\n",
       "    }\n",
       "\n",
       "    .dataframe tbody tr th {\n",
       "        vertical-align: top;\n",
       "    }\n",
       "\n",
       "    .dataframe thead th {\n",
       "        text-align: right;\n",
       "    }\n",
       "</style>\n",
       "<table border=\"1\" class=\"dataframe\">\n",
       "  <thead>\n",
       "    <tr style=\"text-align: right;\">\n",
       "      <th></th>\n",
       "      <th>address</th>\n",
       "    </tr>\n",
       "  </thead>\n",
       "  <tbody>\n",
       "    <tr>\n",
       "      <th>U</th>\n",
       "      <td>294</td>\n",
       "    </tr>\n",
       "    <tr>\n",
       "      <th>R</th>\n",
       "      <td>82</td>\n",
       "    </tr>\n",
       "  </tbody>\n",
       "</table>\n",
       "</div>"
      ],
      "text/plain": [
       "   address\n",
       "U      294\n",
       "R       82"
      ]
     },
     "execution_count": 17,
     "metadata": {},
     "output_type": "execute_result"
    }
   ],
   "source": [
    "pd.DataFrame(unicef.address.value_counts())"
   ]
  },
  {
   "cell_type": "markdown",
   "metadata": {},
   "source": [
    "Итак, у нас 294 городских и 82 сельских учащихся. Гистограмму построить можно, но, на мой взгляд, не нужно. \n",
    "Вот только сразу видно, что не сходится: у нас должно оставаться 393 учащихся, значит, остальные значения пусты. \n",
    "\n",
    "И здесь меня настигает экзистенциальный вопрос: выбросить ли их из датасета? Нужно ли выбрасывать из набора данные только потому, что они неполны? Я принимаю решение этого не делать: 393 записи - и без того немного для анализа."
   ]
  },
  {
   "cell_type": "markdown",
   "metadata": {},
   "source": [
    "# Столбец Famsize"
   ]
  },
  {
   "cell_type": "code",
   "execution_count": 18,
   "metadata": {},
   "outputs": [
    {
     "data": {
      "text/html": [
       "<div>\n",
       "<style scoped>\n",
       "    .dataframe tbody tr th:only-of-type {\n",
       "        vertical-align: middle;\n",
       "    }\n",
       "\n",
       "    .dataframe tbody tr th {\n",
       "        vertical-align: top;\n",
       "    }\n",
       "\n",
       "    .dataframe thead th {\n",
       "        text-align: right;\n",
       "    }\n",
       "</style>\n",
       "<table border=\"1\" class=\"dataframe\">\n",
       "  <thead>\n",
       "    <tr style=\"text-align: right;\">\n",
       "      <th></th>\n",
       "      <th>famsize</th>\n",
       "    </tr>\n",
       "  </thead>\n",
       "  <tbody>\n",
       "    <tr>\n",
       "      <th>GT3</th>\n",
       "      <td>259</td>\n",
       "    </tr>\n",
       "    <tr>\n",
       "      <th>LE3</th>\n",
       "      <td>107</td>\n",
       "    </tr>\n",
       "  </tbody>\n",
       "</table>\n",
       "</div>"
      ],
      "text/plain": [
       "     famsize\n",
       "GT3      259\n",
       "LE3      107"
      ]
     },
     "execution_count": 18,
     "metadata": {},
     "output_type": "execute_result"
    }
   ],
   "source": [
    "pd.DataFrame(unicef.famsize.value_counts())"
   ]
  },
  {
   "cell_type": "markdown",
   "metadata": {},
   "source": [
    "Итак, 259 учащихся имеют 3 человек в семье и более, 107 - менее трех, по остальным нет данных. Как и ранее, я не удаляю \"пустые\" данные ради сохранения массива."
   ]
  },
  {
   "cell_type": "markdown",
   "metadata": {},
   "source": [
    "# Столбец Pstatus"
   ]
  },
  {
   "cell_type": "code",
   "execution_count": 19,
   "metadata": {},
   "outputs": [
    {
     "data": {
      "text/html": [
       "<div>\n",
       "<style scoped>\n",
       "    .dataframe tbody tr th:only-of-type {\n",
       "        vertical-align: middle;\n",
       "    }\n",
       "\n",
       "    .dataframe tbody tr th {\n",
       "        vertical-align: top;\n",
       "    }\n",
       "\n",
       "    .dataframe thead th {\n",
       "        text-align: right;\n",
       "    }\n",
       "</style>\n",
       "<table border=\"1\" class=\"dataframe\">\n",
       "  <thead>\n",
       "    <tr style=\"text-align: right;\">\n",
       "      <th></th>\n",
       "      <th>Pstatus</th>\n",
       "    </tr>\n",
       "  </thead>\n",
       "  <tbody>\n",
       "    <tr>\n",
       "      <th>T</th>\n",
       "      <td>312</td>\n",
       "    </tr>\n",
       "    <tr>\n",
       "      <th>A</th>\n",
       "      <td>36</td>\n",
       "    </tr>\n",
       "  </tbody>\n",
       "</table>\n",
       "</div>"
      ],
      "text/plain": [
       "   Pstatus\n",
       "T      312\n",
       "A       36"
      ]
     },
     "execution_count": 19,
     "metadata": {},
     "output_type": "execute_result"
    }
   ],
   "source": [
    "pd.DataFrame(unicef.Pstatus.value_counts())"
   ]
  },
  {
   "cell_type": "markdown",
   "metadata": {},
   "source": [
    "У 312 учащихся родители живут вместе, у 36 раздельно, по остальным нет данных. Лишних значений также нет."
   ]
  },
  {
   "cell_type": "markdown",
   "metadata": {},
   "source": [
    "# Столбец Medu"
   ]
  },
  {
   "cell_type": "code",
   "execution_count": 20,
   "metadata": {},
   "outputs": [
    {
     "data": {
      "text/html": [
       "<div>\n",
       "<style scoped>\n",
       "    .dataframe tbody tr th:only-of-type {\n",
       "        vertical-align: middle;\n",
       "    }\n",
       "\n",
       "    .dataframe tbody tr th {\n",
       "        vertical-align: top;\n",
       "    }\n",
       "\n",
       "    .dataframe thead th {\n",
       "        text-align: right;\n",
       "    }\n",
       "</style>\n",
       "<table border=\"1\" class=\"dataframe\">\n",
       "  <thead>\n",
       "    <tr style=\"text-align: right;\">\n",
       "      <th></th>\n",
       "      <th>Medu</th>\n",
       "    </tr>\n",
       "  </thead>\n",
       "  <tbody>\n",
       "    <tr>\n",
       "      <th>4.0</th>\n",
       "      <td>131</td>\n",
       "    </tr>\n",
       "    <tr>\n",
       "      <th>2.0</th>\n",
       "      <td>102</td>\n",
       "    </tr>\n",
       "    <tr>\n",
       "      <th>3.0</th>\n",
       "      <td>96</td>\n",
       "    </tr>\n",
       "    <tr>\n",
       "      <th>1.0</th>\n",
       "      <td>58</td>\n",
       "    </tr>\n",
       "    <tr>\n",
       "      <th>0.0</th>\n",
       "      <td>3</td>\n",
       "    </tr>\n",
       "  </tbody>\n",
       "</table>\n",
       "</div>"
      ],
      "text/plain": [
       "     Medu\n",
       "4.0   131\n",
       "2.0   102\n",
       "3.0    96\n",
       "1.0    58\n",
       "0.0     3"
      ]
     },
     "execution_count": 20,
     "metadata": {},
     "output_type": "execute_result"
    }
   ],
   "source": [
    "pd.DataFrame(unicef.Medu.value_counts())"
   ]
  },
  {
   "cell_type": "code",
   "execution_count": 21,
   "metadata": {},
   "outputs": [
    {
     "name": "stderr",
     "output_type": "stream",
     "text": [
      "C:\\Users\\dhanb\\anaconda3\\lib\\site-packages\\numpy\\lib\\histograms.py:839: RuntimeWarning: invalid value encountered in greater_equal\n",
      "  keep = (tmp_a >= first_edge)\n",
      "C:\\Users\\dhanb\\anaconda3\\lib\\site-packages\\numpy\\lib\\histograms.py:840: RuntimeWarning: invalid value encountered in less_equal\n",
      "  keep &= (tmp_a <= last_edge)\n"
     ]
    },
    {
     "data": {
      "text/plain": [
       "Text(0.5, 0, 'Уровень образования матери')"
      ]
     },
     "execution_count": 21,
     "metadata": {},
     "output_type": "execute_result"
    },
    {
     "data": {
      "image/png": "[encoded data removed]",
      "text/plain": [
       "<Figure size 432x288 with 1 Axes>"
      ]
     },
     "metadata": {
      "needs_background": "light"
     },
     "output_type": "display_data"
    }
   ],
   "source": [
    "fig = plt.figure()\n",
    "axes = fig.add_axes([0, 0, 1, 1])\n",
    "axes.hist(unicef['Medu'], bins=5, color='pink')\n",
    "axes.set_title('Распределение по образованию матери')\n",
    "axes.set_ylabel('Количество учащихся')\n",
    "axes.set_xlabel('Уровень образования матери')"
   ]
  },
  {
   "cell_type": "markdown",
   "metadata": {},
   "source": [
    "# Вывод 1\n",
    "Так как уровни образования ранжированы от низшего (\"Нет образования\") к высшему, мы можем сделать первый вывод: чем выше уровень образования матери, тем выше вероятность, что ребенок попадет в рассматриваемые школы. Тот факт, что \"2\" немного выше \"3\", не должен смущать нас: и то и другое относится к среднему образованию (2 классов относятся к двойке, 11 - к тройке)."
   ]
  },
  {
   "cell_type": "markdown",
   "metadata": {},
   "source": [
    "# Столбец Fedu"
   ]
  },
  {
   "cell_type": "code",
   "execution_count": 22,
   "metadata": {},
   "outputs": [
    {
     "data": {
      "text/html": [
       "<div>\n",
       "<style scoped>\n",
       "    .dataframe tbody tr th:only-of-type {\n",
       "        vertical-align: middle;\n",
       "    }\n",
       "\n",
       "    .dataframe tbody tr th {\n",
       "        vertical-align: top;\n",
       "    }\n",
       "\n",
       "    .dataframe thead th {\n",
       "        text-align: right;\n",
       "    }\n",
       "</style>\n",
       "<table border=\"1\" class=\"dataframe\">\n",
       "  <thead>\n",
       "    <tr style=\"text-align: right;\">\n",
       "      <th></th>\n",
       "      <th>Fedu</th>\n",
       "    </tr>\n",
       "  </thead>\n",
       "  <tbody>\n",
       "    <tr>\n",
       "      <th>2.0</th>\n",
       "      <td>106</td>\n",
       "    </tr>\n",
       "    <tr>\n",
       "      <th>3.0</th>\n",
       "      <td>96</td>\n",
       "    </tr>\n",
       "    <tr>\n",
       "      <th>4.0</th>\n",
       "      <td>88</td>\n",
       "    </tr>\n",
       "    <tr>\n",
       "      <th>1.0</th>\n",
       "      <td>76</td>\n",
       "    </tr>\n",
       "    <tr>\n",
       "      <th>0.0</th>\n",
       "      <td>2</td>\n",
       "    </tr>\n",
       "    <tr>\n",
       "      <th>40.0</th>\n",
       "      <td>1</td>\n",
       "    </tr>\n",
       "  </tbody>\n",
       "</table>\n",
       "</div>"
      ],
      "text/plain": [
       "      Fedu\n",
       "2.0    106\n",
       "3.0     96\n",
       "4.0     88\n",
       "1.0     76\n",
       "0.0      2\n",
       "40.0     1"
      ]
     },
     "execution_count": 22,
     "metadata": {},
     "output_type": "execute_result"
    }
   ],
   "source": [
    "pd.DataFrame(unicef.Fedu.value_counts())"
   ]
  },
  {
   "cell_type": "markdown",
   "metadata": {},
   "source": [
    "Видим очевидный выброс: значение 40.0. Его необходимо удалить (опечатка, которая может быть как 4, так и 0). Пустые значения я не удаляю, чтобы не сократить размер датафрейма драматически."
   ]
  },
  {
   "cell_type": "code",
   "execution_count": 23,
   "metadata": {},
   "outputs": [],
   "source": [
    "unicef = unicef.loc[unicef.Fedu != 40.0]"
   ]
  },
  {
   "cell_type": "code",
   "execution_count": 24,
   "metadata": {},
   "outputs": [
    {
     "name": "stderr",
     "output_type": "stream",
     "text": [
      "C:\\Users\\dhanb\\anaconda3\\lib\\site-packages\\numpy\\lib\\histograms.py:839: RuntimeWarning: invalid value encountered in greater_equal\n",
      "  keep = (tmp_a >= first_edge)\n",
      "C:\\Users\\dhanb\\anaconda3\\lib\\site-packages\\numpy\\lib\\histograms.py:840: RuntimeWarning: invalid value encountered in less_equal\n",
      "  keep &= (tmp_a <= last_edge)\n"
     ]
    },
    {
     "data": {
      "text/plain": [
       "Text(0.5, 0, 'Уровень образования отца')"
      ]
     },
     "execution_count": 24,
     "metadata": {},
     "output_type": "execute_result"
    },
    {
     "data": {
      "image/png": "[encoded data removed]",
      "text/plain": [
       "<Figure size 432x288 with 1 Axes>"
      ]
     },
     "metadata": {
      "needs_background": "light"
     },
     "output_type": "display_data"
    }
   ],
   "source": [
    "fig = plt.figure()\n",
    "axes = fig.add_axes([0, 0, 1, 1])\n",
    "axes.hist(unicef['Fedu'], bins=5, color='blue')\n",
    "axes.set_title('Распределение по образованию отца')\n",
    "axes.set_ylabel('Количество учащихся')\n",
    "axes.set_xlabel('Уровень образования отца')"
   ]
  },
  {
   "cell_type": "markdown",
   "metadata": {},
   "source": [
    "# Вывод 1 (продолжение)\n",
    "Высшее образование у отца ребенка не является предпосылкой для повышения вероятности поступления в эти две школы. Проще сказать, что уровень образования отца должен быть \"хоть каким-нибудь\"."
   ]
  },
  {
   "cell_type": "markdown",
   "metadata": {},
   "source": [
    "# Столбец Mjob"
   ]
  },
  {
   "cell_type": "code",
   "execution_count": 25,
   "metadata": {},
   "outputs": [
    {
     "data": {
      "text/html": [
       "<div>\n",
       "<style scoped>\n",
       "    .dataframe tbody tr th:only-of-type {\n",
       "        vertical-align: middle;\n",
       "    }\n",
       "\n",
       "    .dataframe tbody tr th {\n",
       "        vertical-align: top;\n",
       "    }\n",
       "\n",
       "    .dataframe thead th {\n",
       "        text-align: right;\n",
       "    }\n",
       "</style>\n",
       "<table border=\"1\" class=\"dataframe\">\n",
       "  <thead>\n",
       "    <tr style=\"text-align: right;\">\n",
       "      <th></th>\n",
       "      <th>Mjob</th>\n",
       "    </tr>\n",
       "  </thead>\n",
       "  <tbody>\n",
       "    <tr>\n",
       "      <th>other</th>\n",
       "      <td>132</td>\n",
       "    </tr>\n",
       "    <tr>\n",
       "      <th>services</th>\n",
       "      <td>96</td>\n",
       "    </tr>\n",
       "    <tr>\n",
       "      <th>at_home</th>\n",
       "      <td>58</td>\n",
       "    </tr>\n",
       "    <tr>\n",
       "      <th>teacher</th>\n",
       "      <td>55</td>\n",
       "    </tr>\n",
       "    <tr>\n",
       "      <th>health</th>\n",
       "      <td>32</td>\n",
       "    </tr>\n",
       "  </tbody>\n",
       "</table>\n",
       "</div>"
      ],
      "text/plain": [
       "          Mjob\n",
       "other      132\n",
       "services    96\n",
       "at_home     58\n",
       "teacher     55\n",
       "health      32"
      ]
     },
     "execution_count": 25,
     "metadata": {},
     "output_type": "execute_result"
    }
   ],
   "source": [
    "pd.DataFrame(unicef.Mjob.value_counts())"
   ]
  },
  {
   "cell_type": "code",
   "execution_count": 26,
   "metadata": {},
   "outputs": [
    {
     "data": {
      "text/plain": [
       "<matplotlib.axes._subplots.AxesSubplot at 0x29de8182dc8>"
      ]
     },
     "execution_count": 26,
     "metadata": {},
     "output_type": "execute_result"
    },
    {
     "data": {
      "image/png": "[encoded data removed]",
      "text/plain": [
       "<Figure size 432x288 with 1 Axes>"
      ]
     },
     "metadata": {
      "needs_background": "light"
     },
     "output_type": "display_data"
    }
   ],
   "source": [
    "unicef.Mjob.hist()"
   ]
  },
  {
   "cell_type": "markdown",
   "metadata": {},
   "source": [
    "Итак, среди матерей есть домохозяйки (58), учителя (55), медсестры/врачи (32), работницы сферы услуг (96), но больше всего матерей относятся к рубрике Other (\"неизвестно кто\"). Все пустые значения точно так же можно отнести к этому самому загадочному 'other'. Суммарно это треть от всех записей, что делает информативность этой колонки крайне незначительной. Рука тянется удалить ее, но бог с ним, попозже проанализирую."
   ]
  },
  {
   "cell_type": "markdown",
   "metadata": {},
   "source": [
    "# Столбец Fjob"
   ]
  },
  {
   "cell_type": "code",
   "execution_count": 27,
   "metadata": {},
   "outputs": [
    {
     "data": {
      "text/html": [
       "<div>\n",
       "<style scoped>\n",
       "    .dataframe tbody tr th:only-of-type {\n",
       "        vertical-align: middle;\n",
       "    }\n",
       "\n",
       "    .dataframe tbody tr th {\n",
       "        vertical-align: top;\n",
       "    }\n",
       "\n",
       "    .dataframe thead th {\n",
       "        text-align: right;\n",
       "    }\n",
       "</style>\n",
       "<table border=\"1\" class=\"dataframe\">\n",
       "  <thead>\n",
       "    <tr style=\"text-align: right;\">\n",
       "      <th></th>\n",
       "      <th>Fjob</th>\n",
       "    </tr>\n",
       "  </thead>\n",
       "  <tbody>\n",
       "    <tr>\n",
       "      <th>other</th>\n",
       "      <td>195</td>\n",
       "    </tr>\n",
       "    <tr>\n",
       "      <th>services</th>\n",
       "      <td>101</td>\n",
       "    </tr>\n",
       "    <tr>\n",
       "      <th>teacher</th>\n",
       "      <td>29</td>\n",
       "    </tr>\n",
       "    <tr>\n",
       "      <th>at_home</th>\n",
       "      <td>16</td>\n",
       "    </tr>\n",
       "    <tr>\n",
       "      <th>health</th>\n",
       "      <td>15</td>\n",
       "    </tr>\n",
       "  </tbody>\n",
       "</table>\n",
       "</div>"
      ],
      "text/plain": [
       "          Fjob\n",
       "other      195\n",
       "services   101\n",
       "teacher     29\n",
       "at_home     16\n",
       "health      15"
      ]
     },
     "execution_count": 27,
     "metadata": {},
     "output_type": "execute_result"
    }
   ],
   "source": [
    "pd.DataFrame(unicef.Fjob.value_counts())"
   ]
  },
  {
   "cell_type": "markdown",
   "metadata": {},
   "source": [
    "Даже без гистограммы видно, что нет данных по половине отцов (other либо пропуски). При этом из выбранных составителями профессий лишь по 3-4% приходится на врачей и безработных, лишь 6% - на учителей. По сути, большие объемы только у \"сферы услуг\" (которая ни о чем не говорит, так как содержит слишком много отраслей и специальностей)\n",
    "Эту колонку считаю неинформативной, выбрасываю."
   ]
  },
  {
   "cell_type": "code",
   "execution_count": 28,
   "metadata": {},
   "outputs": [],
   "source": [
    "unicef = unicef.drop(['Fjob'], axis=\"columns\")"
   ]
  },
  {
   "cell_type": "markdown",
   "metadata": {},
   "source": [
    "# Столбец Reason"
   ]
  },
  {
   "cell_type": "code",
   "execution_count": 29,
   "metadata": {},
   "outputs": [
    {
     "data": {
      "text/html": [
       "<div>\n",
       "<style scoped>\n",
       "    .dataframe tbody tr th:only-of-type {\n",
       "        vertical-align: middle;\n",
       "    }\n",
       "\n",
       "    .dataframe tbody tr th {\n",
       "        vertical-align: top;\n",
       "    }\n",
       "\n",
       "    .dataframe thead th {\n",
       "        text-align: right;\n",
       "    }\n",
       "</style>\n",
       "<table border=\"1\" class=\"dataframe\">\n",
       "  <thead>\n",
       "    <tr style=\"text-align: right;\">\n",
       "      <th></th>\n",
       "      <th>reason</th>\n",
       "    </tr>\n",
       "  </thead>\n",
       "  <tbody>\n",
       "    <tr>\n",
       "      <th>course</th>\n",
       "      <td>136</td>\n",
       "    </tr>\n",
       "    <tr>\n",
       "      <th>home</th>\n",
       "      <td>104</td>\n",
       "    </tr>\n",
       "    <tr>\n",
       "      <th>reputation</th>\n",
       "      <td>102</td>\n",
       "    </tr>\n",
       "    <tr>\n",
       "      <th>other</th>\n",
       "      <td>33</td>\n",
       "    </tr>\n",
       "  </tbody>\n",
       "</table>\n",
       "</div>"
      ],
      "text/plain": [
       "            reason\n",
       "course         136\n",
       "home           104\n",
       "reputation     102\n",
       "other           33"
      ]
     },
     "execution_count": 29,
     "metadata": {},
     "output_type": "execute_result"
    }
   ],
   "source": [
    "pd.DataFrame(unicef.reason.value_counts())"
   ]
  },
  {
   "cell_type": "code",
   "execution_count": 30,
   "metadata": {},
   "outputs": [
    {
     "data": {
      "text/plain": [
       "<matplotlib.axes._subplots.AxesSubplot at 0x29de8229fc8>"
      ]
     },
     "execution_count": 30,
     "metadata": {},
     "output_type": "execute_result"
    },
    {
     "data": {
      "image/png": "[encoded data removed]",
      "text/plain": [
       "<Figure size 432x288 with 1 Axes>"
      ]
     },
     "metadata": {
      "needs_background": "light"
     },
     "output_type": "display_data"
    }
   ],
   "source": [
    "unicef.reason.hist()"
   ]
  },
  {
   "cell_type": "markdown",
   "metadata": {},
   "source": [
    "Итак, образовательная программа, близость к дому и репутация действительно являются наиболее значимыми факторами выбора школы. Лишних значений нет. "
   ]
  },
  {
   "cell_type": "markdown",
   "metadata": {},
   "source": [
    "Вообще, по-честному, здесь (как и в Mjob) пустые значения стоит привести к виду 'other'. Но я понятия не имею, какие выводы это поможет сделать, поэтому не буду заниматься пижонством."
   ]
  },
  {
   "cell_type": "markdown",
   "metadata": {},
   "source": [
    "# Столбец guardian"
   ]
  },
  {
   "cell_type": "code",
   "execution_count": 31,
   "metadata": {},
   "outputs": [
    {
     "data": {
      "text/html": [
       "<div>\n",
       "<style scoped>\n",
       "    .dataframe tbody tr th:only-of-type {\n",
       "        vertical-align: middle;\n",
       "    }\n",
       "\n",
       "    .dataframe tbody tr th {\n",
       "        vertical-align: top;\n",
       "    }\n",
       "\n",
       "    .dataframe thead th {\n",
       "        text-align: right;\n",
       "    }\n",
       "</style>\n",
       "<table border=\"1\" class=\"dataframe\">\n",
       "  <thead>\n",
       "    <tr style=\"text-align: right;\">\n",
       "      <th></th>\n",
       "      <th>guardian</th>\n",
       "    </tr>\n",
       "  </thead>\n",
       "  <tbody>\n",
       "    <tr>\n",
       "      <th>mother</th>\n",
       "      <td>249</td>\n",
       "    </tr>\n",
       "    <tr>\n",
       "      <th>father</th>\n",
       "      <td>85</td>\n",
       "    </tr>\n",
       "    <tr>\n",
       "      <th>other</th>\n",
       "      <td>28</td>\n",
       "    </tr>\n",
       "  </tbody>\n",
       "</table>\n",
       "</div>"
      ],
      "text/plain": [
       "        guardian\n",
       "mother       249\n",
       "father        85\n",
       "other         28"
      ]
     },
     "execution_count": 31,
     "metadata": {},
     "output_type": "execute_result"
    }
   ],
   "source": [
    "pd.DataFrame(unicef.guardian.value_counts())"
   ]
  },
  {
   "cell_type": "code",
   "execution_count": 32,
   "metadata": {},
   "outputs": [
    {
     "data": {
      "text/plain": [
       "<matplotlib.axes._subplots.AxesSubplot at 0x29de82a0488>"
      ]
     },
     "execution_count": 32,
     "metadata": {},
     "output_type": "execute_result"
    },
    {
     "data": {
      "image/png": "[encoded data removed]",
      "text/plain": [
       "<Figure size 432x288 with 1 Axes>"
      ]
     },
     "metadata": {
      "needs_background": "light"
     },
     "output_type": "display_data"
    }
   ],
   "source": [
    "unicef.guardian.hist()"
   ]
  },
  {
   "cell_type": "markdown",
   "metadata": {},
   "source": [
    "Вспоминая столбец Pstatus, можно осознать бессмысленность этого столбца: напомню, у более чем 300 человек родители живут вместе. Это значит, что столбец guardian - это в большинстве случаев просто случайный из родителей, живущих в паре (чаще это по каким-то причинам мать, но на жизненные обстоятельства это не влияет - возможно, именно матери чаще занимаются вопросами оформления детей в школу). Таким образом, этот столбец вообще нельзя считать информативным.\n",
    "Убиваю."
   ]
  },
  {
   "cell_type": "code",
   "execution_count": 33,
   "metadata": {},
   "outputs": [],
   "source": [
    "unicef = unicef.drop(['guardian'], axis=\"columns\")"
   ]
  },
  {
   "cell_type": "markdown",
   "metadata": {},
   "source": [
    "# Столбец traveltime"
   ]
  },
  {
   "cell_type": "code",
   "execution_count": 34,
   "metadata": {},
   "outputs": [
    {
     "data": {
      "text/html": [
       "<div>\n",
       "<style scoped>\n",
       "    .dataframe tbody tr th:only-of-type {\n",
       "        vertical-align: middle;\n",
       "    }\n",
       "\n",
       "    .dataframe tbody tr th {\n",
       "        vertical-align: top;\n",
       "    }\n",
       "\n",
       "    .dataframe thead th {\n",
       "        text-align: right;\n",
       "    }\n",
       "</style>\n",
       "<table border=\"1\" class=\"dataframe\">\n",
       "  <thead>\n",
       "    <tr style=\"text-align: right;\">\n",
       "      <th></th>\n",
       "      <th>traveltime</th>\n",
       "    </tr>\n",
       "  </thead>\n",
       "  <tbody>\n",
       "    <tr>\n",
       "      <th>1.0</th>\n",
       "      <td>240</td>\n",
       "    </tr>\n",
       "    <tr>\n",
       "      <th>2.0</th>\n",
       "      <td>96</td>\n",
       "    </tr>\n",
       "    <tr>\n",
       "      <th>3.0</th>\n",
       "      <td>21</td>\n",
       "    </tr>\n",
       "    <tr>\n",
       "      <th>4.0</th>\n",
       "      <td>7</td>\n",
       "    </tr>\n",
       "  </tbody>\n",
       "</table>\n",
       "</div>"
      ],
      "text/plain": [
       "     traveltime\n",
       "1.0         240\n",
       "2.0          96\n",
       "3.0          21\n",
       "4.0           7"
      ]
     },
     "execution_count": 34,
     "metadata": {},
     "output_type": "execute_result"
    }
   ],
   "source": [
    "pd.DataFrame(unicef.traveltime.value_counts())"
   ]
  },
  {
   "cell_type": "code",
   "execution_count": 35,
   "metadata": {},
   "outputs": [
    {
     "data": {
      "text/plain": [
       "<matplotlib.axes._subplots.AxesSubplot at 0x29de8306d48>"
      ]
     },
     "execution_count": 35,
     "metadata": {},
     "output_type": "execute_result"
    },
    {
     "data": {
      "image/png": "[encoded data removed]",
      "text/plain": [
       "<Figure size 432x288 with 1 Axes>"
      ]
     },
     "metadata": {
      "needs_background": "light"
     },
     "output_type": "display_data"
    }
   ],
   "source": [
    "unicef.traveltime.hist()"
   ]
  },
  {
   "cell_type": "markdown",
   "metadata": {},
   "source": [
    "Распределение очень четко показывает: чем ближе живет ученик к школе, тем больше шансов у него в ней учиться. Большинство учеников тратит на дорогу менее 15 минут, и лишь 7 человек более часа. Так как таких значений 7 (в курсе обучения мы выкидывали только в случае, если их менее 5), то оставим их в выборке."
   ]
  },
  {
   "cell_type": "markdown",
   "metadata": {},
   "source": [
    "# Столбец studytime "
   ]
  },
  {
   "cell_type": "code",
   "execution_count": 36,
   "metadata": {},
   "outputs": [
    {
     "data": {
      "text/html": [
       "<div>\n",
       "<style scoped>\n",
       "    .dataframe tbody tr th:only-of-type {\n",
       "        vertical-align: middle;\n",
       "    }\n",
       "\n",
       "    .dataframe tbody tr th {\n",
       "        vertical-align: top;\n",
       "    }\n",
       "\n",
       "    .dataframe thead th {\n",
       "        text-align: right;\n",
       "    }\n",
       "</style>\n",
       "<table border=\"1\" class=\"dataframe\">\n",
       "  <thead>\n",
       "    <tr style=\"text-align: right;\">\n",
       "      <th></th>\n",
       "      <th>studytime</th>\n",
       "    </tr>\n",
       "  </thead>\n",
       "  <tbody>\n",
       "    <tr>\n",
       "      <th>2.0</th>\n",
       "      <td>194</td>\n",
       "    </tr>\n",
       "    <tr>\n",
       "      <th>1.0</th>\n",
       "      <td>101</td>\n",
       "    </tr>\n",
       "    <tr>\n",
       "      <th>3.0</th>\n",
       "      <td>63</td>\n",
       "    </tr>\n",
       "    <tr>\n",
       "      <th>4.0</th>\n",
       "      <td>27</td>\n",
       "    </tr>\n",
       "  </tbody>\n",
       "</table>\n",
       "</div>"
      ],
      "text/plain": [
       "     studytime\n",
       "2.0        194\n",
       "1.0        101\n",
       "3.0         63\n",
       "4.0         27"
      ]
     },
     "execution_count": 36,
     "metadata": {},
     "output_type": "execute_result"
    }
   ],
   "source": [
    "pd.DataFrame(unicef.studytime.value_counts())"
   ]
  },
  {
   "cell_type": "code",
   "execution_count": 37,
   "metadata": {},
   "outputs": [
    {
     "data": {
      "text/plain": [
       "<matplotlib.axes._subplots.AxesSubplot at 0x29de8391e08>"
      ]
     },
     "execution_count": 37,
     "metadata": {},
     "output_type": "execute_result"
    },
    {
     "data": {
      "image/png": "[encoded data removed]",
      "text/plain": [
       "<Figure size 432x288 with 1 Axes>"
      ]
     },
     "metadata": {
      "needs_background": "light"
     },
     "output_type": "display_data"
    }
   ],
   "source": [
    "unicef.studytime.hist()"
   ]
  },
  {
   "cell_type": "markdown",
   "metadata": {},
   "source": [
    "Время, затрачиваемое на обучение, распределено нормально: большинство учащихся тратят от 2 до 5 часов.\n",
    "Вопрос ментору: насколько вообще корректно оценивать распределение с неравномерными интервалами?\n",
    "Например, 2 = от 2 до 5 часов (интервал 3 часа), 3 = от 5 до 10 часов (интервал 5 часов).\n",
    "И как преобразовать данные, если мы не знаем, как распределены ответы внутри каждого интервала (условно, кто учится 6 часов, а кто 9)?"
   ]
  },
  {
   "cell_type": "markdown",
   "metadata": {},
   "source": [
    "# Столбец failures"
   ]
  },
  {
   "cell_type": "code",
   "execution_count": 38,
   "metadata": {},
   "outputs": [
    {
     "data": {
      "text/html": [
       "<div>\n",
       "<style scoped>\n",
       "    .dataframe tbody tr th:only-of-type {\n",
       "        vertical-align: middle;\n",
       "    }\n",
       "\n",
       "    .dataframe tbody tr th {\n",
       "        vertical-align: top;\n",
       "    }\n",
       "\n",
       "    .dataframe thead th {\n",
       "        text-align: right;\n",
       "    }\n",
       "</style>\n",
       "<table border=\"1\" class=\"dataframe\">\n",
       "  <thead>\n",
       "    <tr style=\"text-align: right;\">\n",
       "      <th></th>\n",
       "      <th>failures</th>\n",
       "    </tr>\n",
       "  </thead>\n",
       "  <tbody>\n",
       "    <tr>\n",
       "      <th>0.0</th>\n",
       "      <td>292</td>\n",
       "    </tr>\n",
       "    <tr>\n",
       "      <th>1.0</th>\n",
       "      <td>49</td>\n",
       "    </tr>\n",
       "    <tr>\n",
       "      <th>2.0</th>\n",
       "      <td>16</td>\n",
       "    </tr>\n",
       "    <tr>\n",
       "      <th>3.0</th>\n",
       "      <td>13</td>\n",
       "    </tr>\n",
       "  </tbody>\n",
       "</table>\n",
       "</div>"
      ],
      "text/plain": [
       "     failures\n",
       "0.0       292\n",
       "1.0        49\n",
       "2.0        16\n",
       "3.0        13"
      ]
     },
     "execution_count": 38,
     "metadata": {},
     "output_type": "execute_result"
    }
   ],
   "source": [
    "pd.DataFrame(unicef.failures.value_counts())"
   ]
  },
  {
   "cell_type": "markdown",
   "metadata": {},
   "source": [
    "Почти три четверти учащихся не имело \"неучебных неудач\" (знать бы еще что это)"
   ]
  },
  {
   "cell_type": "code",
   "execution_count": 39,
   "metadata": {},
   "outputs": [
    {
     "data": {
      "text/plain": [
       "<matplotlib.axes._subplots.AxesSubplot at 0x29de8407788>"
      ]
     },
     "execution_count": 39,
     "metadata": {},
     "output_type": "execute_result"
    },
    {
     "data": {
      "image/png": "[encoded data removed]",
      "text/plain": [
       "<Figure size 432x288 with 1 Axes>"
      ]
     },
     "metadata": {
      "needs_background": "light"
     },
     "output_type": "display_data"
    }
   ],
   "source": [
    "unicef.failures.hist()"
   ]
  },
  {
   "cell_type": "markdown",
   "metadata": {},
   "source": [
    "# Столбец schoolsup"
   ]
  },
  {
   "cell_type": "code",
   "execution_count": 40,
   "metadata": {},
   "outputs": [
    {
     "data": {
      "text/html": [
       "<div>\n",
       "<style scoped>\n",
       "    .dataframe tbody tr th:only-of-type {\n",
       "        vertical-align: middle;\n",
       "    }\n",
       "\n",
       "    .dataframe tbody tr th {\n",
       "        vertical-align: top;\n",
       "    }\n",
       "\n",
       "    .dataframe thead th {\n",
       "        text-align: right;\n",
       "    }\n",
       "</style>\n",
       "<table border=\"1\" class=\"dataframe\">\n",
       "  <thead>\n",
       "    <tr style=\"text-align: right;\">\n",
       "      <th></th>\n",
       "      <th>schoolsup</th>\n",
       "    </tr>\n",
       "  </thead>\n",
       "  <tbody>\n",
       "    <tr>\n",
       "      <th>no</th>\n",
       "      <td>333</td>\n",
       "    </tr>\n",
       "    <tr>\n",
       "      <th>yes</th>\n",
       "      <td>51</td>\n",
       "    </tr>\n",
       "  </tbody>\n",
       "</table>\n",
       "</div>"
      ],
      "text/plain": [
       "     schoolsup\n",
       "no         333\n",
       "yes         51"
      ]
     },
     "execution_count": 40,
     "metadata": {},
     "output_type": "execute_result"
    }
   ],
   "source": [
    "pd.DataFrame(unicef.schoolsup.value_counts())"
   ]
  },
  {
   "cell_type": "markdown",
   "metadata": {},
   "source": [
    "Так как я считаю коэффициенты корреляции более надежным источником, нежели визуальный анализ графиков, преобразую этот столбец в численные значения"
   ]
  },
  {
   "cell_type": "code",
   "execution_count": 41,
   "metadata": {},
   "outputs": [],
   "source": [
    "unicef.schoolsup = unicef.schoolsup.apply(numerizer)"
   ]
  },
  {
   "cell_type": "markdown",
   "metadata": {},
   "source": [
    "# Столбец famsup"
   ]
  },
  {
   "cell_type": "code",
   "execution_count": 42,
   "metadata": {},
   "outputs": [
    {
     "data": {
      "text/html": [
       "<div>\n",
       "<style scoped>\n",
       "    .dataframe tbody tr th:only-of-type {\n",
       "        vertical-align: middle;\n",
       "    }\n",
       "\n",
       "    .dataframe tbody tr th {\n",
       "        vertical-align: top;\n",
       "    }\n",
       "\n",
       "    .dataframe thead th {\n",
       "        text-align: right;\n",
       "    }\n",
       "</style>\n",
       "<table border=\"1\" class=\"dataframe\">\n",
       "  <thead>\n",
       "    <tr style=\"text-align: right;\">\n",
       "      <th></th>\n",
       "      <th>famsup</th>\n",
       "    </tr>\n",
       "  </thead>\n",
       "  <tbody>\n",
       "    <tr>\n",
       "      <th>yes</th>\n",
       "      <td>218</td>\n",
       "    </tr>\n",
       "    <tr>\n",
       "      <th>no</th>\n",
       "      <td>135</td>\n",
       "    </tr>\n",
       "  </tbody>\n",
       "</table>\n",
       "</div>"
      ],
      "text/plain": [
       "     famsup\n",
       "yes     218\n",
       "no      135"
      ]
     },
     "execution_count": 42,
     "metadata": {},
     "output_type": "execute_result"
    }
   ],
   "source": [
    "pd.DataFrame(unicef.famsup.value_counts())"
   ]
  },
  {
   "cell_type": "markdown",
   "metadata": {},
   "source": [
    "Итак, в отличие от школьного допобразования (которое мало у кого было), большинство обучающихся получали учебную поддержку от семьи"
   ]
  },
  {
   "cell_type": "code",
   "execution_count": 43,
   "metadata": {},
   "outputs": [],
   "source": [
    "unicef.famsup = unicef.famsup.apply(numerizer)"
   ]
  },
  {
   "cell_type": "markdown",
   "metadata": {},
   "source": [
    "# Столбец paid"
   ]
  },
  {
   "cell_type": "code",
   "execution_count": 44,
   "metadata": {},
   "outputs": [
    {
     "data": {
      "text/html": [
       "<div>\n",
       "<style scoped>\n",
       "    .dataframe tbody tr th:only-of-type {\n",
       "        vertical-align: middle;\n",
       "    }\n",
       "\n",
       "    .dataframe tbody tr th {\n",
       "        vertical-align: top;\n",
       "    }\n",
       "\n",
       "    .dataframe thead th {\n",
       "        text-align: right;\n",
       "    }\n",
       "</style>\n",
       "<table border=\"1\" class=\"dataframe\">\n",
       "  <thead>\n",
       "    <tr style=\"text-align: right;\">\n",
       "      <th></th>\n",
       "      <th>paid</th>\n",
       "    </tr>\n",
       "  </thead>\n",
       "  <tbody>\n",
       "    <tr>\n",
       "      <th>no</th>\n",
       "      <td>197</td>\n",
       "    </tr>\n",
       "    <tr>\n",
       "      <th>yes</th>\n",
       "      <td>155</td>\n",
       "    </tr>\n",
       "  </tbody>\n",
       "</table>\n",
       "</div>"
      ],
      "text/plain": [
       "     paid\n",
       "no    197\n",
       "yes   155"
      ]
     },
     "execution_count": 44,
     "metadata": {},
     "output_type": "execute_result"
    }
   ],
   "source": [
    "pd.DataFrame(unicef.paid.value_counts())"
   ]
  },
  {
   "cell_type": "markdown",
   "metadata": {},
   "source": [
    "155 учеников посещали дополнительные платные курсы по математике."
   ]
  },
  {
   "cell_type": "code",
   "execution_count": 45,
   "metadata": {},
   "outputs": [],
   "source": [
    "unicef.paid = unicef.paid.apply(numerizer)"
   ]
  },
  {
   "cell_type": "markdown",
   "metadata": {},
   "source": [
    "# Столбец activities"
   ]
  },
  {
   "cell_type": "code",
   "execution_count": 46,
   "metadata": {},
   "outputs": [
    {
     "data": {
      "text/html": [
       "<div>\n",
       "<style scoped>\n",
       "    .dataframe tbody tr th:only-of-type {\n",
       "        vertical-align: middle;\n",
       "    }\n",
       "\n",
       "    .dataframe tbody tr th {\n",
       "        vertical-align: top;\n",
       "    }\n",
       "\n",
       "    .dataframe thead th {\n",
       "        text-align: right;\n",
       "    }\n",
       "</style>\n",
       "<table border=\"1\" class=\"dataframe\">\n",
       "  <thead>\n",
       "    <tr style=\"text-align: right;\">\n",
       "      <th></th>\n",
       "      <th>activities</th>\n",
       "    </tr>\n",
       "  </thead>\n",
       "  <tbody>\n",
       "    <tr>\n",
       "      <th>yes</th>\n",
       "      <td>194</td>\n",
       "    </tr>\n",
       "    <tr>\n",
       "      <th>no</th>\n",
       "      <td>184</td>\n",
       "    </tr>\n",
       "  </tbody>\n",
       "</table>\n",
       "</div>"
      ],
      "text/plain": [
       "     activities\n",
       "yes         194\n",
       "no          184"
      ]
     },
     "execution_count": 46,
     "metadata": {},
     "output_type": "execute_result"
    }
   ],
   "source": [
    "pd.DataFrame(unicef.activities.value_counts())"
   ]
  },
  {
   "cell_type": "markdown",
   "metadata": {},
   "source": [
    "Около половины учеников посещали дополнительные внеучебные занятия"
   ]
  },
  {
   "cell_type": "code",
   "execution_count": 47,
   "metadata": {},
   "outputs": [],
   "source": [
    "unicef.activities = unicef.activities.apply(numerizer)"
   ]
  },
  {
   "cell_type": "markdown",
   "metadata": {},
   "source": [
    "# Столбец nursery"
   ]
  },
  {
   "cell_type": "code",
   "execution_count": 48,
   "metadata": {},
   "outputs": [
    {
     "data": {
      "text/html": [
       "<div>\n",
       "<style scoped>\n",
       "    .dataframe tbody tr th:only-of-type {\n",
       "        vertical-align: middle;\n",
       "    }\n",
       "\n",
       "    .dataframe tbody tr th {\n",
       "        vertical-align: top;\n",
       "    }\n",
       "\n",
       "    .dataframe thead th {\n",
       "        text-align: right;\n",
       "    }\n",
       "</style>\n",
       "<table border=\"1\" class=\"dataframe\">\n",
       "  <thead>\n",
       "    <tr style=\"text-align: right;\">\n",
       "      <th></th>\n",
       "      <th>nursery</th>\n",
       "    </tr>\n",
       "  </thead>\n",
       "  <tbody>\n",
       "    <tr>\n",
       "      <th>yes</th>\n",
       "      <td>299</td>\n",
       "    </tr>\n",
       "    <tr>\n",
       "      <th>no</th>\n",
       "      <td>77</td>\n",
       "    </tr>\n",
       "  </tbody>\n",
       "</table>\n",
       "</div>"
      ],
      "text/plain": [
       "     nursery\n",
       "yes      299\n",
       "no        77"
      ]
     },
     "execution_count": 48,
     "metadata": {},
     "output_type": "execute_result"
    }
   ],
   "source": [
    "pd.DataFrame(unicef.nursery.value_counts())"
   ]
  },
  {
   "cell_type": "markdown",
   "metadata": {},
   "source": [
    "Подавляющее большинство (299 человек) посещали детский сад"
   ]
  },
  {
   "cell_type": "code",
   "execution_count": 49,
   "metadata": {},
   "outputs": [],
   "source": [
    "unicef.nursery = unicef.nursery.apply(numerizer)"
   ]
  },
  {
   "cell_type": "markdown",
   "metadata": {},
   "source": [
    "# Столбец higher"
   ]
  },
  {
   "cell_type": "code",
   "execution_count": 50,
   "metadata": {},
   "outputs": [
    {
     "data": {
      "text/html": [
       "<div>\n",
       "<style scoped>\n",
       "    .dataframe tbody tr th:only-of-type {\n",
       "        vertical-align: middle;\n",
       "    }\n",
       "\n",
       "    .dataframe tbody tr th {\n",
       "        vertical-align: top;\n",
       "    }\n",
       "\n",
       "    .dataframe thead th {\n",
       "        text-align: right;\n",
       "    }\n",
       "</style>\n",
       "<table border=\"1\" class=\"dataframe\">\n",
       "  <thead>\n",
       "    <tr style=\"text-align: right;\">\n",
       "      <th></th>\n",
       "      <th>higher</th>\n",
       "    </tr>\n",
       "  </thead>\n",
       "  <tbody>\n",
       "    <tr>\n",
       "      <th>yes</th>\n",
       "      <td>355</td>\n",
       "    </tr>\n",
       "    <tr>\n",
       "      <th>no</th>\n",
       "      <td>18</td>\n",
       "    </tr>\n",
       "  </tbody>\n",
       "</table>\n",
       "</div>"
      ],
      "text/plain": [
       "     higher\n",
       "yes     355\n",
       "no       18"
      ]
     },
     "execution_count": 50,
     "metadata": {},
     "output_type": "execute_result"
    }
   ],
   "source": [
    "pd.DataFrame(unicef.higher.value_counts())"
   ]
  },
  {
   "cell_type": "markdown",
   "metadata": {},
   "source": [
    "У подавляющего большинства есть амбиции к получению высшего образования. Таких детей гораздо больше, чем тех, чья мать или отец имеют высшее образование. Это можно объяснить либо веянием времени, либо влиянием школы."
   ]
  },
  {
   "cell_type": "code",
   "execution_count": 51,
   "metadata": {},
   "outputs": [],
   "source": [
    "unicef.higher = unicef.higher.apply(numerizer)"
   ]
  },
  {
   "cell_type": "markdown",
   "metadata": {},
   "source": [
    "# Столбец internet"
   ]
  },
  {
   "cell_type": "code",
   "execution_count": 52,
   "metadata": {},
   "outputs": [
    {
     "data": {
      "text/html": [
       "<div>\n",
       "<style scoped>\n",
       "    .dataframe tbody tr th:only-of-type {\n",
       "        vertical-align: middle;\n",
       "    }\n",
       "\n",
       "    .dataframe tbody tr th {\n",
       "        vertical-align: top;\n",
       "    }\n",
       "\n",
       "    .dataframe thead th {\n",
       "        text-align: right;\n",
       "    }\n",
       "</style>\n",
       "<table border=\"1\" class=\"dataframe\">\n",
       "  <thead>\n",
       "    <tr style=\"text-align: right;\">\n",
       "      <th></th>\n",
       "      <th>internet</th>\n",
       "    </tr>\n",
       "  </thead>\n",
       "  <tbody>\n",
       "    <tr>\n",
       "      <th>yes</th>\n",
       "      <td>303</td>\n",
       "    </tr>\n",
       "    <tr>\n",
       "      <th>no</th>\n",
       "      <td>55</td>\n",
       "    </tr>\n",
       "  </tbody>\n",
       "</table>\n",
       "</div>"
      ],
      "text/plain": [
       "     internet\n",
       "yes       303\n",
       "no         55"
      ]
     },
     "execution_count": 52,
     "metadata": {},
     "output_type": "execute_result"
    }
   ],
   "source": [
    "pd.DataFrame(unicef.internet.value_counts())"
   ]
  },
  {
   "cell_type": "markdown",
   "metadata": {},
   "source": [
    "Удивительно, но у 55 человек (это более 10% выборки) нет интернета"
   ]
  },
  {
   "cell_type": "code",
   "execution_count": 53,
   "metadata": {},
   "outputs": [],
   "source": [
    "unicef.internet = unicef.internet.apply(numerizer)"
   ]
  },
  {
   "cell_type": "markdown",
   "metadata": {},
   "source": [
    "# Столбец romantic "
   ]
  },
  {
   "cell_type": "code",
   "execution_count": 54,
   "metadata": {},
   "outputs": [
    {
     "data": {
      "text/html": [
       "<div>\n",
       "<style scoped>\n",
       "    .dataframe tbody tr th:only-of-type {\n",
       "        vertical-align: middle;\n",
       "    }\n",
       "\n",
       "    .dataframe tbody tr th {\n",
       "        vertical-align: top;\n",
       "    }\n",
       "\n",
       "    .dataframe thead th {\n",
       "        text-align: right;\n",
       "    }\n",
       "</style>\n",
       "<table border=\"1\" class=\"dataframe\">\n",
       "  <thead>\n",
       "    <tr style=\"text-align: right;\">\n",
       "      <th></th>\n",
       "      <th>romantic</th>\n",
       "    </tr>\n",
       "  </thead>\n",
       "  <tbody>\n",
       "    <tr>\n",
       "      <th>no</th>\n",
       "      <td>238</td>\n",
       "    </tr>\n",
       "    <tr>\n",
       "      <th>yes</th>\n",
       "      <td>123</td>\n",
       "    </tr>\n",
       "  </tbody>\n",
       "</table>\n",
       "</div>"
      ],
      "text/plain": [
       "     romantic\n",
       "no        238\n",
       "yes       123"
      ]
     },
     "execution_count": 54,
     "metadata": {},
     "output_type": "execute_result"
    }
   ],
   "source": [
    "pd.DataFrame(unicef.romantic.value_counts())"
   ]
  },
  {
   "cell_type": "markdown",
   "metadata": {},
   "source": [
    "У подавляющего большинства нет отношений. Извините, стало интересно, отвлекусь."
   ]
  },
  {
   "cell_type": "code",
   "execution_count": 55,
   "metadata": {},
   "outputs": [],
   "source": [
    "def get_boxplot_love(column):\n",
    "    fig, ax = plt.subplots(figsize=(14, 4))\n",
    "    sns.boxplot(x=column, y='age',\n",
    "                data=unicef,\n",
    "                ax=ax)\n",
    "    plt.xticks(rotation=45)\n",
    "    ax.set_title('Boxplot for ' + column)\n",
    "    plt.show()"
   ]
  },
  {
   "cell_type": "code",
   "execution_count": 56,
   "metadata": {},
   "outputs": [
    {
     "data": {
      "image/png": "[encoded data removed]",
      "text/plain": [
       "<Figure size 1008x288 with 1 Axes>"
      ]
     },
     "metadata": {
      "needs_background": "light"
     },
     "output_type": "display_data"
    }
   ],
   "source": [
    "for col in ['romantic']:\n",
    "    get_boxplot_love(col)"
   ]
  },
  {
   "cell_type": "markdown",
   "metadata": {},
   "source": [
    "Ну да, так и есть. Среди ребят \"в отношениях\" больше тех, кто постарше. А кого нет пары в 19 или 20 - выброс )"
   ]
  },
  {
   "cell_type": "markdown",
   "metadata": {},
   "source": [
    "Но лишних значений тут нет, преобразую все в нули и единицы."
   ]
  },
  {
   "cell_type": "code",
   "execution_count": 57,
   "metadata": {},
   "outputs": [],
   "source": [
    "unicef.romantic = unicef.romantic.apply(numerizer)"
   ]
  },
  {
   "cell_type": "markdown",
   "metadata": {},
   "source": [
    "# Столбец famrel "
   ]
  },
  {
   "cell_type": "code",
   "execution_count": 58,
   "metadata": {},
   "outputs": [
    {
     "data": {
      "text/html": [
       "<div>\n",
       "<style scoped>\n",
       "    .dataframe tbody tr th:only-of-type {\n",
       "        vertical-align: middle;\n",
       "    }\n",
       "\n",
       "    .dataframe tbody tr th {\n",
       "        vertical-align: top;\n",
       "    }\n",
       "\n",
       "    .dataframe thead th {\n",
       "        text-align: right;\n",
       "    }\n",
       "</style>\n",
       "<table border=\"1\" class=\"dataframe\">\n",
       "  <thead>\n",
       "    <tr style=\"text-align: right;\">\n",
       "      <th></th>\n",
       "      <th>famrel</th>\n",
       "    </tr>\n",
       "  </thead>\n",
       "  <tbody>\n",
       "    <tr>\n",
       "      <th>4.0</th>\n",
       "      <td>182</td>\n",
       "    </tr>\n",
       "    <tr>\n",
       "      <th>5.0</th>\n",
       "      <td>96</td>\n",
       "    </tr>\n",
       "    <tr>\n",
       "      <th>3.0</th>\n",
       "      <td>62</td>\n",
       "    </tr>\n",
       "    <tr>\n",
       "      <th>2.0</th>\n",
       "      <td>17</td>\n",
       "    </tr>\n",
       "    <tr>\n",
       "      <th>1.0</th>\n",
       "      <td>7</td>\n",
       "    </tr>\n",
       "    <tr>\n",
       "      <th>-1.0</th>\n",
       "      <td>1</td>\n",
       "    </tr>\n",
       "  </tbody>\n",
       "</table>\n",
       "</div>"
      ],
      "text/plain": [
       "      famrel\n",
       " 4.0     182\n",
       " 5.0      96\n",
       " 3.0      62\n",
       " 2.0      17\n",
       " 1.0       7\n",
       "-1.0       1"
      ]
     },
     "execution_count": 58,
     "metadata": {},
     "output_type": "execute_result"
    }
   ],
   "source": [
    "pd.DataFrame(unicef.famrel.value_counts())"
   ]
  },
  {
   "cell_type": "markdown",
   "metadata": {},
   "source": [
    "Видим очевидный выброс: значение -1 не предусмотрено шкалой. Выкидываем именно его.\n",
    "Ну конечно же, можно было бы заменить на NaN. Но проще выкинуть."
   ]
  },
  {
   "cell_type": "code",
   "execution_count": 59,
   "metadata": {},
   "outputs": [],
   "source": [
    "unicef = unicef.loc[unicef.famrel != -1.0]"
   ]
  },
  {
   "cell_type": "code",
   "execution_count": 60,
   "metadata": {},
   "outputs": [
    {
     "data": {
      "text/plain": [
       "<matplotlib.axes._subplots.AxesSubplot at 0x29de855d7c8>"
      ]
     },
     "execution_count": 60,
     "metadata": {},
     "output_type": "execute_result"
    },
    {
     "data": {
      "image/png": "[encoded data removed]",
      "text/plain": [
       "<Figure size 432x288 with 1 Axes>"
      ]
     },
     "metadata": {
      "needs_background": "light"
     },
     "output_type": "display_data"
    }
   ],
   "source": [
    "unicef.famrel.hist()"
   ]
  },
  {
   "cell_type": "markdown",
   "metadata": {},
   "source": [
    "Имеет вид нормального распределения"
   ]
  },
  {
   "cell_type": "markdown",
   "metadata": {},
   "source": [
    "# Столбец freetime "
   ]
  },
  {
   "cell_type": "code",
   "execution_count": 61,
   "metadata": {},
   "outputs": [
    {
     "data": {
      "text/html": [
       "<div>\n",
       "<style scoped>\n",
       "    .dataframe tbody tr th:only-of-type {\n",
       "        vertical-align: middle;\n",
       "    }\n",
       "\n",
       "    .dataframe tbody tr th {\n",
       "        vertical-align: top;\n",
       "    }\n",
       "\n",
       "    .dataframe thead th {\n",
       "        text-align: right;\n",
       "    }\n",
       "</style>\n",
       "<table border=\"1\" class=\"dataframe\">\n",
       "  <thead>\n",
       "    <tr style=\"text-align: right;\">\n",
       "      <th></th>\n",
       "      <th>freetime</th>\n",
       "    </tr>\n",
       "  </thead>\n",
       "  <tbody>\n",
       "    <tr>\n",
       "      <th>3.0</th>\n",
       "      <td>153</td>\n",
       "    </tr>\n",
       "    <tr>\n",
       "      <th>4.0</th>\n",
       "      <td>111</td>\n",
       "    </tr>\n",
       "    <tr>\n",
       "      <th>2.0</th>\n",
       "      <td>61</td>\n",
       "    </tr>\n",
       "    <tr>\n",
       "      <th>5.0</th>\n",
       "      <td>37</td>\n",
       "    </tr>\n",
       "    <tr>\n",
       "      <th>1.0</th>\n",
       "      <td>18</td>\n",
       "    </tr>\n",
       "  </tbody>\n",
       "</table>\n",
       "</div>"
      ],
      "text/plain": [
       "     freetime\n",
       "3.0       153\n",
       "4.0       111\n",
       "2.0        61\n",
       "5.0        37\n",
       "1.0        18"
      ]
     },
     "execution_count": 61,
     "metadata": {},
     "output_type": "execute_result"
    }
   ],
   "source": [
    "pd.DataFrame(unicef.freetime.value_counts())"
   ]
  },
  {
   "cell_type": "code",
   "execution_count": 62,
   "metadata": {},
   "outputs": [
    {
     "data": {
      "text/plain": [
       "<matplotlib.axes._subplots.AxesSubplot at 0x29de85a3d48>"
      ]
     },
     "execution_count": 62,
     "metadata": {},
     "output_type": "execute_result"
    },
    {
     "data": {
      "image/png": "[encoded data removed]",
      "text/plain": [
       "<Figure size 432x288 with 1 Axes>"
      ]
     },
     "metadata": {
      "needs_background": "light"
     },
     "output_type": "display_data"
    }
   ],
   "source": [
    "unicef.freetime.hist()"
   ]
  },
  {
   "cell_type": "markdown",
   "metadata": {},
   "source": [
    "Наконец, красивое классическое нормальное распределение. Никаких аномальных значений."
   ]
  },
  {
   "cell_type": "markdown",
   "metadata": {},
   "source": [
    "# Столбец goout "
   ]
  },
  {
   "cell_type": "code",
   "execution_count": 63,
   "metadata": {},
   "outputs": [
    {
     "data": {
      "text/html": [
       "<div>\n",
       "<style scoped>\n",
       "    .dataframe tbody tr th:only-of-type {\n",
       "        vertical-align: middle;\n",
       "    }\n",
       "\n",
       "    .dataframe tbody tr th {\n",
       "        vertical-align: top;\n",
       "    }\n",
       "\n",
       "    .dataframe thead th {\n",
       "        text-align: right;\n",
       "    }\n",
       "</style>\n",
       "<table border=\"1\" class=\"dataframe\">\n",
       "  <thead>\n",
       "    <tr style=\"text-align: right;\">\n",
       "      <th></th>\n",
       "      <th>goout</th>\n",
       "    </tr>\n",
       "  </thead>\n",
       "  <tbody>\n",
       "    <tr>\n",
       "      <th>3.0</th>\n",
       "      <td>126</td>\n",
       "    </tr>\n",
       "    <tr>\n",
       "      <th>2.0</th>\n",
       "      <td>99</td>\n",
       "    </tr>\n",
       "    <tr>\n",
       "      <th>4.0</th>\n",
       "      <td>84</td>\n",
       "    </tr>\n",
       "    <tr>\n",
       "      <th>5.0</th>\n",
       "      <td>51</td>\n",
       "    </tr>\n",
       "    <tr>\n",
       "      <th>1.0</th>\n",
       "      <td>23</td>\n",
       "    </tr>\n",
       "  </tbody>\n",
       "</table>\n",
       "</div>"
      ],
      "text/plain": [
       "     goout\n",
       "3.0    126\n",
       "2.0     99\n",
       "4.0     84\n",
       "5.0     51\n",
       "1.0     23"
      ]
     },
     "execution_count": 63,
     "metadata": {},
     "output_type": "execute_result"
    }
   ],
   "source": [
    "pd.DataFrame(unicef.goout.value_counts())"
   ]
  },
  {
   "cell_type": "code",
   "execution_count": 64,
   "metadata": {},
   "outputs": [
    {
     "data": {
      "text/plain": [
       "<matplotlib.axes._subplots.AxesSubplot at 0x29de8627a08>"
      ]
     },
     "execution_count": 64,
     "metadata": {},
     "output_type": "execute_result"
    },
    {
     "data": {
      "image/png": "[encoded data removed]",
      "text/plain": [
       "<Figure size 432x288 with 1 Axes>"
      ]
     },
     "metadata": {
      "needs_background": "light"
     },
     "output_type": "display_data"
    }
   ],
   "source": [
    "unicef.goout.hist()"
   ]
  },
  {
   "cell_type": "markdown",
   "metadata": {},
   "source": [
    "Та же история: прогулки с друзьями имеют нормальное распределение"
   ]
  },
  {
   "cell_type": "markdown",
   "metadata": {},
   "source": [
    "# Столбец health "
   ]
  },
  {
   "cell_type": "code",
   "execution_count": 65,
   "metadata": {},
   "outputs": [
    {
     "data": {
      "text/html": [
       "<div>\n",
       "<style scoped>\n",
       "    .dataframe tbody tr th:only-of-type {\n",
       "        vertical-align: middle;\n",
       "    }\n",
       "\n",
       "    .dataframe tbody tr th {\n",
       "        vertical-align: top;\n",
       "    }\n",
       "\n",
       "    .dataframe thead th {\n",
       "        text-align: right;\n",
       "    }\n",
       "</style>\n",
       "<table border=\"1\" class=\"dataframe\">\n",
       "  <thead>\n",
       "    <tr style=\"text-align: right;\">\n",
       "      <th></th>\n",
       "      <th>health</th>\n",
       "    </tr>\n",
       "  </thead>\n",
       "  <tbody>\n",
       "    <tr>\n",
       "      <th>5.0</th>\n",
       "      <td>137</td>\n",
       "    </tr>\n",
       "    <tr>\n",
       "      <th>3.0</th>\n",
       "      <td>88</td>\n",
       "    </tr>\n",
       "    <tr>\n",
       "      <th>4.0</th>\n",
       "      <td>62</td>\n",
       "    </tr>\n",
       "    <tr>\n",
       "      <th>1.0</th>\n",
       "      <td>46</td>\n",
       "    </tr>\n",
       "    <tr>\n",
       "      <th>2.0</th>\n",
       "      <td>43</td>\n",
       "    </tr>\n",
       "  </tbody>\n",
       "</table>\n",
       "</div>"
      ],
      "text/plain": [
       "     health\n",
       "5.0     137\n",
       "3.0      88\n",
       "4.0      62\n",
       "1.0      46\n",
       "2.0      43"
      ]
     },
     "execution_count": 65,
     "metadata": {},
     "output_type": "execute_result"
    }
   ],
   "source": [
    "pd.DataFrame(unicef.health.value_counts())"
   ]
  },
  {
   "cell_type": "code",
   "execution_count": 66,
   "metadata": {},
   "outputs": [
    {
     "data": {
      "text/plain": [
       "<matplotlib.axes._subplots.AxesSubplot at 0x29de874cc08>"
      ]
     },
     "execution_count": 66,
     "metadata": {},
     "output_type": "execute_result"
    },
    {
     "data": {
      "image/png": "[encoded data removed]",
      "text/plain": [
       "<Figure size 432x288 with 1 Axes>"
      ]
     },
     "metadata": {
      "needs_background": "light"
     },
     "output_type": "display_data"
    }
   ],
   "source": [
    "unicef.health.hist()"
   ]
  },
  {
   "cell_type": "markdown",
   "metadata": {},
   "source": [
    "Очевидно, ребята любят прихвастнуть"
   ]
  },
  {
   "cell_type": "markdown",
   "metadata": {},
   "source": [
    "# Столбец absences "
   ]
  },
  {
   "cell_type": "code",
   "execution_count": 67,
   "metadata": {},
   "outputs": [
    {
     "data": {
      "text/html": [
       "<div>\n",
       "<style scoped>\n",
       "    .dataframe tbody tr th:only-of-type {\n",
       "        vertical-align: middle;\n",
       "    }\n",
       "\n",
       "    .dataframe tbody tr th {\n",
       "        vertical-align: top;\n",
       "    }\n",
       "\n",
       "    .dataframe thead th {\n",
       "        text-align: right;\n",
       "    }\n",
       "</style>\n",
       "<table border=\"1\" class=\"dataframe\">\n",
       "  <thead>\n",
       "    <tr style=\"text-align: right;\">\n",
       "      <th></th>\n",
       "      <th>absences</th>\n",
       "    </tr>\n",
       "  </thead>\n",
       "  <tbody>\n",
       "    <tr>\n",
       "      <th>0.0</th>\n",
       "      <td>111</td>\n",
       "    </tr>\n",
       "    <tr>\n",
       "      <th>2.0</th>\n",
       "      <td>60</td>\n",
       "    </tr>\n",
       "    <tr>\n",
       "      <th>4.0</th>\n",
       "      <td>52</td>\n",
       "    </tr>\n",
       "    <tr>\n",
       "      <th>6.0</th>\n",
       "      <td>31</td>\n",
       "    </tr>\n",
       "    <tr>\n",
       "      <th>8.0</th>\n",
       "      <td>21</td>\n",
       "    </tr>\n",
       "    <tr>\n",
       "      <th>10.0</th>\n",
       "      <td>17</td>\n",
       "    </tr>\n",
       "    <tr>\n",
       "      <th>12.0</th>\n",
       "      <td>12</td>\n",
       "    </tr>\n",
       "    <tr>\n",
       "      <th>14.0</th>\n",
       "      <td>11</td>\n",
       "    </tr>\n",
       "    <tr>\n",
       "      <th>3.0</th>\n",
       "      <td>7</td>\n",
       "    </tr>\n",
       "    <tr>\n",
       "      <th>16.0</th>\n",
       "      <td>6</td>\n",
       "    </tr>\n",
       "    <tr>\n",
       "      <th>7.0</th>\n",
       "      <td>6</td>\n",
       "    </tr>\n",
       "    <tr>\n",
       "      <th>18.0</th>\n",
       "      <td>5</td>\n",
       "    </tr>\n",
       "    <tr>\n",
       "      <th>5.0</th>\n",
       "      <td>5</td>\n",
       "    </tr>\n",
       "    <tr>\n",
       "      <th>20.0</th>\n",
       "      <td>4</td>\n",
       "    </tr>\n",
       "    <tr>\n",
       "      <th>22.0</th>\n",
       "      <td>3</td>\n",
       "    </tr>\n",
       "    <tr>\n",
       "      <th>9.0</th>\n",
       "      <td>3</td>\n",
       "    </tr>\n",
       "    <tr>\n",
       "      <th>1.0</th>\n",
       "      <td>3</td>\n",
       "    </tr>\n",
       "    <tr>\n",
       "      <th>15.0</th>\n",
       "      <td>2</td>\n",
       "    </tr>\n",
       "    <tr>\n",
       "      <th>13.0</th>\n",
       "      <td>2</td>\n",
       "    </tr>\n",
       "    <tr>\n",
       "      <th>11.0</th>\n",
       "      <td>2</td>\n",
       "    </tr>\n",
       "    <tr>\n",
       "      <th>25.0</th>\n",
       "      <td>1</td>\n",
       "    </tr>\n",
       "    <tr>\n",
       "      <th>54.0</th>\n",
       "      <td>1</td>\n",
       "    </tr>\n",
       "    <tr>\n",
       "      <th>385.0</th>\n",
       "      <td>1</td>\n",
       "    </tr>\n",
       "    <tr>\n",
       "      <th>26.0</th>\n",
       "      <td>1</td>\n",
       "    </tr>\n",
       "    <tr>\n",
       "      <th>56.0</th>\n",
       "      <td>1</td>\n",
       "    </tr>\n",
       "    <tr>\n",
       "      <th>24.0</th>\n",
       "      <td>1</td>\n",
       "    </tr>\n",
       "    <tr>\n",
       "      <th>212.0</th>\n",
       "      <td>1</td>\n",
       "    </tr>\n",
       "    <tr>\n",
       "      <th>21.0</th>\n",
       "      <td>1</td>\n",
       "    </tr>\n",
       "    <tr>\n",
       "      <th>75.0</th>\n",
       "      <td>1</td>\n",
       "    </tr>\n",
       "    <tr>\n",
       "      <th>30.0</th>\n",
       "      <td>1</td>\n",
       "    </tr>\n",
       "    <tr>\n",
       "      <th>19.0</th>\n",
       "      <td>1</td>\n",
       "    </tr>\n",
       "    <tr>\n",
       "      <th>38.0</th>\n",
       "      <td>1</td>\n",
       "    </tr>\n",
       "    <tr>\n",
       "      <th>40.0</th>\n",
       "      <td>1</td>\n",
       "    </tr>\n",
       "    <tr>\n",
       "      <th>23.0</th>\n",
       "      <td>1</td>\n",
       "    </tr>\n",
       "    <tr>\n",
       "      <th>17.0</th>\n",
       "      <td>1</td>\n",
       "    </tr>\n",
       "    <tr>\n",
       "      <th>28.0</th>\n",
       "      <td>1</td>\n",
       "    </tr>\n",
       "  </tbody>\n",
       "</table>\n",
       "</div>"
      ],
      "text/plain": [
       "       absences\n",
       "0.0         111\n",
       "2.0          60\n",
       "4.0          52\n",
       "6.0          31\n",
       "8.0          21\n",
       "10.0         17\n",
       "12.0         12\n",
       "14.0         11\n",
       "3.0           7\n",
       "16.0          6\n",
       "7.0           6\n",
       "18.0          5\n",
       "5.0           5\n",
       "20.0          4\n",
       "22.0          3\n",
       "9.0           3\n",
       "1.0           3\n",
       "15.0          2\n",
       "13.0          2\n",
       "11.0          2\n",
       "25.0          1\n",
       "54.0          1\n",
       "385.0         1\n",
       "26.0          1\n",
       "56.0          1\n",
       "24.0          1\n",
       "212.0         1\n",
       "21.0          1\n",
       "75.0          1\n",
       "30.0          1\n",
       "19.0          1\n",
       "38.0          1\n",
       "40.0          1\n",
       "23.0          1\n",
       "17.0          1\n",
       "28.0          1"
      ]
     },
     "execution_count": 67,
     "metadata": {},
     "output_type": "execute_result"
    }
   ],
   "source": [
    "pd.DataFrame(unicef.absences.value_counts())"
   ]
  },
  {
   "cell_type": "code",
   "execution_count": 68,
   "metadata": {},
   "outputs": [
    {
     "data": {
      "text/plain": [
       "<matplotlib.axes._subplots.AxesSubplot at 0x29de8774708>"
      ]
     },
     "execution_count": 68,
     "metadata": {},
     "output_type": "execute_result"
    },
    {
     "data": {
      "image/png": "[encoded data removed]",
      "text/plain": [
       "<Figure size 432x288 with 1 Axes>"
      ]
     },
     "metadata": {
      "needs_background": "light"
     },
     "output_type": "display_data"
    }
   ],
   "source": [
    "unicef.absences.hist()"
   ]
  },
  {
   "cell_type": "markdown",
   "metadata": {},
   "source": [
    "Именно этот столбец содержит наиболее серьезные выбросы. Рассчитаем референтные значения"
   ]
  },
  {
   "cell_type": "code",
   "execution_count": 69,
   "metadata": {},
   "outputs": [
    {
     "name": "stdout",
     "output_type": "stream",
     "text": [
      "25-й перцентиль: 0.0, 75-й перцентиль: 8.0, IQR: 8.0,  Границы выбросов: [-12.0, 20.0].\n"
     ]
    },
    {
     "data": {
      "text/plain": [
       "<matplotlib.axes._subplots.AxesSubplot at 0x29de98374c8>"
      ]
     },
     "execution_count": 69,
     "metadata": {},
     "output_type": "execute_result"
    },
    {
     "data": {
      "image/png": "[encoded data removed]",
      "text/plain": [
       "<Figure size 432x288 with 1 Axes>"
      ]
     },
     "metadata": {
      "needs_background": "light"
     },
     "output_type": "display_data"
    }
   ],
   "source": [
    "median = unicef.absences.median()\n",
    "IQR = unicef.absences.quantile(0.75) - unicef.absences.quantile(0.25)\n",
    "perc25 = unicef.absences.quantile(0.25)\n",
    "perc75 = unicef.absences.quantile(0.75)\n",
    "print('25-й перцентиль: {},'.format(perc25), '75-й перцентиль: {},'.format(perc75),\n",
    "      \"IQR: {}, \".format(IQR), \"Границы выбросов: [{f}, {l}].\".format(f=perc25 - 1.5*IQR, l=perc75 + 1.5*IQR))\n",
    "unicef.absences.loc[unicef.absences.between(\n",
    "    perc25 - 1.5*IQR, perc75 + 1.5*IQR)].hist()"
   ]
  },
  {
   "cell_type": "markdown",
   "metadata": {},
   "source": [
    "Итак, из-за того что почти треть школьников не пропускала занятия вообще, граница 25-го персентиля остается на уровне нуля, а 75-го персентиля - лишь на уровне 8. Очевидно, что распределение не имеет вид нормального, и - вот здесь поправьте меня - я не знаю, применима ли вообще эта логика.\n",
    "\n",
    "Но другой у меня нет, поэтому выкидываем все, что выше 20 пропущенных занятий (это 17 значений от 21 до 385, большинство из которых встречается по 1 разу)"
   ]
  },
  {
   "cell_type": "code",
   "execution_count": 70,
   "metadata": {},
   "outputs": [],
   "source": [
    "unicef = unicef.loc[unicef.absences <= 20]"
   ]
  },
  {
   "cell_type": "code",
   "execution_count": 71,
   "metadata": {},
   "outputs": [
    {
     "name": "stdout",
     "output_type": "stream",
     "text": [
      "<class 'pandas.core.frame.DataFrame'>\n",
      "Int64Index: 362 entries, 0 to 394\n",
      "Data columns (total 27 columns):\n",
      " #   Column      Non-Null Count  Dtype  \n",
      "---  ------      --------------  -----  \n",
      " 0   school      362 non-null    object \n",
      " 1   sex         362 non-null    int64  \n",
      " 2   age         362 non-null    int64  \n",
      " 3   address     347 non-null    object \n",
      " 4   famsize     340 non-null    object \n",
      " 5   Pstatus     326 non-null    object \n",
      " 6   Medu        359 non-null    float64\n",
      " 7   Fedu        339 non-null    float64\n",
      " 8   Mjob        346 non-null    object \n",
      " 9   reason      345 non-null    object \n",
      " 10  traveltime  334 non-null    float64\n",
      " 11  studytime   357 non-null    float64\n",
      " 12  failures    343 non-null    float64\n",
      " 13  schoolsup   362 non-null    float64\n",
      " 14  famsup      362 non-null    float64\n",
      " 15  paid        362 non-null    float64\n",
      " 16  activities  362 non-null    float64\n",
      " 17  nursery     362 non-null    float64\n",
      " 18  higher      362 non-null    float64\n",
      " 19  internet    362 non-null    float64\n",
      " 20  romantic    362 non-null    float64\n",
      " 21  famrel      336 non-null    float64\n",
      " 22  freetime    353 non-null    float64\n",
      " 23  goout       354 non-null    float64\n",
      " 24  health      347 non-null    float64\n",
      " 25  absences    362 non-null    float64\n",
      " 26  score       357 non-null    float64\n",
      "dtypes: float64(19), int64(2), object(6)\n",
      "memory usage: 79.2+ KB\n"
     ]
    }
   ],
   "source": [
    "unicef.info()"
   ]
  },
  {
   "cell_type": "markdown",
   "metadata": {},
   "source": [
    "# Столбец score "
   ]
  },
  {
   "cell_type": "markdown",
   "metadata": {},
   "source": [
    "Это самый важный столбец, результирующий. Именно влияние на него мы оцениваем.\n",
    "В нем, как мы видим из последнего запроса, не 362, а 357 ненулевых значений. \n",
    "Нулевые нам нужно удалить."
   ]
  },
  {
   "cell_type": "code",
   "execution_count": 72,
   "metadata": {},
   "outputs": [
    {
     "data": {
      "text/html": [
       "<div>\n",
       "<style scoped>\n",
       "    .dataframe tbody tr th:only-of-type {\n",
       "        vertical-align: middle;\n",
       "    }\n",
       "\n",
       "    .dataframe tbody tr th {\n",
       "        vertical-align: top;\n",
       "    }\n",
       "\n",
       "    .dataframe thead th {\n",
       "        text-align: right;\n",
       "    }\n",
       "</style>\n",
       "<table border=\"1\" class=\"dataframe\">\n",
       "  <thead>\n",
       "    <tr style=\"text-align: right;\">\n",
       "      <th></th>\n",
       "      <th>score</th>\n",
       "    </tr>\n",
       "  </thead>\n",
       "  <tbody>\n",
       "    <tr>\n",
       "      <th>50.0</th>\n",
       "      <td>53</td>\n",
       "    </tr>\n",
       "    <tr>\n",
       "      <th>55.0</th>\n",
       "      <td>42</td>\n",
       "    </tr>\n",
       "    <tr>\n",
       "      <th>0.0</th>\n",
       "      <td>36</td>\n",
       "    </tr>\n",
       "    <tr>\n",
       "      <th>75.0</th>\n",
       "      <td>31</td>\n",
       "    </tr>\n",
       "    <tr>\n",
       "      <th>65.0</th>\n",
       "      <td>30</td>\n",
       "    </tr>\n",
       "    <tr>\n",
       "      <th>60.0</th>\n",
       "      <td>28</td>\n",
       "    </tr>\n",
       "    <tr>\n",
       "      <th>70.0</th>\n",
       "      <td>27</td>\n",
       "    </tr>\n",
       "    <tr>\n",
       "      <th>40.0</th>\n",
       "      <td>24</td>\n",
       "    </tr>\n",
       "    <tr>\n",
       "      <th>45.0</th>\n",
       "      <td>23</td>\n",
       "    </tr>\n",
       "    <tr>\n",
       "      <th>80.0</th>\n",
       "      <td>16</td>\n",
       "    </tr>\n",
       "    <tr>\n",
       "      <th>30.0</th>\n",
       "      <td>14</td>\n",
       "    </tr>\n",
       "    <tr>\n",
       "      <th>90.0</th>\n",
       "      <td>9</td>\n",
       "    </tr>\n",
       "    <tr>\n",
       "      <th>35.0</th>\n",
       "      <td>8</td>\n",
       "    </tr>\n",
       "    <tr>\n",
       "      <th>25.0</th>\n",
       "      <td>7</td>\n",
       "    </tr>\n",
       "    <tr>\n",
       "      <th>95.0</th>\n",
       "      <td>5</td>\n",
       "    </tr>\n",
       "    <tr>\n",
       "      <th>85.0</th>\n",
       "      <td>3</td>\n",
       "    </tr>\n",
       "    <tr>\n",
       "      <th>100.0</th>\n",
       "      <td>1</td>\n",
       "    </tr>\n",
       "  </tbody>\n",
       "</table>\n",
       "</div>"
      ],
      "text/plain": [
       "       score\n",
       "50.0      53\n",
       "55.0      42\n",
       "0.0       36\n",
       "75.0      31\n",
       "65.0      30\n",
       "60.0      28\n",
       "70.0      27\n",
       "40.0      24\n",
       "45.0      23\n",
       "80.0      16\n",
       "30.0      14\n",
       "90.0       9\n",
       "35.0       8\n",
       "25.0       7\n",
       "95.0       5\n",
       "85.0       3\n",
       "100.0      1"
      ]
     },
     "execution_count": 72,
     "metadata": {},
     "output_type": "execute_result"
    }
   ],
   "source": [
    "pd.DataFrame(unicef.score.value_counts())"
   ]
  },
  {
   "cell_type": "code",
   "execution_count": 73,
   "metadata": {},
   "outputs": [],
   "source": [
    "unicef = unicef.loc[unicef.score <= 100.0]"
   ]
  },
  {
   "cell_type": "markdown",
   "metadata": {},
   "source": [
    "Так мы избавились от нулевых значений (но не от значения score = 0.0). Проверим:"
   ]
  },
  {
   "cell_type": "code",
   "execution_count": 74,
   "metadata": {},
   "outputs": [
    {
     "name": "stdout",
     "output_type": "stream",
     "text": [
      "<class 'pandas.core.frame.DataFrame'>\n",
      "Int64Index: 357 entries, 0 to 394\n",
      "Data columns (total 27 columns):\n",
      " #   Column      Non-Null Count  Dtype  \n",
      "---  ------      --------------  -----  \n",
      " 0   school      357 non-null    object \n",
      " 1   sex         357 non-null    int64  \n",
      " 2   age         357 non-null    int64  \n",
      " 3   address     343 non-null    object \n",
      " 4   famsize     335 non-null    object \n",
      " 5   Pstatus     321 non-null    object \n",
      " 6   Medu        354 non-null    float64\n",
      " 7   Fedu        334 non-null    float64\n",
      " 8   Mjob        341 non-null    object \n",
      " 9   reason      340 non-null    object \n",
      " 10  traveltime  329 non-null    float64\n",
      " 11  studytime   352 non-null    float64\n",
      " 12  failures    338 non-null    float64\n",
      " 13  schoolsup   357 non-null    float64\n",
      " 14  famsup      357 non-null    float64\n",
      " 15  paid        357 non-null    float64\n",
      " 16  activities  357 non-null    float64\n",
      " 17  nursery     357 non-null    float64\n",
      " 18  higher      357 non-null    float64\n",
      " 19  internet    357 non-null    float64\n",
      " 20  romantic    357 non-null    float64\n",
      " 21  famrel      331 non-null    float64\n",
      " 22  freetime    350 non-null    float64\n",
      " 23  goout       350 non-null    float64\n",
      " 24  health      342 non-null    float64\n",
      " 25  absences    357 non-null    float64\n",
      " 26  score       357 non-null    float64\n",
      "dtypes: float64(19), int64(2), object(6)\n",
      "memory usage: 78.1+ KB\n"
     ]
    }
   ],
   "source": [
    "unicef.info()"
   ]
  },
  {
   "cell_type": "markdown",
   "metadata": {},
   "source": [
    "Да, осталось 357 значений всего, и 357 значений с оценками. Приступаем к анализу"
   ]
  },
  {
   "cell_type": "markdown",
   "metadata": {},
   "source": [
    "Построим детальную гистограмму. Мы видим, что количество баллов кратно 5, а оценки могут включать оба крайних значения: \"0\" и \"100\". Таким образом, у нас есть 21 возможная оценка. Исходя из этого строим гистограмму распределения по выборке."
   ]
  },
  {
   "cell_type": "code",
   "execution_count": 75,
   "metadata": {},
   "outputs": [
    {
     "data": {
      "text/plain": [
       "Text(0.5, 0, 'Балл по математике')"
      ]
     },
     "execution_count": 75,
     "metadata": {},
     "output_type": "execute_result"
    },
    {
     "data": {
      "image/png": "[encoded data removed]",
      "text/plain": [
       "<Figure size 432x288 with 1 Axes>"
      ]
     },
     "metadata": {
      "needs_background": "light"
     },
     "output_type": "display_data"
    }
   ],
   "source": [
    "fig = plt.figure()\n",
    "axes = fig.add_axes([0, 0, 1, 1])\n",
    "axes.hist(unicef['score'], bins=21, color='green')\n",
    "axes.set_title('Распределение по оценке')\n",
    "axes.set_ylabel('Количество учащихся')\n",
    "axes.set_xlabel('Балл по математике')"
   ]
  },
  {
   "cell_type": "markdown",
   "metadata": {},
   "source": [
    "Гистограмма наглядно показывает разрыв между значениями \"0 баллов\" и \"25 баллов\". Вполне вероятно, это означает, что балл ниже 25 является непроходным и \"обнуляет\" результат. Либо может быть следствием психологических особенностей обучающихся, которые бросают тест, если понимают, что не решают и четверти задач.\n",
    "\n",
    "В любом случае, мы не можем считать позицию \"0\" выбросом, так как исследуем именно риски неуспеваемости. Более того, любопытно было бы поработать именно с выборкой студентов, получивших 0 баллов - однако так как в ней лишь 36 наблюдений, вряд ли это поможет нам выбрать параметры для построения модели."
   ]
  },
  {
   "cell_type": "code",
   "execution_count": 76,
   "metadata": {},
   "outputs": [
    {
     "name": "stdout",
     "output_type": "stream",
     "text": [
      "55.0\n",
      "45.0\n",
      "70.0\n"
     ]
    }
   ],
   "source": [
    "print(unicef.score.median())\n",
    "print(unicef.score.quantile(0.25))\n",
    "print(unicef.score.quantile(0.75))"
   ]
  },
  {
   "cell_type": "markdown",
   "metadata": {},
   "source": [
    "Итак, медианное значение баллов по математике - 55 баллов, квартили находятся на уровне 45 и 70 баллов. Лишь один ученик оказался способным решить все задания и набрать 100 баллов.\n",
    "Иными словами, \"среднестатистический\" ученик решает лишь больше половины заданий - вероятно, математика не является профильным предметом (подтверждается моя догадка о школах с медицинским уклоном). Либо уровень преподавания в школах не соответствует принятой учебной программе."
   ]
  },
  {
   "cell_type": "markdown",
   "metadata": {},
   "source": [
    "# Корреляционный анализ количественных переменных"
   ]
  },
  {
   "cell_type": "code",
   "execution_count": 77,
   "metadata": {},
   "outputs": [
    {
     "data": {
      "text/html": [
       "<div>\n",
       "<style scoped>\n",
       "    .dataframe tbody tr th:only-of-type {\n",
       "        vertical-align: middle;\n",
       "    }\n",
       "\n",
       "    .dataframe tbody tr th {\n",
       "        vertical-align: top;\n",
       "    }\n",
       "\n",
       "    .dataframe thead th {\n",
       "        text-align: right;\n",
       "    }\n",
       "</style>\n",
       "<table border=\"1\" class=\"dataframe\">\n",
       "  <thead>\n",
       "    <tr style=\"text-align: right;\">\n",
       "      <th></th>\n",
       "      <th>sex</th>\n",
       "      <th>age</th>\n",
       "      <th>Medu</th>\n",
       "      <th>Fedu</th>\n",
       "      <th>traveltime</th>\n",
       "      <th>studytime</th>\n",
       "      <th>failures</th>\n",
       "      <th>schoolsup</th>\n",
       "      <th>famsup</th>\n",
       "      <th>paid</th>\n",
       "      <th>activities</th>\n",
       "      <th>nursery</th>\n",
       "      <th>higher</th>\n",
       "      <th>internet</th>\n",
       "      <th>romantic</th>\n",
       "      <th>famrel</th>\n",
       "      <th>freetime</th>\n",
       "      <th>goout</th>\n",
       "      <th>health</th>\n",
       "      <th>absences</th>\n",
       "      <th>score</th>\n",
       "    </tr>\n",
       "  </thead>\n",
       "  <tbody>\n",
       "    <tr>\n",
       "      <th>sex</th>\n",
       "      <td>1.000000</td>\n",
       "      <td>-0.085350</td>\n",
       "      <td>0.090698</td>\n",
       "      <td>0.038696</td>\n",
       "      <td>0.059815</td>\n",
       "      <td>-0.300007</td>\n",
       "      <td>0.006222</td>\n",
       "      <td>-0.108021</td>\n",
       "      <td>-0.126392</td>\n",
       "      <td>-0.107405</td>\n",
       "      <td>0.114001</td>\n",
       "      <td>0.009417</td>\n",
       "      <td>-0.182396</td>\n",
       "      <td>0.046811</td>\n",
       "      <td>-0.122337</td>\n",
       "      <td>0.033704</td>\n",
       "      <td>0.202120</td>\n",
       "      <td>0.056821</td>\n",
       "      <td>0.141509</td>\n",
       "      <td>0.024569</td>\n",
       "      <td>0.118938</td>\n",
       "    </tr>\n",
       "    <tr>\n",
       "      <th>age</th>\n",
       "      <td>-0.085350</td>\n",
       "      <td>1.000000</td>\n",
       "      <td>-0.163420</td>\n",
       "      <td>-0.142476</td>\n",
       "      <td>0.100926</td>\n",
       "      <td>0.031080</td>\n",
       "      <td>0.106941</td>\n",
       "      <td>-0.243108</td>\n",
       "      <td>-0.128847</td>\n",
       "      <td>-0.026349</td>\n",
       "      <td>-0.056198</td>\n",
       "      <td>-0.079076</td>\n",
       "      <td>-0.109582</td>\n",
       "      <td>-0.107805</td>\n",
       "      <td>0.107862</td>\n",
       "      <td>0.028957</td>\n",
       "      <td>0.010185</td>\n",
       "      <td>0.108384</td>\n",
       "      <td>-0.036760</td>\n",
       "      <td>0.141774</td>\n",
       "      <td>-0.152639</td>\n",
       "    </tr>\n",
       "    <tr>\n",
       "      <th>Medu</th>\n",
       "      <td>0.090698</td>\n",
       "      <td>-0.163420</td>\n",
       "      <td>1.000000</td>\n",
       "      <td>0.630992</td>\n",
       "      <td>-0.192122</td>\n",
       "      <td>0.083939</td>\n",
       "      <td>-0.234819</td>\n",
       "      <td>-0.028827</td>\n",
       "      <td>0.182664</td>\n",
       "      <td>0.136725</td>\n",
       "      <td>0.088509</td>\n",
       "      <td>0.160770</td>\n",
       "      <td>0.144156</td>\n",
       "      <td>0.206069</td>\n",
       "      <td>0.002579</td>\n",
       "      <td>-0.012128</td>\n",
       "      <td>0.044842</td>\n",
       "      <td>0.053995</td>\n",
       "      <td>-0.054299</td>\n",
       "      <td>0.068237</td>\n",
       "      <td>0.208224</td>\n",
       "    </tr>\n",
       "    <tr>\n",
       "      <th>Fedu</th>\n",
       "      <td>0.038696</td>\n",
       "      <td>-0.142476</td>\n",
       "      <td>0.630992</td>\n",
       "      <td>1.000000</td>\n",
       "      <td>-0.151626</td>\n",
       "      <td>-0.007002</td>\n",
       "      <td>-0.264568</td>\n",
       "      <td>0.056801</td>\n",
       "      <td>0.188325</td>\n",
       "      <td>0.064881</td>\n",
       "      <td>0.081481</td>\n",
       "      <td>0.110847</td>\n",
       "      <td>0.179475</td>\n",
       "      <td>0.107700</td>\n",
       "      <td>0.013106</td>\n",
       "      <td>-0.020644</td>\n",
       "      <td>0.001678</td>\n",
       "      <td>0.050800</td>\n",
       "      <td>0.010154</td>\n",
       "      <td>-0.013388</td>\n",
       "      <td>0.107148</td>\n",
       "    </tr>\n",
       "    <tr>\n",
       "      <th>traveltime</th>\n",
       "      <td>0.059815</td>\n",
       "      <td>0.100926</td>\n",
       "      <td>-0.192122</td>\n",
       "      <td>-0.151626</td>\n",
       "      <td>1.000000</td>\n",
       "      <td>-0.113631</td>\n",
       "      <td>0.093481</td>\n",
       "      <td>-0.012596</td>\n",
       "      <td>-0.027740</td>\n",
       "      <td>-0.034399</td>\n",
       "      <td>-0.012940</td>\n",
       "      <td>-0.053007</td>\n",
       "      <td>-0.150305</td>\n",
       "      <td>-0.097260</td>\n",
       "      <td>0.028251</td>\n",
       "      <td>-0.048554</td>\n",
       "      <td>-0.001014</td>\n",
       "      <td>0.030959</td>\n",
       "      <td>-0.002727</td>\n",
       "      <td>-0.043553</td>\n",
       "      <td>-0.080700</td>\n",
       "    </tr>\n",
       "    <tr>\n",
       "      <th>studytime</th>\n",
       "      <td>-0.300007</td>\n",
       "      <td>0.031080</td>\n",
       "      <td>0.083939</td>\n",
       "      <td>-0.007002</td>\n",
       "      <td>-0.113631</td>\n",
       "      <td>1.000000</td>\n",
       "      <td>-0.148135</td>\n",
       "      <td>0.004633</td>\n",
       "      <td>0.106436</td>\n",
       "      <td>0.199784</td>\n",
       "      <td>0.095387</td>\n",
       "      <td>0.067351</td>\n",
       "      <td>0.152042</td>\n",
       "      <td>0.092498</td>\n",
       "      <td>0.050486</td>\n",
       "      <td>0.023892</td>\n",
       "      <td>-0.133536</td>\n",
       "      <td>-0.031774</td>\n",
       "      <td>-0.096497</td>\n",
       "      <td>-0.063092</td>\n",
       "      <td>0.106976</td>\n",
       "    </tr>\n",
       "    <tr>\n",
       "      <th>failures</th>\n",
       "      <td>0.006222</td>\n",
       "      <td>0.106941</td>\n",
       "      <td>-0.234819</td>\n",
       "      <td>-0.264568</td>\n",
       "      <td>0.093481</td>\n",
       "      <td>-0.148135</td>\n",
       "      <td>1.000000</td>\n",
       "      <td>0.047594</td>\n",
       "      <td>-0.044154</td>\n",
       "      <td>-0.177478</td>\n",
       "      <td>-0.024445</td>\n",
       "      <td>-0.096988</td>\n",
       "      <td>-0.227152</td>\n",
       "      <td>-0.058472</td>\n",
       "      <td>0.076442</td>\n",
       "      <td>-0.004515</td>\n",
       "      <td>0.071691</td>\n",
       "      <td>0.071293</td>\n",
       "      <td>0.125761</td>\n",
       "      <td>0.045522</td>\n",
       "      <td>-0.329088</td>\n",
       "    </tr>\n",
       "    <tr>\n",
       "      <th>schoolsup</th>\n",
       "      <td>-0.108021</td>\n",
       "      <td>-0.243108</td>\n",
       "      <td>-0.028827</td>\n",
       "      <td>0.056801</td>\n",
       "      <td>-0.012596</td>\n",
       "      <td>0.004633</td>\n",
       "      <td>0.047594</td>\n",
       "      <td>1.000000</td>\n",
       "      <td>0.066898</td>\n",
       "      <td>-0.041667</td>\n",
       "      <td>0.028904</td>\n",
       "      <td>0.039300</td>\n",
       "      <td>0.064621</td>\n",
       "      <td>-0.012083</td>\n",
       "      <td>-0.014152</td>\n",
       "      <td>-0.021286</td>\n",
       "      <td>-0.065230</td>\n",
       "      <td>-0.026752</td>\n",
       "      <td>-0.057728</td>\n",
       "      <td>0.041609</td>\n",
       "      <td>-0.092320</td>\n",
       "    </tr>\n",
       "    <tr>\n",
       "      <th>famsup</th>\n",
       "      <td>-0.126392</td>\n",
       "      <td>-0.128847</td>\n",
       "      <td>0.182664</td>\n",
       "      <td>0.188325</td>\n",
       "      <td>-0.027740</td>\n",
       "      <td>0.106436</td>\n",
       "      <td>-0.044154</td>\n",
       "      <td>0.066898</td>\n",
       "      <td>1.000000</td>\n",
       "      <td>0.273756</td>\n",
       "      <td>-0.034285</td>\n",
       "      <td>0.048069</td>\n",
       "      <td>0.068822</td>\n",
       "      <td>0.131426</td>\n",
       "      <td>0.005033</td>\n",
       "      <td>-0.027538</td>\n",
       "      <td>0.013607</td>\n",
       "      <td>-0.024460</td>\n",
       "      <td>-0.001284</td>\n",
       "      <td>0.047102</td>\n",
       "      <td>-0.028338</td>\n",
       "    </tr>\n",
       "    <tr>\n",
       "      <th>paid</th>\n",
       "      <td>-0.107405</td>\n",
       "      <td>-0.026349</td>\n",
       "      <td>0.136725</td>\n",
       "      <td>0.064881</td>\n",
       "      <td>-0.034399</td>\n",
       "      <td>0.199784</td>\n",
       "      <td>-0.177478</td>\n",
       "      <td>-0.041667</td>\n",
       "      <td>0.273756</td>\n",
       "      <td>1.000000</td>\n",
       "      <td>0.010521</td>\n",
       "      <td>0.085158</td>\n",
       "      <td>0.147145</td>\n",
       "      <td>0.192962</td>\n",
       "      <td>0.062409</td>\n",
       "      <td>0.003384</td>\n",
       "      <td>-0.073222</td>\n",
       "      <td>-0.003272</td>\n",
       "      <td>-0.108215</td>\n",
       "      <td>-0.066005</td>\n",
       "      <td>0.105891</td>\n",
       "    </tr>\n",
       "    <tr>\n",
       "      <th>activities</th>\n",
       "      <td>0.114001</td>\n",
       "      <td>-0.056198</td>\n",
       "      <td>0.088509</td>\n",
       "      <td>0.081481</td>\n",
       "      <td>-0.012940</td>\n",
       "      <td>0.095387</td>\n",
       "      <td>-0.024445</td>\n",
       "      <td>0.028904</td>\n",
       "      <td>-0.034285</td>\n",
       "      <td>0.010521</td>\n",
       "      <td>1.000000</td>\n",
       "      <td>-0.057789</td>\n",
       "      <td>0.061056</td>\n",
       "      <td>0.048344</td>\n",
       "      <td>-0.000628</td>\n",
       "      <td>0.050925</td>\n",
       "      <td>0.075138</td>\n",
       "      <td>0.037860</td>\n",
       "      <td>-0.006071</td>\n",
       "      <td>0.022216</td>\n",
       "      <td>0.002531</td>\n",
       "    </tr>\n",
       "    <tr>\n",
       "      <th>nursery</th>\n",
       "      <td>0.009417</td>\n",
       "      <td>-0.079076</td>\n",
       "      <td>0.160770</td>\n",
       "      <td>0.110847</td>\n",
       "      <td>-0.053007</td>\n",
       "      <td>0.067351</td>\n",
       "      <td>-0.096988</td>\n",
       "      <td>0.039300</td>\n",
       "      <td>0.048069</td>\n",
       "      <td>0.085158</td>\n",
       "      <td>-0.057789</td>\n",
       "      <td>1.000000</td>\n",
       "      <td>0.048691</td>\n",
       "      <td>0.032146</td>\n",
       "      <td>0.034751</td>\n",
       "      <td>-0.043479</td>\n",
       "      <td>-0.041387</td>\n",
       "      <td>-0.028211</td>\n",
       "      <td>-0.051650</td>\n",
       "      <td>0.070298</td>\n",
       "      <td>0.053133</td>\n",
       "    </tr>\n",
       "    <tr>\n",
       "      <th>higher</th>\n",
       "      <td>-0.182396</td>\n",
       "      <td>-0.109582</td>\n",
       "      <td>0.144156</td>\n",
       "      <td>0.179475</td>\n",
       "      <td>-0.150305</td>\n",
       "      <td>0.152042</td>\n",
       "      <td>-0.227152</td>\n",
       "      <td>0.064621</td>\n",
       "      <td>0.068822</td>\n",
       "      <td>0.147145</td>\n",
       "      <td>0.061056</td>\n",
       "      <td>0.048691</td>\n",
       "      <td>1.000000</td>\n",
       "      <td>0.032979</td>\n",
       "      <td>-0.044031</td>\n",
       "      <td>0.013066</td>\n",
       "      <td>-0.093215</td>\n",
       "      <td>-0.023588</td>\n",
       "      <td>-0.014591</td>\n",
       "      <td>0.068894</td>\n",
       "      <td>0.129291</td>\n",
       "    </tr>\n",
       "    <tr>\n",
       "      <th>internet</th>\n",
       "      <td>0.046811</td>\n",
       "      <td>-0.107805</td>\n",
       "      <td>0.206069</td>\n",
       "      <td>0.107700</td>\n",
       "      <td>-0.097260</td>\n",
       "      <td>0.092498</td>\n",
       "      <td>-0.058472</td>\n",
       "      <td>-0.012083</td>\n",
       "      <td>0.131426</td>\n",
       "      <td>0.192962</td>\n",
       "      <td>0.048344</td>\n",
       "      <td>0.032146</td>\n",
       "      <td>0.032979</td>\n",
       "      <td>1.000000</td>\n",
       "      <td>0.088174</td>\n",
       "      <td>0.061717</td>\n",
       "      <td>0.111095</td>\n",
       "      <td>0.100065</td>\n",
       "      <td>-0.069095</td>\n",
       "      <td>0.056492</td>\n",
       "      <td>0.069618</td>\n",
       "    </tr>\n",
       "    <tr>\n",
       "      <th>romantic</th>\n",
       "      <td>-0.122337</td>\n",
       "      <td>0.107862</td>\n",
       "      <td>0.002579</td>\n",
       "      <td>0.013106</td>\n",
       "      <td>0.028251</td>\n",
       "      <td>0.050486</td>\n",
       "      <td>0.076442</td>\n",
       "      <td>-0.014152</td>\n",
       "      <td>0.005033</td>\n",
       "      <td>0.062409</td>\n",
       "      <td>-0.000628</td>\n",
       "      <td>0.034751</td>\n",
       "      <td>-0.044031</td>\n",
       "      <td>0.088174</td>\n",
       "      <td>1.000000</td>\n",
       "      <td>-0.072259</td>\n",
       "      <td>-0.008837</td>\n",
       "      <td>0.024480</td>\n",
       "      <td>0.029633</td>\n",
       "      <td>0.049780</td>\n",
       "      <td>-0.125808</td>\n",
       "    </tr>\n",
       "    <tr>\n",
       "      <th>famrel</th>\n",
       "      <td>0.033704</td>\n",
       "      <td>0.028957</td>\n",
       "      <td>-0.012128</td>\n",
       "      <td>-0.020644</td>\n",
       "      <td>-0.048554</td>\n",
       "      <td>0.023892</td>\n",
       "      <td>-0.004515</td>\n",
       "      <td>-0.021286</td>\n",
       "      <td>-0.027538</td>\n",
       "      <td>0.003384</td>\n",
       "      <td>0.050925</td>\n",
       "      <td>-0.043479</td>\n",
       "      <td>0.013066</td>\n",
       "      <td>0.061717</td>\n",
       "      <td>-0.072259</td>\n",
       "      <td>1.000000</td>\n",
       "      <td>0.162586</td>\n",
       "      <td>0.077602</td>\n",
       "      <td>0.103684</td>\n",
       "      <td>-0.083815</td>\n",
       "      <td>0.061045</td>\n",
       "    </tr>\n",
       "    <tr>\n",
       "      <th>freetime</th>\n",
       "      <td>0.202120</td>\n",
       "      <td>0.010185</td>\n",
       "      <td>0.044842</td>\n",
       "      <td>0.001678</td>\n",
       "      <td>-0.001014</td>\n",
       "      <td>-0.133536</td>\n",
       "      <td>0.071691</td>\n",
       "      <td>-0.065230</td>\n",
       "      <td>0.013607</td>\n",
       "      <td>-0.073222</td>\n",
       "      <td>0.075138</td>\n",
       "      <td>-0.041387</td>\n",
       "      <td>-0.093215</td>\n",
       "      <td>0.111095</td>\n",
       "      <td>-0.008837</td>\n",
       "      <td>0.162586</td>\n",
       "      <td>1.000000</td>\n",
       "      <td>0.281181</td>\n",
       "      <td>0.052981</td>\n",
       "      <td>0.101665</td>\n",
       "      <td>0.039700</td>\n",
       "    </tr>\n",
       "    <tr>\n",
       "      <th>goout</th>\n",
       "      <td>0.056821</td>\n",
       "      <td>0.108384</td>\n",
       "      <td>0.053995</td>\n",
       "      <td>0.050800</td>\n",
       "      <td>0.030959</td>\n",
       "      <td>-0.031774</td>\n",
       "      <td>0.071293</td>\n",
       "      <td>-0.026752</td>\n",
       "      <td>-0.024460</td>\n",
       "      <td>-0.003272</td>\n",
       "      <td>0.037860</td>\n",
       "      <td>-0.028211</td>\n",
       "      <td>-0.023588</td>\n",
       "      <td>0.100065</td>\n",
       "      <td>0.024480</td>\n",
       "      <td>0.077602</td>\n",
       "      <td>0.281181</td>\n",
       "      <td>1.000000</td>\n",
       "      <td>0.018997</td>\n",
       "      <td>0.108793</td>\n",
       "      <td>-0.121385</td>\n",
       "    </tr>\n",
       "    <tr>\n",
       "      <th>health</th>\n",
       "      <td>0.141509</td>\n",
       "      <td>-0.036760</td>\n",
       "      <td>-0.054299</td>\n",
       "      <td>0.010154</td>\n",
       "      <td>-0.002727</td>\n",
       "      <td>-0.096497</td>\n",
       "      <td>0.125761</td>\n",
       "      <td>-0.057728</td>\n",
       "      <td>-0.001284</td>\n",
       "      <td>-0.108215</td>\n",
       "      <td>-0.006071</td>\n",
       "      <td>-0.051650</td>\n",
       "      <td>-0.014591</td>\n",
       "      <td>-0.069095</td>\n",
       "      <td>0.029633</td>\n",
       "      <td>0.103684</td>\n",
       "      <td>0.052981</td>\n",
       "      <td>0.018997</td>\n",
       "      <td>1.000000</td>\n",
       "      <td>-0.007106</td>\n",
       "      <td>-0.060153</td>\n",
       "    </tr>\n",
       "    <tr>\n",
       "      <th>absences</th>\n",
       "      <td>0.024569</td>\n",
       "      <td>0.141774</td>\n",
       "      <td>0.068237</td>\n",
       "      <td>-0.013388</td>\n",
       "      <td>-0.043553</td>\n",
       "      <td>-0.063092</td>\n",
       "      <td>0.045522</td>\n",
       "      <td>0.041609</td>\n",
       "      <td>0.047102</td>\n",
       "      <td>-0.066005</td>\n",
       "      <td>0.022216</td>\n",
       "      <td>0.070298</td>\n",
       "      <td>0.068894</td>\n",
       "      <td>0.056492</td>\n",
       "      <td>0.049780</td>\n",
       "      <td>-0.083815</td>\n",
       "      <td>0.101665</td>\n",
       "      <td>0.108793</td>\n",
       "      <td>-0.007106</td>\n",
       "      <td>1.000000</td>\n",
       "      <td>0.088060</td>\n",
       "    </tr>\n",
       "    <tr>\n",
       "      <th>score</th>\n",
       "      <td>0.118938</td>\n",
       "      <td>-0.152639</td>\n",
       "      <td>0.208224</td>\n",
       "      <td>0.107148</td>\n",
       "      <td>-0.080700</td>\n",
       "      <td>0.106976</td>\n",
       "      <td>-0.329088</td>\n",
       "      <td>-0.092320</td>\n",
       "      <td>-0.028338</td>\n",
       "      <td>0.105891</td>\n",
       "      <td>0.002531</td>\n",
       "      <td>0.053133</td>\n",
       "      <td>0.129291</td>\n",
       "      <td>0.069618</td>\n",
       "      <td>-0.125808</td>\n",
       "      <td>0.061045</td>\n",
       "      <td>0.039700</td>\n",
       "      <td>-0.121385</td>\n",
       "      <td>-0.060153</td>\n",
       "      <td>0.088060</td>\n",
       "      <td>1.000000</td>\n",
       "    </tr>\n",
       "  </tbody>\n",
       "</table>\n",
       "</div>"
      ],
      "text/plain": [
       "                 sex       age      Medu      Fedu  traveltime  studytime  \\\n",
       "sex         1.000000 -0.085350  0.090698  0.038696    0.059815  -0.300007   \n",
       "age        -0.085350  1.000000 -0.163420 -0.142476    0.100926   0.031080   \n",
       "Medu        0.090698 -0.163420  1.000000  0.630992   -0.192122   0.083939   \n",
       "Fedu        0.038696 -0.142476  0.630992  1.000000   -0.151626  -0.007002   \n",
       "traveltime  0.059815  0.100926 -0.192122 -0.151626    1.000000  -0.113631   \n",
       "studytime  -0.300007  0.031080  0.083939 -0.007002   -0.113631   1.000000   \n",
       "failures    0.006222  0.106941 -0.234819 -0.264568    0.093481  -0.148135   \n",
       "schoolsup  -0.108021 -0.243108 -0.028827  0.056801   -0.012596   0.004633   \n",
       "famsup     -0.126392 -0.128847  0.182664  0.188325   -0.027740   0.106436   \n",
       "paid       -0.107405 -0.026349  0.136725  0.064881   -0.034399   0.199784   \n",
       "activities  0.114001 -0.056198  0.088509  0.081481   -0.012940   0.095387   \n",
       "nursery     0.009417 -0.079076  0.160770  0.110847   -0.053007   0.067351   \n",
       "higher     -0.182396 -0.109582  0.144156  0.179475   -0.150305   0.152042   \n",
       "internet    0.046811 -0.107805  0.206069  0.107700   -0.097260   0.092498   \n",
       "romantic   -0.122337  0.107862  0.002579  0.013106    0.028251   0.050486   \n",
       "famrel      0.033704  0.028957 -0.012128 -0.020644   -0.048554   0.023892   \n",
       "freetime    0.202120  0.010185  0.044842  0.001678   -0.001014  -0.133536   \n",
       "goout       0.056821  0.108384  0.053995  0.050800    0.030959  -0.031774   \n",
       "health      0.141509 -0.036760 -0.054299  0.010154   -0.002727  -0.096497   \n",
       "absences    0.024569  0.141774  0.068237 -0.013388   -0.043553  -0.063092   \n",
       "score       0.118938 -0.152639  0.208224  0.107148   -0.080700   0.106976   \n",
       "\n",
       "            failures  schoolsup    famsup      paid  activities   nursery  \\\n",
       "sex         0.006222  -0.108021 -0.126392 -0.107405    0.114001  0.009417   \n",
       "age         0.106941  -0.243108 -0.128847 -0.026349   -0.056198 -0.079076   \n",
       "Medu       -0.234819  -0.028827  0.182664  0.136725    0.088509  0.160770   \n",
       "Fedu       -0.264568   0.056801  0.188325  0.064881    0.081481  0.110847   \n",
       "traveltime  0.093481  -0.012596 -0.027740 -0.034399   -0.012940 -0.053007   \n",
       "studytime  -0.148135   0.004633  0.106436  0.199784    0.095387  0.067351   \n",
       "failures    1.000000   0.047594 -0.044154 -0.177478   -0.024445 -0.096988   \n",
       "schoolsup   0.047594   1.000000  0.066898 -0.041667    0.028904  0.039300   \n",
       "famsup     -0.044154   0.066898  1.000000  0.273756   -0.034285  0.048069   \n",
       "paid       -0.177478  -0.041667  0.273756  1.000000    0.010521  0.085158   \n",
       "activities -0.024445   0.028904 -0.034285  0.010521    1.000000 -0.057789   \n",
       "nursery    -0.096988   0.039300  0.048069  0.085158   -0.057789  1.000000   \n",
       "higher     -0.227152   0.064621  0.068822  0.147145    0.061056  0.048691   \n",
       "internet   -0.058472  -0.012083  0.131426  0.192962    0.048344  0.032146   \n",
       "romantic    0.076442  -0.014152  0.005033  0.062409   -0.000628  0.034751   \n",
       "famrel     -0.004515  -0.021286 -0.027538  0.003384    0.050925 -0.043479   \n",
       "freetime    0.071691  -0.065230  0.013607 -0.073222    0.075138 -0.041387   \n",
       "goout       0.071293  -0.026752 -0.024460 -0.003272    0.037860 -0.028211   \n",
       "health      0.125761  -0.057728 -0.001284 -0.108215   -0.006071 -0.051650   \n",
       "absences    0.045522   0.041609  0.047102 -0.066005    0.022216  0.070298   \n",
       "score      -0.329088  -0.092320 -0.028338  0.105891    0.002531  0.053133   \n",
       "\n",
       "              higher  internet  romantic    famrel  freetime     goout  \\\n",
       "sex        -0.182396  0.046811 -0.122337  0.033704  0.202120  0.056821   \n",
       "age        -0.109582 -0.107805  0.107862  0.028957  0.010185  0.108384   \n",
       "Medu        0.144156  0.206069  0.002579 -0.012128  0.044842  0.053995   \n",
       "Fedu        0.179475  0.107700  0.013106 -0.020644  0.001678  0.050800   \n",
       "traveltime -0.150305 -0.097260  0.028251 -0.048554 -0.001014  0.030959   \n",
       "studytime   0.152042  0.092498  0.050486  0.023892 -0.133536 -0.031774   \n",
       "failures   -0.227152 -0.058472  0.076442 -0.004515  0.071691  0.071293   \n",
       "schoolsup   0.064621 -0.012083 -0.014152 -0.021286 -0.065230 -0.026752   \n",
       "famsup      0.068822  0.131426  0.005033 -0.027538  0.013607 -0.024460   \n",
       "paid        0.147145  0.192962  0.062409  0.003384 -0.073222 -0.003272   \n",
       "activities  0.061056  0.048344 -0.000628  0.050925  0.075138  0.037860   \n",
       "nursery     0.048691  0.032146  0.034751 -0.043479 -0.041387 -0.028211   \n",
       "higher      1.000000  0.032979 -0.044031  0.013066 -0.093215 -0.023588   \n",
       "internet    0.032979  1.000000  0.088174  0.061717  0.111095  0.100065   \n",
       "romantic   -0.044031  0.088174  1.000000 -0.072259 -0.008837  0.024480   \n",
       "famrel      0.013066  0.061717 -0.072259  1.000000  0.162586  0.077602   \n",
       "freetime   -0.093215  0.111095 -0.008837  0.162586  1.000000  0.281181   \n",
       "goout      -0.023588  0.100065  0.024480  0.077602  0.281181  1.000000   \n",
       "health     -0.014591 -0.069095  0.029633  0.103684  0.052981  0.018997   \n",
       "absences    0.068894  0.056492  0.049780 -0.083815  0.101665  0.108793   \n",
       "score       0.129291  0.069618 -0.125808  0.061045  0.039700 -0.121385   \n",
       "\n",
       "              health  absences     score  \n",
       "sex         0.141509  0.024569  0.118938  \n",
       "age        -0.036760  0.141774 -0.152639  \n",
       "Medu       -0.054299  0.068237  0.208224  \n",
       "Fedu        0.010154 -0.013388  0.107148  \n",
       "traveltime -0.002727 -0.043553 -0.080700  \n",
       "studytime  -0.096497 -0.063092  0.106976  \n",
       "failures    0.125761  0.045522 -0.329088  \n",
       "schoolsup  -0.057728  0.041609 -0.092320  \n",
       "famsup     -0.001284  0.047102 -0.028338  \n",
       "paid       -0.108215 -0.066005  0.105891  \n",
       "activities -0.006071  0.022216  0.002531  \n",
       "nursery    -0.051650  0.070298  0.053133  \n",
       "higher     -0.014591  0.068894  0.129291  \n",
       "internet   -0.069095  0.056492  0.069618  \n",
       "romantic    0.029633  0.049780 -0.125808  \n",
       "famrel      0.103684 -0.083815  0.061045  \n",
       "freetime    0.052981  0.101665  0.039700  \n",
       "goout       0.018997  0.108793 -0.121385  \n",
       "health      1.000000 -0.007106 -0.060153  \n",
       "absences   -0.007106  1.000000  0.088060  \n",
       "score      -0.060153  0.088060  1.000000  "
      ]
     },
     "execution_count": 77,
     "metadata": {},
     "output_type": "execute_result"
    }
   ],
   "source": [
    "unicef.corr()"
   ]
  },
  {
   "cell_type": "markdown",
   "metadata": {},
   "source": [
    "Для того, чтобы выбрать факторы для включения в модель, анализируем последний столбец: корреляцию количественных переменных с переменной score. В модель будут вклчены переменные с наибольшими модулями коэффициента корреляции (что означает наиболее сильную прямую или обратную связь). \n",
    "\n",
    "Предлагаю включать в модель переменные с коэффициентом коррелляции, по модулю большим или равным 0.1. Вот что к ним относится."
   ]
  },
  {
   "cell_type": "markdown",
   "metadata": {},
   "source": [
    "# Выводы по корреляционному анализу\n",
    "\n",
    "1. Наиболее важным фактором, коррелирующим с успеваемостью по математике, является количество внеучебных неудач. Оно обратно коррелирует с количеством набранных баллов (больше неудач - ниже балл). Этот фактор является ключевым фактором риска и требует более детального изучения! Отрицательная корреляция на уровне около 33%.\n",
    "2. Второй по силе фактор - уровень образования матери, что приводит нас к выводу, что именно ожидания матерей сильнее стимулируют учеников к обцению математике. Этическое значение данного фактора оставим при себе, примем его как факт, полученный на выборке. Положительная корреляция на уровне более 20%.\n",
    "3. Третьим по силе фактором является возраст ученика, при чем корреляция обратная: чем младше ученики, тем выше их успеваемость по предмету. Можно предположить, что это связано с более легкой программой у более молодых учеников. Однако для полной оценки данного фактора необходимо ознакомиться с организацией учебного процесса в конкретных школах (также на успеваемость может влиять, например, более сильный преподаватель в младших классах или усиленная специализация с уклоном в другие науки для более старших учеников). Отрицательная корреляция более 15%.\n",
    "\n",
    "*** За наиболее сильными факторами следуют (корреляция на уровне 12% по модулю):\n",
    "4. Стремление получить высшее образование (оценки выше, если такие паны есть)\n",
    "5. Время, проводимое с друзьями (чем его меньше, тем успешнее ученик в математике).\n",
    "6. Наличие романтических отношений (немного успешнее те, у кого их нет). \n",
    "7. Также выяснилось, что пол ученика коррелирует с его успеваемостью по математике: в выборке мальчики показали в среднем лучший результат. Тем не менее, стоит помнить, что корреляция не означает причинной-следственной связи.\n",
    "\n",
    "*** Наиболее слабыми факторами с корреляцией не менее 0,1 являются:\n",
    "8. Уровень образования отца, который влияет в меньшей степени, чем образование матери (однако, мы помним, что и отцов с высшим образованием в нашей выборке было меньше, чем матерей).\n",
    "9. Время, посвящаемое учебе, что неудивительно (удивительно лишь, что связь не сильна).\n",
    "10. Дополнительные платные занятия по математике (которые также демонстрируют странно слабую эффективность)."
   ]
  },
  {
   "cell_type": "markdown",
   "metadata": {},
   "source": [
    "Таким образом, на этом шаге мы выводим из модели такие факторы, как:\n",
    "- семейные отношения,\n",
    "- семейная образовательная поддержка,\n",
    "- дополнительная школьная образовательная поддержка,\n",
    "- время в пути до школы,\n",
    "- дополнительные внеучебные занятия,\n",
    "- свободное время,\n",
    "- состояние здоровья,\n",
    "- количество пропущенных занятий (удивительно), \n",
    "- посещение детского сада,\n",
    "- наличие интернета.\n",
    "\n",
    "Все эти факторы рекомендую не включать в модель."
   ]
  },
  {
   "cell_type": "markdown",
   "metadata": {},
   "source": [
    "# Анализ влияния номинативных переменных"
   ]
  },
  {
   "cell_type": "code",
   "execution_count": 78,
   "metadata": {},
   "outputs": [
    {
     "data": {
      "image/png": "[encoded data removed]",
      "text/plain": [
       "<Figure size 1008x288 with 1 Axes>"
      ]
     },
     "metadata": {
      "needs_background": "light"
     },
     "output_type": "display_data"
    },
    {
     "data": {
      "image/png": "[encoded data removed]",
      "text/plain": [
       "<Figure size 1008x288 with 1 Axes>"
      ]
     },
     "metadata": {
      "needs_background": "light"
     },
     "output_type": "display_data"
    },
    {
     "data": {
      "image/png": "[encoded data removed]",
      "text/plain": [
       "<Figure size 1008x288 with 1 Axes>"
      ]
     },
     "metadata": {
      "needs_background": "light"
     },
     "output_type": "display_data"
    },
    {
     "data": {
      "image/png": "[encoded data removed]",
      "text/plain": [
       "<Figure size 1008x288 with 1 Axes>"
      ]
     },
     "metadata": {
      "needs_background": "light"
     },
     "output_type": "display_data"
    },
    {
     "data": {
      "image/png": "[encoded data removed]",
      "text/plain": [
       "<Figure size 1008x288 with 1 Axes>"
      ]
     },
     "metadata": {
      "needs_background": "light"
     },
     "output_type": "display_data"
    },
    {
     "data": {
      "image/png": "[encoded data removed]",
      "text/plain": [
       "<Figure size 1008x288 with 1 Axes>"
      ]
     },
     "metadata": {
      "needs_background": "light"
     },
     "output_type": "display_data"
    }
   ],
   "source": [
    "for col in ['school', 'address', 'famsize', 'Pstatus', 'Mjob', 'reason']:\n",
    "    get_boxplot(col)"
   ]
  },
  {
   "cell_type": "markdown",
   "metadata": {},
   "source": [
    "Невооруженным взглядом видно, что:\n",
    "1. Медианное значение балла по математике в школе MS ниже, чем чем в GP. Также у нее и меньше разброс показаний (возможно, связано с тем, что выборка по этой школе меньше),\n",
    "2. Городские ученики показывают более высокие результаты по математике (например, для них нулевое значение является выбросом)\n",
    "3. В больших семьях такое же медианное значение успеваемости - однако больше разброс оценок.\n",
    "4. Дети матерей-врачей успевают в математике немного лучше, чем их товарищи по парте (странная закономерность, которая снова приводит к мысли, что школы, наверное, медицинские и матери-медики просто сильнее давят на детей)."
   ]
  },
  {
   "cell_type": "markdown",
   "metadata": {},
   "source": [
    "Далее попробуем оценить статистическую значимые отличия, провернув фокус из примера с какао (я правда не знаю про поправку Бонферони, объясните при разборе, а?)"
   ]
  },
  {
   "cell_type": "code",
   "execution_count": 79,
   "metadata": {},
   "outputs": [],
   "source": [
    "def get_stat_dif(column):\n",
    "    cols = unicef.loc[:, column]\n",
    "    combinations_all = list(combinations(cols, 2))\n",
    "    for comb in combinations_all:\n",
    "        if ttest_ind(unicef.loc[unicef.loc[:, column] == comb[0], 'score'],\n",
    "                     unicef.loc[unicef.loc[:, column] == comb[1], 'score']).pvalue \\\n",
    "                <= 0.05/len(combinations_all):  # Учли поправку Бонферони\n",
    "            print('Найдены статистически значимые различия для колонки', column)\n",
    "            break"
   ]
  },
  {
   "cell_type": "code",
   "execution_count": 80,
   "metadata": {},
   "outputs": [],
   "source": [
    "for col in ['school', 'address', 'famsize', 'Pstatus', 'Mjob', 'reason']:\n",
    "    get_stat_dif(col)"
   ]
  },
  {
   "cell_type": "markdown",
   "metadata": {},
   "source": [
    "Просчет колонок с данными типа object показал, что среди них нет существенно влияющих на оценку по математике. Таким образом, мы не считаем факторами риска следующие переменные:\n",
    "- школу,\n",
    "- проживание в городе или за городом,\n",
    "- размер семьи,\n",
    "- совместное или раздельное проживание родителей,\n",
    "- профессию матери (как ранее мы отмели профессию отца),\n",
    "- причину выбора школы."
   ]
  },
  {
   "cell_type": "markdown",
   "metadata": {},
   "source": [
    "# Финальные выводы\n",
    "\n",
    "Данные, с которыми мы работаем, довольно чистые: в них присутствуют пропуски, однако крайне мало ошибок ручного ввода. Существенные выбросы среди факторных столбцов содержатся только в столбце \"absenses\" (вероятно, это не ошибки ввода, а настоящие длительные пропуски занятий, связанные с отъездами, прогулами, состоянием здоровья и проч.)\n",
    "\n",
    "В риск-модель успеваемости по математике необходимо включить следующие переменные:\n",
    "1. Количество внеучебных неудач (фактор риска),\n",
    "2. Уровень образования матери,\n",
    "3. Возраст ученика (риск растет с возрастом).\n",
    "\n",
    "Рекомендую также включить факторы более слабого влияния:\n",
    "4. Желание получить высшее образование,\n",
    "5. Время, проводимое с друзьями (фактор риска),\n",
    "6. Романтические отношения (фактор риска),\n",
    "7. Пол.\n",
    "\n",
    "Также возможно включение дополнительных факторов таких как:\n",
    "8. Уровень образования отца,\n",
    "9. Дополнительные платные занятия по математике,\n",
    "10. Время, посвящаемое учебе.\n",
    "Решение о включении или невключении данных факторов оставляю на усмотрение команды проекта, в зависимости от имеющихся ресурсов и требуемого уровня точности предсказания рисков.\n",
    "\n",
    "***\n",
    "Особое мнение.\n",
    "Учет некоторых факторов (например, пола или наличия романтических отношений) может иметь негативные этические последствия: например, приводить к формированию стереотипов (\"девочки хуже разбираются в математике\", \"запретим им встречаться, пусть лучше учатся\" и так далее). Прошу команду проекта продумать механизмы, защищающие обучающихся и их личную жизнь от посягательств со стороны администрации и преподавательского состава. Выбранные факторы призваны составить точную предиктивную модель и помочь ребятам, но не приводить к предрассудкам, которые сами по себе могут влиять на успеваемость учеников."
   ]
  }
 ],
 "metadata": {
  "kernelspec": {
   "display_name": "Python 3",
   "language": "python",
   "name": "python3"
  },
  "language_info": {
   "codemirror_mode": {
    "name": "ipython",
    "version": 3
   },
   "file_extension": ".py",
   "mimetype": "text/x-python",
   "name": "python",
   "nbconvert_exporter": "python",
   "pygments_lexer": "ipython3",
   "version": "3.7.6"
  }
 },
 "nbformat": 4,
 "nbformat_minor": 4
}
